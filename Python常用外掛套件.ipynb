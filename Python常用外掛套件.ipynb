{
  "nbformat": 4,
  "nbformat_minor": 0,
  "metadata": {
    "colab": {
      "provenance": [],
      "collapsed_sections": [
        "nxMCNDgp4IWg",
        "1qRm3A7U-ET8",
        "F1O5yr1vCRE6",
        "oKlAUO2XEG_9",
        "IxTZ2PVIG5sX",
        "03WTdjgGjQp8",
        "prZ2YDQFlAAK",
        "kN0kksFQm3n0",
        "lxqQzEKXrmI_",
        "PA0FvxUwxJ9B",
        "bgxSMXQoyaBR",
        "59EL6z0R638K",
        "NXCMJLveHDkx",
        "3C4a-U2OWwkt",
        "XHsNO84HbF1Y",
        "9CW-yrROddi7",
        "1aJQe-V1vy_A",
        "7TXCZp4WycHK",
        "-nNqSzCl0rbA",
        "x-7LH_6PVr3z",
        "JjusUAChXRAD"
      ],
      "include_colab_link": true
    },
    "kernelspec": {
      "name": "python3",
      "display_name": "Python 3"
    },
    "language_info": {
      "name": "python"
    }
  },
  "cells": [
    {
      "cell_type": "markdown",
      "metadata": {
        "id": "view-in-github",
        "colab_type": "text"
      },
      "source": [
        "<a href=\"https://colab.research.google.com/github/YaXun112/Colab/blob/main/Python%E5%B8%B8%E7%94%A8%E5%A4%96%E6%8E%9B%E5%A5%97%E4%BB%B6.ipynb\" target=\"_parent\"><img src=\"https://colab.research.google.com/assets/colab-badge.svg\" alt=\"Open In Colab\"/></a>"
      ]
    },
    {
      "cell_type": "markdown",
      "source": [
        "# §§ 1 Numpy\n",
        "* 處理「陣列」，其為相同資料型態元素的集合，亦為 panda, SciPy, SciKit-Learn 等套件的基礎架構。"
      ],
      "metadata": {
        "id": "V_YKyFER79l3"
      }
    },
    {
      "cell_type": "code",
      "source": [
        "!pip install numpy -U"
      ],
      "metadata": {
        "colab": {
          "base_uri": "https://localhost:8080/"
        },
        "id": "lL40dsdzPgUt",
        "outputId": "f885514f-d029-4e81-edb9-f166164dbc9e"
      },
      "execution_count": 1,
      "outputs": [
        {
          "output_type": "stream",
          "name": "stdout",
          "text": [
            "Requirement already satisfied: numpy in /usr/local/lib/python3.10/dist-packages (2.1.0)\n"
          ]
        }
      ]
    },
    {
      "cell_type": "code",
      "source": [
        "import numpy as np"
      ],
      "metadata": {
        "id": "anl4OqU09KXi"
      },
      "execution_count": 2,
      "outputs": []
    },
    {
      "cell_type": "markdown",
      "source": [
        "## § 1-1 建立陣列"
      ],
      "metadata": {
        "id": "COcaxZD68y8i"
      }
    },
    {
      "cell_type": "code",
      "execution_count": 3,
      "metadata": {
        "colab": {
          "base_uri": "https://localhost:8080/"
        },
        "id": "JuvtYAbR5MPt",
        "outputId": "2ec8a9f1-7416-4b3b-8ad8-f67181c3a515"
      },
      "outputs": [
        {
          "output_type": "stream",
          "name": "stdout",
          "text": [
            "[1 2 3]\n"
          ]
        }
      ],
      "source": [
        "# 建立一維陣列\n",
        "ary1 = np.array([1, 2, 3])\n",
        "print(ary1)"
      ]
    },
    {
      "cell_type": "code",
      "source": [
        "# 建立二維陣列\n",
        "ary2 = np.array([[1, 2, 3],[4, 5, 6]])\n",
        "print(ary2)"
      ],
      "metadata": {
        "colab": {
          "base_uri": "https://localhost:8080/"
        },
        "id": "iZfjCfcc9XsH",
        "outputId": "f223dfe4-196e-453c-82ec-29526e1072f2"
      },
      "execution_count": 4,
      "outputs": [
        {
          "output_type": "stream",
          "name": "stdout",
          "text": [
            "[[1 2 3]\n",
            " [4 5 6]]\n"
          ]
        }
      ]
    },
    {
      "cell_type": "markdown",
      "source": [
        "### ⁋ 利用list來建立陣列"
      ],
      "metadata": {
        "id": "nxMCNDgp4IWg"
      }
    },
    {
      "cell_type": "code",
      "source": [
        "# Integer List\n",
        "List1 = list(range(10))\n",
        "print(List1)\n",
        "print(type(List1))\n",
        "print(type(List1[0]))\n",
        "[type(item) for item in List1]"
      ],
      "metadata": {
        "colab": {
          "base_uri": "https://localhost:8080/"
        },
        "id": "8vSu7KAYM06f",
        "outputId": "739e0a82-23f8-4d57-92d3-0f743f425f04"
      },
      "execution_count": 5,
      "outputs": [
        {
          "output_type": "stream",
          "name": "stdout",
          "text": [
            "[0, 1, 2, 3, 4, 5, 6, 7, 8, 9]\n",
            "<class 'list'>\n",
            "<class 'int'>\n"
          ]
        },
        {
          "output_type": "execute_result",
          "data": {
            "text/plain": [
              "[int, int, int, int, int, int, int, int, int, int]"
            ]
          },
          "metadata": {},
          "execution_count": 5
        }
      ]
    },
    {
      "cell_type": "code",
      "source": [
        "# String List\n",
        "List2 = [str(c) for c in List1] # c or char is character\n",
        "print(List2)\n",
        "print(type(List2))\n",
        "print(type(List2[0]))\n",
        "[type(item) for item in List2]"
      ],
      "metadata": {
        "colab": {
          "base_uri": "https://localhost:8080/"
        },
        "id": "LFQEkPJgNbbp",
        "outputId": "a21a15cf-9b07-4b1a-f0ee-9fcdbe1c60ec"
      },
      "execution_count": 6,
      "outputs": [
        {
          "output_type": "stream",
          "name": "stdout",
          "text": [
            "['0', '1', '2', '3', '4', '5', '6', '7', '8', '9']\n",
            "<class 'list'>\n",
            "<class 'str'>\n"
          ]
        },
        {
          "output_type": "execute_result",
          "data": {
            "text/plain": [
              "[str, str, str, str, str, str, str, str, str, str]"
            ]
          },
          "metadata": {},
          "execution_count": 6
        }
      ]
    },
    {
      "cell_type": "code",
      "source": [
        "# Heterogeneous List\n",
        "List3 = [True, \"2\", 3.0, 4] # 因為Python的動態型態特性，可建立異質的list\n",
        "[type(item) for item in List3]"
      ],
      "metadata": {
        "colab": {
          "base_uri": "https://localhost:8080/"
        },
        "id": "H8JGzrz2SuVf",
        "outputId": "06473ff0-5265-4579-b6a7-50583f04a6d5"
      },
      "execution_count": 7,
      "outputs": [
        {
          "output_type": "execute_result",
          "data": {
            "text/plain": [
              "[bool, str, float, int]"
            ]
          },
          "metadata": {},
          "execution_count": 7
        }
      ]
    },
    {
      "cell_type": "code",
      "source": [
        "# 建立三維陣列\n",
        "ary3 = np.array([range(i, i+3) for i in [1, 4, 7]]) # 可使用巢狀list產生多維的陣列\n",
        "print(ary3)"
      ],
      "metadata": {
        "colab": {
          "base_uri": "https://localhost:8080/"
        },
        "id": "cQnKFqu2LFQ-",
        "outputId": "f3bf56f7-cd61-4196-d89b-3802c5df990d"
      },
      "execution_count": 8,
      "outputs": [
        {
          "output_type": "stream",
          "name": "stdout",
          "text": [
            "[[1 2 3]\n",
            " [4 5 6]\n",
            " [7 8 9]]\n"
          ]
        }
      ]
    },
    {
      "cell_type": "markdown",
      "source": [
        "### ⁋ 若輸入「資料型態不同」的資料，會通通變成字串。"
      ],
      "metadata": {
        "id": "1qRm3A7U-ET8"
      }
    },
    {
      "cell_type": "code",
      "source": [
        "ary4 = np.array([15, \"Apple\", True]) # 建立「資料型態不同」一維陣列\n",
        "print(ary4)"
      ],
      "metadata": {
        "colab": {
          "base_uri": "https://localhost:8080/"
        },
        "id": "0bBed-7D94oF",
        "outputId": "2953f75f-d41a-4a67-ba19-1bfe87e7dd8f"
      },
      "execution_count": 9,
      "outputs": [
        {
          "output_type": "stream",
          "name": "stdout",
          "text": [
            "['15' 'Apple' 'True']\n"
          ]
        }
      ]
    },
    {
      "cell_type": "markdown",
      "source": [
        "### ⁋ Broadcasting"
      ],
      "metadata": {
        "id": "dXvrF-Gg35Bj"
      }
    },
    {
      "cell_type": "code",
      "source": [
        "zero1_row = np.zeros((3,)) # one-dimentional row zeros vector\n",
        "print(zero1_row, \"\\n\")\n",
        "\n",
        "zero1_col = np.zeros((3,1)) # one-dimentional column zeros vector\n",
        "print(zero1_col)\n",
        "\n",
        "# 資料型態皆為浮點數"
      ],
      "metadata": {
        "colab": {
          "base_uri": "https://localhost:8080/"
        },
        "id": "LIGgxJpY-hsu",
        "outputId": "efae3190-4675-46e7-c01d-5c1304edc000"
      },
      "execution_count": 10,
      "outputs": [
        {
          "output_type": "stream",
          "name": "stdout",
          "text": [
            "[0. 0. 0.] \n",
            "\n",
            "[[0.]\n",
            " [0.]\n",
            " [0.]]\n"
          ]
        }
      ]
    },
    {
      "cell_type": "code",
      "source": [
        "zero1_col = np.zeros((3))[:, np.newaxis] # one-dimentional column zeros vector\n",
        "print(zero1_col)"
      ],
      "metadata": {
        "colab": {
          "base_uri": "https://localhost:8080/"
        },
        "id": "fG_HxtYX8iOV",
        "outputId": "658e984d-612f-4df6-ea8f-a31e9a14c219"
      },
      "execution_count": 11,
      "outputs": [
        {
          "output_type": "stream",
          "name": "stdout",
          "text": [
            "[[0.]\n",
            " [0.]\n",
            " [0.]]\n"
          ]
        }
      ]
    },
    {
      "cell_type": "code",
      "source": [
        "zero2 = np.zeros((2,3)) # two-dimentional zeros matrix\n",
        "print(zero2)\n",
        "\n",
        "# 資料型態皆為浮點數"
      ],
      "metadata": {
        "colab": {
          "base_uri": "https://localhost:8080/"
        },
        "id": "nxOudxkJ_m2F",
        "outputId": "da7657f6-1362-4801-a69b-1a9673e2b7a2"
      },
      "execution_count": 12,
      "outputs": [
        {
          "output_type": "stream",
          "name": "stdout",
          "text": [
            "[[0. 0. 0.]\n",
            " [0. 0. 0.]]\n"
          ]
        }
      ]
    },
    {
      "cell_type": "code",
      "source": [
        "identity1 = np.eye(1) # one-dimentional identity matrix\n",
        "print(identity1, \"\\n\")\n",
        "\n",
        "identity2 = np.eye(2) # two-dimentional identity matrix\n",
        "print(identity2, \"\\n\")\n",
        "\n",
        "identity3 = np.eye(3) # three-dimentional identity matrix\n",
        "print(identity3, \"\\n\")\n",
        "\n",
        "identity4 = np.eye(4) # four-dimentional identity matrix\n",
        "print(identity4)\n",
        "\n",
        "# 資料型態皆為浮點數"
      ],
      "metadata": {
        "colab": {
          "base_uri": "https://localhost:8080/"
        },
        "id": "dGOG8oUzAQWj",
        "outputId": "f9803f83-bce6-4608-efed-29232caef034"
      },
      "execution_count": 13,
      "outputs": [
        {
          "output_type": "stream",
          "name": "stdout",
          "text": [
            "[[1.]] \n",
            "\n",
            "[[1. 0.]\n",
            " [0. 1.]] \n",
            "\n",
            "[[1. 0. 0.]\n",
            " [0. 1. 0.]\n",
            " [0. 0. 1.]] \n",
            "\n",
            "[[1. 0. 0. 0.]\n",
            " [0. 1. 0. 0.]\n",
            " [0. 0. 1. 0.]\n",
            " [0. 0. 0. 1.]]\n"
          ]
        }
      ]
    },
    {
      "cell_type": "code",
      "source": [
        "one1 = np.ones((3,)) # one-dimentional ones vector\n",
        "print(one1, \"\\n\")\n",
        "\n",
        "one2 = np.ones((2,4)) # two-dimentional ones matrix\n",
        "print(one2)\n",
        "\n",
        "# 資料型態皆為浮點數"
      ],
      "metadata": {
        "id": "8208AZvdAr2y",
        "colab": {
          "base_uri": "https://localhost:8080/"
        },
        "outputId": "33e50d87-a6e0-49d5-8f55-d150130733ee"
      },
      "execution_count": 14,
      "outputs": [
        {
          "output_type": "stream",
          "name": "stdout",
          "text": [
            "[1. 1. 1.] \n",
            "\n",
            "[[1. 1. 1. 1.]\n",
            " [1. 1. 1. 1.]]\n"
          ]
        }
      ]
    },
    {
      "cell_type": "code",
      "source": [
        "const1 = np.full((3,), 5) # one-dimentional constant vector\n",
        "print(const1, \"\\n\")\n",
        "\n",
        "const2 = np.full((2,3), 5) # two-dimentional constant matrix\n",
        "print(const2)\n",
        "\n",
        "# 資料型態皆為整數"
      ],
      "metadata": {
        "colab": {
          "base_uri": "https://localhost:8080/"
        },
        "id": "9YWi35GEBdJL",
        "outputId": "85f86a5c-0ee5-4de0-9f09-9801de1e1b41"
      },
      "execution_count": 15,
      "outputs": [
        {
          "output_type": "stream",
          "name": "stdout",
          "text": [
            "[5 5 5] \n",
            "\n",
            "[[5 5 5]\n",
            " [5 5 5]]\n"
          ]
        }
      ]
    },
    {
      "cell_type": "code",
      "source": [
        "print(identity3 + one1, \"\\n\") # 矩陣相加\n",
        "print(identity3 - one1, \"\\n\") # 矩陣相減"
      ],
      "metadata": {
        "colab": {
          "base_uri": "https://localhost:8080/"
        },
        "id": "AlC5hgse4ZQx",
        "outputId": "ca6fd676-0848-429f-dc4c-4b1100f0fcb1"
      },
      "execution_count": 16,
      "outputs": [
        {
          "output_type": "stream",
          "name": "stdout",
          "text": [
            "[[2. 1. 1.]\n",
            " [1. 2. 1.]\n",
            " [1. 1. 2.]] \n",
            "\n",
            "[[ 0. -1. -1.]\n",
            " [-1.  0. -1.]\n",
            " [-1. -1.  0.]] \n",
            "\n"
          ]
        }
      ]
    },
    {
      "cell_type": "code",
      "source": [
        "print(one1 + one1, \"\\n\") # 列向量相加\n",
        "print(one1[:,np.newaxis] + one1[:,np.newaxis], \"\\n\") # 行向量相加\n",
        "print(one1 + one1[:,np.newaxis]) # 列向量＋行向量"
      ],
      "metadata": {
        "colab": {
          "base_uri": "https://localhost:8080/"
        },
        "id": "q4CuSjpb9Jnr",
        "outputId": "bfd6bc05-0416-4541-8cd7-c0a56ec63811"
      },
      "execution_count": 17,
      "outputs": [
        {
          "output_type": "stream",
          "name": "stdout",
          "text": [
            "[2. 2. 2.] \n",
            "\n",
            "[[2.]\n",
            " [2.]\n",
            " [2.]] \n",
            "\n",
            "[[2. 2. 2.]\n",
            " [2. 2. 2.]\n",
            " [2. 2. 2.]]\n"
          ]
        }
      ]
    },
    {
      "cell_type": "markdown",
      "source": [
        "## § 1-2 讀寫 NumPy 元素"
      ],
      "metadata": {
        "id": "F1O5yr1vCRE6"
      }
    },
    {
      "cell_type": "code",
      "source": [
        "# 讀取陣列元素\n",
        "\n",
        "ary1 = np.array([1, 2, 3])\n",
        "print(ary1[0],',', ary1[2])"
      ],
      "metadata": {
        "colab": {
          "base_uri": "https://localhost:8080/"
        },
        "id": "tWbB6ZMWCXLP",
        "outputId": "5131609a-990f-48ec-b070-6d7e11328707"
      },
      "execution_count": 18,
      "outputs": [
        {
          "output_type": "stream",
          "name": "stdout",
          "text": [
            "1 , 3\n"
          ]
        }
      ]
    },
    {
      "cell_type": "code",
      "source": [
        "# 陣列索引為-1，即為陣列末尾\n",
        "\n",
        "ary1 = np.array([1, 2, 3])\n",
        "print(ary1[2],'=', ary1[-1])"
      ],
      "metadata": {
        "colab": {
          "base_uri": "https://localhost:8080/"
        },
        "id": "XbhNYwaChnYv",
        "outputId": "6a5c6e98-b897-4b14-ec76-5d28f7810e95"
      },
      "execution_count": 19,
      "outputs": [
        {
          "output_type": "stream",
          "name": "stdout",
          "text": [
            "3 = 3\n"
          ]
        }
      ]
    },
    {
      "cell_type": "code",
      "source": [
        "# 依此類推\n",
        "\n",
        "ary1 = np.array([1, 2, 3])\n",
        "print(ary1[1],'=', ary1[-2])"
      ],
      "metadata": {
        "colab": {
          "base_uri": "https://localhost:8080/"
        },
        "id": "HqzZHWjFiR_F",
        "outputId": "5809e796-bbb9-4e08-d6b8-c3f284840a4e"
      },
      "execution_count": 20,
      "outputs": [
        {
          "output_type": "stream",
          "name": "stdout",
          "text": [
            "2 = 2\n"
          ]
        }
      ]
    },
    {
      "cell_type": "code",
      "source": [
        "# 直接寫入陣列元素，並取代原先的元素\n",
        "\n",
        "ary1 = np.array([1, 2, 3])\n",
        "ary1[0] = 100\n",
        "ary1[2] = 600\n",
        "print(ary1)"
      ],
      "metadata": {
        "colab": {
          "base_uri": "https://localhost:8080/"
        },
        "id": "cD_Q06UQC82b",
        "outputId": "a7c28f85-7997-44ed-95d1-b1ac6ad07c2c"
      },
      "execution_count": 21,
      "outputs": [
        {
          "output_type": "stream",
          "name": "stdout",
          "text": [
            "[100   2 600]\n"
          ]
        }
      ]
    },
    {
      "cell_type": "code",
      "source": [
        "ary1 = np.array([1, 2, 3])\n",
        "ary1_copy = ary1.copy()\n",
        "ary1_copy[0] = 100\n",
        "ary1_copy[2] = 600\n",
        "print(ary1)\n",
        "print(ary1_copy)"
      ],
      "metadata": {
        "colab": {
          "base_uri": "https://localhost:8080/"
        },
        "id": "IwTvsCaOp3l5",
        "outputId": "653bc116-9f7b-4332-bdd0-76226ac1f9a9"
      },
      "execution_count": 22,
      "outputs": [
        {
          "output_type": "stream",
          "name": "stdout",
          "text": [
            "[1 2 3]\n",
            "[100   2 600]\n"
          ]
        }
      ]
    },
    {
      "cell_type": "markdown",
      "source": [
        "## § 1-3 讀取 NumPy 本身資訊"
      ],
      "metadata": {
        "id": "oKlAUO2XEG_9"
      }
    },
    {
      "cell_type": "code",
      "source": [
        "# 讀取陣列本身「資料型態(Type)」\n",
        "\n",
        "print(type(ary1))\n",
        "\n",
        "# \"ndarray\" is an abbreviation for \"N-Dimential Array\""
      ],
      "metadata": {
        "colab": {
          "base_uri": "https://localhost:8080/"
        },
        "id": "DR3nWKCeDvYx",
        "outputId": "26616ff2-de39-4cf1-a66d-21ad13b48276"
      },
      "execution_count": 23,
      "outputs": [
        {
          "output_type": "stream",
          "name": "stdout",
          "text": [
            "<class 'numpy.ndarray'>\n"
          ]
        }
      ]
    },
    {
      "cell_type": "code",
      "source": [
        "# 讀取陣列本身「維度(N-Dimential)」\n",
        "\n",
        "print(ary1.ndim, 'Dimension')"
      ],
      "metadata": {
        "colab": {
          "base_uri": "https://localhost:8080/"
        },
        "id": "BrMbuH0uEfke",
        "outputId": "acb6990f-a0f3-4ffc-ab04-40574a964fe0"
      },
      "execution_count": 24,
      "outputs": [
        {
          "output_type": "stream",
          "name": "stdout",
          "text": [
            "1 Dimension\n"
          ]
        }
      ]
    },
    {
      "cell_type": "code",
      "source": [
        "# 讀取陣列本身「行列數(Shape)」\n",
        "\n",
        "print(ary1.shape)"
      ],
      "metadata": {
        "colab": {
          "base_uri": "https://localhost:8080/"
        },
        "id": "2zTg4HVGF2gx",
        "outputId": "114d0559-5927-4c9e-ec0f-5f54f2445724"
      },
      "execution_count": 25,
      "outputs": [
        {
          "output_type": "stream",
          "name": "stdout",
          "text": [
            "(3,)\n"
          ]
        }
      ]
    },
    {
      "cell_type": "code",
      "source": [
        "# 讀取陣列本身「資料型態(Data Type)」\n",
        "\n",
        "print(ary1.dtype)\n",
        "\n",
        "# 資料型態以及位元\n",
        "# 整數：int8, int16, int32, int64\n",
        "# 浮點數：float16, float32, float64\n",
        "# 字串：unicode\n",
        "# 布林值：bool"
      ],
      "metadata": {
        "colab": {
          "base_uri": "https://localhost:8080/"
        },
        "id": "NJfCwVJgGRxQ",
        "outputId": "9d00696e-c703-47eb-d73f-25f52e217a16"
      },
      "execution_count": 26,
      "outputs": [
        {
          "output_type": "stream",
          "name": "stdout",
          "text": [
            "int64\n"
          ]
        }
      ]
    },
    {
      "cell_type": "markdown",
      "source": [
        "## § 1-4 用 NumPy 產生樣本點\n",
        "\n",
        "### 1. 產生「線性」樣本點\n",
        "* 洗牌\n",
        "* 更改維度\n",
        "* 更改資料型態\n",
        "\n",
        "### 2. 產生「特定間隔」樣本點\n",
        "* 「線性等間隔」樣本點\n",
        "* 「指數間隔」樣本點\n",
        "\n",
        "### 3. 產生「亂數」樣本點\n",
        "* 整數亂數\n",
        "* 浮點數亂數\n",
        "* 類別資料亂數\n",
        "\n",
        "### 4. 產生「常態分佈」樣本點\n",
        "* 標準常態分佈\n",
        "* 一般常態分佈\n",
        "\n",
        "### 5. 取出「不重複」樣本點\n",
        "\n",
        "\n"
      ],
      "metadata": {
        "id": "IxTZ2PVIG5sX"
      }
    },
    {
      "cell_type": "code",
      "source": [
        "# Array RANGE 產生「線性」樣本點\n",
        "\n",
        "sample1 = np.arange(0., 5., 0.2) # [0,5) and inteval = 0.2\n",
        "print(sample1)"
      ],
      "metadata": {
        "colab": {
          "base_uri": "https://localhost:8080/"
        },
        "id": "SLNOi-PvGbmY",
        "outputId": "7d56d65d-7695-4d33-f225-600ae5b2f0d1"
      },
      "execution_count": 27,
      "outputs": [
        {
          "output_type": "stream",
          "name": "stdout",
          "text": [
            "[0.  0.2 0.4 0.6 0.8 1.  1.2 1.4 1.6 1.8 2.  2.2 2.4 2.6 2.8 3.  3.2 3.4\n",
            " 3.6 3.8 4.  4.2 4.4 4.6 4.8]\n"
          ]
        }
      ]
    },
    {
      "cell_type": "code",
      "source": [
        "# 「線性」樣本點 洗牌 shuffle\n",
        "\n",
        "sample1 = np.arange(0., 5., 0.2)\n",
        "np.random.shuffle(sample1)\n",
        "print(sample1)"
      ],
      "metadata": {
        "colab": {
          "base_uri": "https://localhost:8080/"
        },
        "id": "9dnCDFW6JlsH",
        "outputId": "ea3da2cc-9967-43f8-ef3a-4a3bdb1ca084"
      },
      "execution_count": 28,
      "outputs": [
        {
          "output_type": "stream",
          "name": "stdout",
          "text": [
            "[3.2 2.  2.8 0.2 1.8 4.6 2.6 2.4 4.  0.6 3.8 3.6 1.4 0.8 1.6 0.  3.4 1.2\n",
            " 4.8 3.  2.2 0.4 4.4 1.  4.2]\n"
          ]
        }
      ]
    },
    {
      "cell_type": "code",
      "source": [
        "# 「線性」樣本點 更改維度 reshape\n",
        "\n",
        "sample1 = np.arange(0., 5., 0.2)\n",
        "sample1 = sample1.reshape(5,5)\n",
        "print(sample1)"
      ],
      "metadata": {
        "colab": {
          "base_uri": "https://localhost:8080/"
        },
        "id": "vlSWkuK7KawL",
        "outputId": "f6969f29-b465-4f18-f7d8-bd6355f7f579"
      },
      "execution_count": 29,
      "outputs": [
        {
          "output_type": "stream",
          "name": "stdout",
          "text": [
            "[[0.  0.2 0.4 0.6 0.8]\n",
            " [1.  1.2 1.4 1.6 1.8]\n",
            " [2.  2.2 2.4 2.6 2.8]\n",
            " [3.  3.2 3.4 3.6 3.8]\n",
            " [4.  4.2 4.4 4.6 4.8]]\n"
          ]
        }
      ]
    },
    {
      "cell_type": "code",
      "source": [
        "# 「線性」樣本點 更改資料型態\n",
        "\n",
        "sample1 = np.arange(0., 5., 0.2)\n",
        "sample1 = sample1.astype(\"unicode\")\n",
        "print(sample1)"
      ],
      "metadata": {
        "colab": {
          "base_uri": "https://localhost:8080/"
        },
        "id": "Ba-yryx6KtNg",
        "outputId": "ad99ab76-a8fc-4b8f-80b6-b10a5f018a9a"
      },
      "execution_count": 30,
      "outputs": [
        {
          "output_type": "stream",
          "name": "stdout",
          "text": [
            "['0.0' '0.2' '0.4' '0.6000000000000001' '0.8' '1.0' '1.2000000000000002'\n",
            " '1.4000000000000001' '1.6' '1.8' '2.0' '2.2' '2.4000000000000004' '2.6'\n",
            " '2.8000000000000003' '3.0' '3.2' '3.4000000000000004' '3.6'\n",
            " '3.8000000000000003' '4.0' '4.2' '4.4' '4.6000000000000005'\n",
            " '4.800000000000001']\n"
          ]
        }
      ]
    },
    {
      "cell_type": "code",
      "source": [
        "# LINear SPACE 產生「線性等間隔」樣本點\n",
        "\n",
        "sample2 = np.linspace(0., 5., 5)\n",
        "print(sample2)"
      ],
      "metadata": {
        "colab": {
          "base_uri": "https://localhost:8080/"
        },
        "id": "2cleNvzsLLPL",
        "outputId": "8d3b49dc-67ad-45c7-bc4a-87ccafd13ea8"
      },
      "execution_count": 31,
      "outputs": [
        {
          "output_type": "stream",
          "name": "stdout",
          "text": [
            "[0.   1.25 2.5  3.75 5.  ]\n"
          ]
        }
      ]
    },
    {
      "cell_type": "code",
      "source": [
        "# Log SPACE 產生「指數間隔」樣本點\n",
        "\n",
        "sample3 = np.logspace(0., 5., 5) #以10為底\n",
        "print(sample3)"
      ],
      "metadata": {
        "colab": {
          "base_uri": "https://localhost:8080/"
        },
        "id": "dGVgh5kmMBcF",
        "outputId": "2bdb7539-4294-4010-de4c-99c4bb1b8e99"
      },
      "execution_count": 32,
      "outputs": [
        {
          "output_type": "stream",
          "name": "stdout",
          "text": [
            "[1.00000000e+00 1.77827941e+01 3.16227766e+02 5.62341325e+03\n",
            " 1.00000000e+05]\n"
          ]
        }
      ]
    },
    {
      "cell_type": "code",
      "source": [
        "# 產生「整數亂數」樣本點\n",
        "\n",
        "sample4 = np.random.randint(1, 7, size=15) # [1,7) and size = 15, like dice running 15 times\n",
        "print(sample4)"
      ],
      "metadata": {
        "colab": {
          "base_uri": "https://localhost:8080/"
        },
        "id": "l4BBnwiHMeFk",
        "outputId": "a9688bb9-1339-4f0a-99c6-6df1cf7485df"
      },
      "execution_count": 33,
      "outputs": [
        {
          "output_type": "stream",
          "name": "stdout",
          "text": [
            "[1 2 2 5 1 3 1 6 2 2 1 1 3 5 4]\n"
          ]
        }
      ]
    },
    {
      "cell_type": "code",
      "source": [
        "# 產生「浮點數亂數」樣本點\n",
        "\n",
        "sample5 = np.random.rand(2, 3) # [0,1) and size = (2,3)\n",
        "print(sample5)"
      ],
      "metadata": {
        "colab": {
          "base_uri": "https://localhost:8080/"
        },
        "id": "tp14-3k3Oaj7",
        "outputId": "df6f3340-735b-466f-babf-c4170ae3adc5"
      },
      "execution_count": 34,
      "outputs": [
        {
          "output_type": "stream",
          "name": "stdout",
          "text": [
            "[[0.43619233 0.7770255  0.11057976]\n",
            " [0.32440548 0.12014881 0.90939726]]\n"
          ]
        }
      ]
    },
    {
      "cell_type": "code",
      "source": [
        "# 擴展上限\n",
        "\n",
        "sample5 = np.random.rand(2, 3) * 100 # [0,100)\n",
        "print(sample5)"
      ],
      "metadata": {
        "colab": {
          "base_uri": "https://localhost:8080/"
        },
        "id": "uUueUbW1OmGJ",
        "outputId": "a73dcf2d-c242-461e-ce0c-7d1d50595972"
      },
      "execution_count": 35,
      "outputs": [
        {
          "output_type": "stream",
          "name": "stdout",
          "text": [
            "[[78.39825403 26.4617974  86.0998052 ]\n",
            " [ 1.7572291  82.68327209 35.78760645]]\n"
          ]
        }
      ]
    },
    {
      "cell_type": "code",
      "source": [
        "# 擴展與移動上下限\n",
        "\n",
        "sample5 = np.random.rand(2, 3) * 100 + 10 # [10,110)\n",
        "print(sample5)"
      ],
      "metadata": {
        "colab": {
          "base_uri": "https://localhost:8080/"
        },
        "id": "uh9RfhF3O_dY",
        "outputId": "52c405b0-2a43-45c5-d9ac-c8302545771b"
      },
      "execution_count": 36,
      "outputs": [
        {
          "output_type": "stream",
          "name": "stdout",
          "text": [
            "[[82.77132216 93.4372511  17.11435425]\n",
            " [75.87448703 45.12283255 52.9207437 ]]\n"
          ]
        }
      ]
    },
    {
      "cell_type": "code",
      "source": [
        "# 建立一個3x3的陣列，元素介於[0, 10]的整數亂數\n",
        "\n",
        "sample6 = np.random.randint(0, 10, (3, 3))\n",
        "print(sample6)"
      ],
      "metadata": {
        "colab": {
          "base_uri": "https://localhost:8080/"
        },
        "id": "yabqW6o-gTiU",
        "outputId": "da3a79fc-edcc-4367-f71b-81b47518d32a"
      },
      "execution_count": 37,
      "outputs": [
        {
          "output_type": "stream",
          "name": "stdout",
          "text": [
            "[[7 7 1]\n",
            " [3 3 7]\n",
            " [8 9 9]]\n"
          ]
        }
      ]
    },
    {
      "cell_type": "code",
      "source": [
        "# 建立一個3x3的陣列，元素介於[0, 10]的浮點數亂數\n",
        "\n",
        "sample7 = np.random.rand(3, 3) * 10\n",
        "print(sample7)"
      ],
      "metadata": {
        "colab": {
          "base_uri": "https://localhost:8080/"
        },
        "id": "HBzo9jo7guzd",
        "outputId": "514dda0e-efb4-4a2f-fe31-25ee7aece4dd"
      },
      "execution_count": 38,
      "outputs": [
        {
          "output_type": "stream",
          "name": "stdout",
          "text": [
            "[[0.82809832 0.567608   5.27184334]\n",
            " [5.83910491 1.07302368 3.75384318]\n",
            " [6.69603079 8.76819803 2.91380435]]\n"
          ]
        }
      ]
    },
    {
      "cell_type": "code",
      "source": [
        "# 以「亂數」挑選類別資料樣本點\n",
        "# 舉例，模擬台北的天氣變化\n",
        "\n",
        "weather = [\"Sunny\", \"Cloudy\", \"Rainy\", \"Windy\"]\n",
        "\n",
        "Taipei = np.random.choice(weather, size=(4,7), replace=True, p=[0.2, 0.5, 0.2, 0.1])\n",
        "# replace=True 表示可重複選取; replace=False 表示不重複選取\n",
        "# p=[0.2, 0.5, 0.2, 0.1] 表示個別選取的機率\n",
        "\n",
        "print(Taipei)"
      ],
      "metadata": {
        "colab": {
          "base_uri": "https://localhost:8080/"
        },
        "id": "vVHcLEMNPJUv",
        "outputId": "173e7573-706d-4065-8064-72d16d03388a"
      },
      "execution_count": 39,
      "outputs": [
        {
          "output_type": "stream",
          "name": "stdout",
          "text": [
            "[['Sunny' 'Sunny' 'Sunny' 'Cloudy' 'Rainy' 'Rainy' 'Sunny']\n",
            " ['Rainy' 'Sunny' 'Sunny' 'Rainy' 'Rainy' 'Cloudy' 'Rainy']\n",
            " ['Cloudy' 'Cloudy' 'Cloudy' 'Windy' 'Cloudy' 'Cloudy' 'Cloudy']\n",
            " ['Cloudy' 'Rainy' 'Cloudy' 'Cloudy' 'Rainy' 'Windy' 'Rainy']]\n"
          ]
        }
      ]
    },
    {
      "cell_type": "code",
      "source": [
        "# 產生「標準常態分佈」（平均值＝0，標準差＝1）\n",
        "\n",
        "normal1 = np.random.randn(3, 5) # size = (3,5)\n",
        "print(normal1)"
      ],
      "metadata": {
        "colab": {
          "base_uri": "https://localhost:8080/"
        },
        "id": "XI4mKuKeP-sc",
        "outputId": "7b3177aa-aad2-44dc-ef56-78453f062591"
      },
      "execution_count": 40,
      "outputs": [
        {
          "output_type": "stream",
          "name": "stdout",
          "text": [
            "[[-7.10595414e-02 -7.05547187e-01 -8.94752573e-01  5.34985863e-01\n",
            "  -1.80115316e+00]\n",
            " [-3.25854948e-01  4.62397451e-01 -2.97093380e+00  5.84463212e-01\n",
            "  -9.53207085e-02]\n",
            " [-8.66534671e-01 -1.45921739e-03  3.75102718e-01 -5.79923231e-01\n",
            "  -4.40102387e-01]]\n"
          ]
        }
      ]
    },
    {
      "cell_type": "code",
      "source": [
        "# 產生「一般常態分佈」\n",
        "\n",
        "normal2 = np.random.normal(10, 2, size=(3,5)) # mean = 10, std = 2, size = (3,5)\n",
        "print(normal2)"
      ],
      "metadata": {
        "colab": {
          "base_uri": "https://localhost:8080/"
        },
        "id": "t1X_tEO5Rphc",
        "outputId": "367e6455-9dd0-4c2b-f086-6f5634f34ab3"
      },
      "execution_count": 41,
      "outputs": [
        {
          "output_type": "stream",
          "name": "stdout",
          "text": [
            "[[14.2832057  10.80070632 13.0029812   7.21146456 12.3379259 ]\n",
            " [11.25562489 11.0760428  11.35187214 12.20377531 10.45783622]\n",
            " [12.58712487  9.65051288  7.14226709  9.75606564  9.87762   ]]\n"
          ]
        }
      ]
    },
    {
      "cell_type": "code",
      "source": [
        "# 取出「不重複」樣本點 Unique Elements\n",
        "\n",
        "dice1 = sample4 # 15 times\n",
        "unique1 = np.unique(dice1)\n",
        "print(unique1)"
      ],
      "metadata": {
        "colab": {
          "base_uri": "https://localhost:8080/"
        },
        "id": "oAVhxd0qSOXn",
        "outputId": "689ba848-6277-4ca7-bd1b-99a6c2042038"
      },
      "execution_count": 42,
      "outputs": [
        {
          "output_type": "stream",
          "name": "stdout",
          "text": [
            "[1 2 3 4 5 6]\n"
          ]
        }
      ]
    },
    {
      "cell_type": "code",
      "source": [
        "# Get Unique Elements and Counts\n",
        "\n",
        "unique2, counts = np.unique(dice1, return_counts=True)\n",
        "print(unique2, counts) # 「找出不重複樣本點」及「出現次數」\n",
        "print(dict(zip(unique2, counts))) # 合成字典"
      ],
      "metadata": {
        "colab": {
          "base_uri": "https://localhost:8080/"
        },
        "id": "eaK6zxbkS6l0",
        "outputId": "a483a997-cf25-48dd-cc0a-6e85cd0e5b9d"
      },
      "execution_count": 43,
      "outputs": [
        {
          "output_type": "stream",
          "name": "stdout",
          "text": [
            "[1 2 3 4 5 6] [5 4 2 1 2 1]\n",
            "{np.int64(1): np.int64(5), np.int64(2): np.int64(4), np.int64(3): np.int64(2), np.int64(4): np.int64(1), np.int64(5): np.int64(2), np.int64(6): np.int64(1)}\n"
          ]
        }
      ]
    },
    {
      "cell_type": "markdown",
      "source": [
        "## § 1-5 NumPy 陣列切片"
      ],
      "metadata": {
        "id": "03WTdjgGjQp8"
      }
    },
    {
      "cell_type": "code",
      "source": [
        "# 一維陣列切片運算\n",
        "\n",
        "slice1 = np.random.randint(20, size=20)\n",
        "print(slice1, \"\\n\")\n",
        "print(slice1[:5], \"\\n\") # 指定前五個元素\n",
        "print(slice1[10:15], \"\\n\") # 指定第10到第14個元素\n",
        "print(slice1[10:], \"\\n\") # 指定第10個元素以後的元素\n",
        "print(slice1[::2], \"\\n\") # 指定每隔一個元素\n",
        "print(slice1[::3], \"\\n\") # 指定每隔兩個元素\n",
        "print(slice1[::-1], \"\\n\") # 指定由後往前\n",
        "print(slice1[::-2], \"\\n\") # 指定由後往前，每隔一個元素"
      ],
      "metadata": {
        "id": "NRr6RaA0T-Rl",
        "colab": {
          "base_uri": "https://localhost:8080/"
        },
        "outputId": "09baaf15-67f1-48a2-b2bb-1c9dba5cde33"
      },
      "execution_count": 44,
      "outputs": [
        {
          "output_type": "stream",
          "name": "stdout",
          "text": [
            "[ 7  0  7  8 14  0 15 17 15  6  6 17  1 18 11 15  3  1 19  1] \n",
            "\n",
            "[ 7  0  7  8 14] \n",
            "\n",
            "[ 6 17  1 18 11] \n",
            "\n",
            "[ 6 17  1 18 11 15  3  1 19  1] \n",
            "\n",
            "[ 7  7 14 15 15  6  1 11  3 19] \n",
            "\n",
            "[ 7  8 15  6  1 15 19] \n",
            "\n",
            "[ 1 19  1  3 15 11 18  1 17  6  6 15 17 15  0 14  8  7  0  7] \n",
            "\n",
            "[ 1  1 15 18 17  6 17  0  8  0] \n",
            "\n"
          ]
        }
      ]
    },
    {
      "cell_type": "code",
      "source": [
        "# 二維陣列切片運算\n",
        "\n",
        "slice2 = np.random.randint(20, size=(5,5))\n",
        "print(slice2, \"\\n\")\n",
        "print(slice2[:3, :3], \"\\n\") # 指定前三列前三行\n",
        "print(slice2[2:, 2:], \"\\n\") # 指定第2列以後，第2行以後\n",
        "print(slice2[::2, ::2], \"\\n\") # 指定每隔一個元素\n",
        "print(slice2[::-1, ::-1], \"\\n\") # 指定由後往前\n",
        "print(slice2[::-2, ::-2], \"\\n\") # 指定由後往前，每隔一個元素"
      ],
      "metadata": {
        "colab": {
          "base_uri": "https://localhost:8080/"
        },
        "id": "hJFBrSngj7Rf",
        "outputId": "9a9fdfd3-3064-414b-b2f1-552cfb5aa3fd"
      },
      "execution_count": 45,
      "outputs": [
        {
          "output_type": "stream",
          "name": "stdout",
          "text": [
            "[[17  8  3  2 14]\n",
            " [ 9 11 14  1  3]\n",
            " [14 15  4 15 19]\n",
            " [ 1  1  4 10  7]\n",
            " [15  0  7 11  0]] \n",
            "\n",
            "[[17  8  3]\n",
            " [ 9 11 14]\n",
            " [14 15  4]] \n",
            "\n",
            "[[ 4 15 19]\n",
            " [ 4 10  7]\n",
            " [ 7 11  0]] \n",
            "\n",
            "[[17  3 14]\n",
            " [14  4 19]\n",
            " [15  7  0]] \n",
            "\n",
            "[[ 0 11  7  0 15]\n",
            " [ 7 10  4  1  1]\n",
            " [19 15  4 15 14]\n",
            " [ 3  1 14 11  9]\n",
            " [14  2  3  8 17]] \n",
            "\n",
            "[[ 0  7 15]\n",
            " [19  4 14]\n",
            " [14  3 17]] \n",
            "\n"
          ]
        }
      ]
    },
    {
      "cell_type": "markdown",
      "source": [
        "## § 1-6 用 NumPy 計算統計量"
      ],
      "metadata": {
        "id": "prZ2YDQFlAAK"
      }
    },
    {
      "cell_type": "code",
      "source": [
        "stat1 = np.arange(1, 16) # [1,16)\n",
        "print(stat1)\n",
        "print(\"min =\", stat1.min()) # 最小值\n",
        "print(\"max =\", stat1.max()) # 最大值\n",
        "print(\"sum =\", stat1.sum()) # 總和\n",
        "print(\"mean =\", stat1.mean().round(2)) # 平均值\n",
        "print(\"std =\", stat1.std().round(2)) # 標準差\n",
        "print(\"var =\", stat1.var().round(2)) # 變異數\n",
        "print(\"median =\", np.median(stat1).round(2)) # 中位數"
      ],
      "metadata": {
        "colab": {
          "base_uri": "https://localhost:8080/"
        },
        "id": "cDiV494okn64",
        "outputId": "947ad66c-e83e-4cf1-93a4-faf5b50fa226"
      },
      "execution_count": 46,
      "outputs": [
        {
          "output_type": "stream",
          "name": "stdout",
          "text": [
            "[ 1  2  3  4  5  6  7  8  9 10 11 12 13 14 15]\n",
            "min = 1\n",
            "max = 15\n",
            "sum = 120\n",
            "mean = 8.0\n",
            "std = 4.32\n",
            "var = 18.67\n",
            "median = 8.0\n"
          ]
        }
      ]
    },
    {
      "cell_type": "code",
      "source": [
        "stat2 = np.random.rand(1, 10)*25+1 # [1,25)\n",
        "print(stat2.round(2))\n",
        "print(\"min =\", stat2.min().round(2)) # 最小值\n",
        "print(\"最小值的索引值為\", np.argmin(stat2))\n",
        "print(\"max =\", stat2.max().round(2)) # 最大值\n",
        "print(\"最大值的索引值為\", np.argmax(stat2))\n",
        "print(\"sum =\", stat2.sum().round(2)) # 總和\n",
        "print(\"mean =\", stat2.mean().round(2)) # 平均值\n",
        "print(\"std =\", stat2.std().round(2)) # 標準差\n",
        "print(\"var =\", stat2.var().round(2)) # 變異數\n",
        "print(\"median =\", np.median(stat2).round(2)) # 中位數"
      ],
      "metadata": {
        "colab": {
          "base_uri": "https://localhost:8080/"
        },
        "id": "BhVH6KNyl8aG",
        "outputId": "520a28e9-ca46-4090-8a95-bf675248791d"
      },
      "execution_count": 47,
      "outputs": [
        {
          "output_type": "stream",
          "name": "stdout",
          "text": [
            "[[ 3.78 10.85 16.25  1.61  7.74 13.55 16.5  20.29 20.18 11.8 ]]\n",
            "min = 1.61\n",
            "最小值的索引值為 3\n",
            "max = 20.29\n",
            "最大值的索引值為 7\n",
            "sum = 122.56\n",
            "mean = 12.26\n",
            "std = 6.09\n",
            "var = 37.1\n",
            "median = 12.68\n"
          ]
        }
      ]
    },
    {
      "cell_type": "markdown",
      "source": [
        "## § 1-7 NumPy 陣列運算"
      ],
      "metadata": {
        "id": "kN0kksFQm3n0"
      }
    },
    {
      "cell_type": "code",
      "source": [
        "X = np.array([[1, 2], [3, 4]])\n",
        "X1 = np.array([1, -2, 3])\n",
        "X2 = np.array([4, 5, 6])\n",
        "\n",
        "# Operators and Ufuncs\n",
        "# 負數\n",
        "print(\"-X1 =\", np.negative(X1), \"\\n\")\n",
        "# 絕對值\n",
        "print(\"|X1| =\", np.abs(X1), \"\\n\")\n",
        "# 加法\n",
        "print(\"X1 + X2 =\", np.add(X1, X2), \"\\n\")\n",
        "print(\"X1 + 10 =\", np.add(X1, 10), \"\\n\")\n",
        "# 減法\n",
        "print(\"X1 - X2 =\", np.subtract(X1, X2), \"\\n\")\n",
        "print(\"X1 - 10 =\", np.subtract(X1, 10), \"\\n\")\n",
        "# 乘法\n",
        "print(\"X1 * X2 =\", np.multiply(X1, X2), \"\\n\")\n",
        "print(\"X1 * 10 =\", np.multiply(X1, 10), \"\\n\")\n",
        "# 點積、純量積（純量）\n",
        "print(\"X1 ⦁ X2 =\", np.dot(X1, X2), \"\\n\")\n",
        "print(\"X1 ⦁ 10 =\", np.dot(X1, 10), \"\\n\") # 如同乘法np.multiply\n",
        "# 內積、矩陣積（矩陣）\n",
        "print(\"X1 ⨀ X2 =\", np.inner(X1, X2), \"\\n\")\n",
        "# 叉積、向量積（法向量）\n",
        "print(\"X1 ✗ X2 =\", np.cross(X1, X2), \"\\n\")\n",
        "# 外積、倍數積（矩陣）\n",
        "print(\"X1 ⊗ X2 =\\n\", np.outer(X1, X2), \"\\n\")\n",
        "# 除法\n",
        "print(\"X1 / X2 =\", np.divide(X1, X2), \"\\n\")\n",
        "print(\"X1 / 10 =\", np.divide(X1, 10), \"\\n\")\n",
        "# 商\n",
        "print(\"X1 // X2 =\", np.floor_divide(X1, X2), \"\\n\")\n",
        "print(\"X1 // 10 =\", np.floor_divide(X1, 10), \"\\n\")\n",
        "# 餘數\n",
        "print(\"X1 % X2 =\", np.mod(X1, X2), \"\\n\")\n",
        "print(\"X1 % X2 =\", np.remainder(X1, X2), \"\\n\")\n",
        "print(\"X1 % 10 =\", np.remainder(X1, 10), \"\\n\")\n",
        "# 次方\n",
        "print(\"X2 ^ X1 =\", np.power(X1, X2), \"\\n\")\n",
        "# 反矩陣\n",
        "print(\"X ^ -1 =\\n\", np.linalg.inv(X), \"\\n\")\n",
        "# 轉置矩陣\n",
        "print(\"X ^ T =\\n\", np.transpose(X), \"\\n\")\n",
        "print(\"X ^ T =\\n\", X.T, \"\\n\")"
      ],
      "metadata": {
        "colab": {
          "base_uri": "https://localhost:8080/"
        },
        "id": "pNQa7TTiluvy",
        "outputId": "be6a904f-0f44-444a-eb0f-9e7e54b57ac1"
      },
      "execution_count": 48,
      "outputs": [
        {
          "output_type": "stream",
          "name": "stdout",
          "text": [
            "-X1 = [-1  2 -3] \n",
            "\n",
            "|X1| = [1 2 3] \n",
            "\n",
            "X1 + X2 = [5 3 9] \n",
            "\n",
            "X1 + 10 = [11  8 13] \n",
            "\n",
            "X1 - X2 = [-3 -7 -3] \n",
            "\n",
            "X1 - 10 = [ -9 -12  -7] \n",
            "\n",
            "X1 * X2 = [  4 -10  18] \n",
            "\n",
            "X1 * 10 = [ 10 -20  30] \n",
            "\n",
            "X1 ⦁ X2 = 12 \n",
            "\n",
            "X1 ⦁ 10 = [ 10 -20  30] \n",
            "\n",
            "X1 ⨀ X2 = 12 \n",
            "\n",
            "X1 ✗ X2 = [-27   6  13] \n",
            "\n",
            "X1 ⊗ X2 =\n",
            " [[  4   5   6]\n",
            " [ -8 -10 -12]\n",
            " [ 12  15  18]] \n",
            "\n",
            "X1 / X2 = [ 0.25 -0.4   0.5 ] \n",
            "\n",
            "X1 / 10 = [ 0.1 -0.2  0.3] \n",
            "\n",
            "X1 // X2 = [ 0 -1  0] \n",
            "\n",
            "X1 // 10 = [ 0 -1  0] \n",
            "\n",
            "X1 % X2 = [1 3 3] \n",
            "\n",
            "X1 % X2 = [1 3 3] \n",
            "\n",
            "X1 % 10 = [1 8 3] \n",
            "\n",
            "X2 ^ X1 = [  1 -32 729] \n",
            "\n",
            "X ^ -1 =\n",
            " [[-2.   1. ]\n",
            " [ 1.5 -0.5]] \n",
            "\n",
            "X ^ T =\n",
            " [[1 3]\n",
            " [2 4]] \n",
            "\n",
            "X ^ T =\n",
            " [[1 3]\n",
            " [2 4]] \n",
            "\n"
          ]
        }
      ]
    },
    {
      "cell_type": "code",
      "source": [
        "# 聚合（累加；純量）\n",
        "x = np.arange(1,6) # [1,6)\n",
        "np.add.reduce(x) # 累加"
      ],
      "metadata": {
        "colab": {
          "base_uri": "https://localhost:8080/"
        },
        "id": "udH90wmx0CTB",
        "outputId": "f29287b7-061f-4183-dce0-4289551826fa"
      },
      "execution_count": 49,
      "outputs": [
        {
          "output_type": "execute_result",
          "data": {
            "text/plain": [
              "np.int64(15)"
            ]
          },
          "metadata": {},
          "execution_count": 49
        }
      ]
    },
    {
      "cell_type": "code",
      "source": [
        "# 聚合（總和；純量）\n",
        "x = np.arange(1,6) # [1,6)\n",
        "np.sum(x) # 總和"
      ],
      "metadata": {
        "colab": {
          "base_uri": "https://localhost:8080/"
        },
        "id": "iuXbbr4z101A",
        "outputId": "a0a1aa57-9e4a-4646-ef32-ad5b9281f8e7"
      },
      "execution_count": 50,
      "outputs": [
        {
          "output_type": "execute_result",
          "data": {
            "text/plain": [
              "np.int64(15)"
            ]
          },
          "metadata": {},
          "execution_count": 50
        }
      ]
    },
    {
      "cell_type": "code",
      "source": [
        "# 聚合（累乘；純量）\n",
        "x = np.arange(1,6) # [1,6)\n",
        "np.multiply.reduce(x) # 累乘，此處類似階乘"
      ],
      "metadata": {
        "colab": {
          "base_uri": "https://localhost:8080/"
        },
        "id": "yB45w12g0rS1",
        "outputId": "8a6dccfd-21fd-40d3-bfdb-0df3a5cfe699"
      },
      "execution_count": 51,
      "outputs": [
        {
          "output_type": "execute_result",
          "data": {
            "text/plain": [
              "np.int64(120)"
            ]
          },
          "metadata": {},
          "execution_count": 51
        }
      ]
    },
    {
      "cell_type": "code",
      "source": [
        "# 聚合（總乘積；純量）\n",
        "x = np.arange(1,6) # [1,6)\n",
        "np.prod(x) # 總乘積，此處類似階乘"
      ],
      "metadata": {
        "colab": {
          "base_uri": "https://localhost:8080/"
        },
        "id": "aPyycSo92Gi3",
        "outputId": "6ac8653d-b207-43ec-f1e5-a4135cdc551c"
      },
      "execution_count": 52,
      "outputs": [
        {
          "output_type": "execute_result",
          "data": {
            "text/plain": [
              "np.int64(120)"
            ]
          },
          "metadata": {},
          "execution_count": 52
        }
      ]
    },
    {
      "cell_type": "markdown",
      "source": [
        "## § 1-8 NumPy 陣列串接"
      ],
      "metadata": {
        "id": "lxqQzEKXrmI_"
      }
    },
    {
      "cell_type": "code",
      "source": [
        "features = np.concatenate((X1, X2)) # 將 X1 和 X2 結合一維陣列\n",
        "print(features)"
      ],
      "metadata": {
        "colab": {
          "base_uri": "https://localhost:8080/"
        },
        "id": "0UQzavbcntku",
        "outputId": "ceaaff8a-3cfb-49c4-af4f-6305579a43a1"
      },
      "execution_count": 53,
      "outputs": [
        {
          "output_type": "stream",
          "name": "stdout",
          "text": [
            "[ 1 -2  3  4  5  6]\n"
          ]
        }
      ]
    },
    {
      "cell_type": "code",
      "source": [
        "features = np.concatenate((X1, X2)).reshape(2,3) # 轉換乘二維陣列\n",
        "print(features)"
      ],
      "metadata": {
        "colab": {
          "base_uri": "https://localhost:8080/"
        },
        "id": "bl0-uWfjvi6w",
        "outputId": "643d3961-d7b4-4f0c-c066-031e47365d9d"
      },
      "execution_count": 54,
      "outputs": [
        {
          "output_type": "stream",
          "name": "stdout",
          "text": [
            "[[ 1 -2  3]\n",
            " [ 4  5  6]]\n"
          ]
        }
      ]
    },
    {
      "cell_type": "code",
      "source": [
        "features = np.concatenate((X1, X2)).reshape(2,3).T # 轉置\n",
        "print(features)"
      ],
      "metadata": {
        "colab": {
          "base_uri": "https://localhost:8080/"
        },
        "id": "pK7dyZLwvrNi",
        "outputId": "344ce41b-a2fb-4338-ffe4-37e5ba78d047"
      },
      "execution_count": 55,
      "outputs": [
        {
          "output_type": "stream",
          "name": "stdout",
          "text": [
            "[[ 1  4]\n",
            " [-2  5]\n",
            " [ 3  6]]\n"
          ]
        }
      ]
    },
    {
      "cell_type": "code",
      "source": [
        "features = np.concatenate((X1, X2)).reshape(3,2) # 轉換乘二維陣列\n",
        "print(features)"
      ],
      "metadata": {
        "colab": {
          "base_uri": "https://localhost:8080/"
        },
        "id": "FbqJhYz3teTL",
        "outputId": "49b9c8db-3d44-4b28-9937-2d8a29b75b88"
      },
      "execution_count": 56,
      "outputs": [
        {
          "output_type": "stream",
          "name": "stdout",
          "text": [
            "[[ 1 -2]\n",
            " [ 3  4]\n",
            " [ 5  6]]\n"
          ]
        }
      ]
    },
    {
      "cell_type": "code",
      "source": [
        "feat2 = np.concatenate((features, features), axis=0) # 沿著第一軸串接，axis=0可以省略\n",
        "print(feat2)"
      ],
      "metadata": {
        "colab": {
          "base_uri": "https://localhost:8080/"
        },
        "id": "fYoqagJOsfFS",
        "outputId": "00d19ce6-1b35-4621-9c23-4832755ae617"
      },
      "execution_count": 57,
      "outputs": [
        {
          "output_type": "stream",
          "name": "stdout",
          "text": [
            "[[ 1 -2]\n",
            " [ 3  4]\n",
            " [ 5  6]\n",
            " [ 1 -2]\n",
            " [ 3  4]\n",
            " [ 5  6]]\n"
          ]
        }
      ]
    },
    {
      "cell_type": "code",
      "source": [
        "feat2 = np.vstack((features, features)) # 垂直串接\n",
        "print(feat2)"
      ],
      "metadata": {
        "colab": {
          "base_uri": "https://localhost:8080/"
        },
        "id": "9t-or6BtuI3v",
        "outputId": "4060d7d9-b671-45e3-f877-b67436b304b7"
      },
      "execution_count": 58,
      "outputs": [
        {
          "output_type": "stream",
          "name": "stdout",
          "text": [
            "[[ 1 -2]\n",
            " [ 3  4]\n",
            " [ 5  6]\n",
            " [ 1 -2]\n",
            " [ 3  4]\n",
            " [ 5  6]]\n"
          ]
        }
      ]
    },
    {
      "cell_type": "code",
      "source": [
        "feat4 = np.concatenate((features, features)).reshape(6,2) # reshape不一定具備水平或垂直串接的特性\n",
        "print(feat4)"
      ],
      "metadata": {
        "colab": {
          "base_uri": "https://localhost:8080/"
        },
        "id": "m3a5qD5fvCXx",
        "outputId": "62c59846-9971-490b-afc6-e3efa6930adf"
      },
      "execution_count": 59,
      "outputs": [
        {
          "output_type": "stream",
          "name": "stdout",
          "text": [
            "[[ 1 -2]\n",
            " [ 3  4]\n",
            " [ 5  6]\n",
            " [ 1 -2]\n",
            " [ 3  4]\n",
            " [ 5  6]]\n"
          ]
        }
      ]
    },
    {
      "cell_type": "code",
      "source": [
        "feat3 = np.concatenate((features, features), axis=1) # 沿著第二軸串接\n",
        "print(feat3)"
      ],
      "metadata": {
        "colab": {
          "base_uri": "https://localhost:8080/"
        },
        "id": "1qw1t-Tpsqv6",
        "outputId": "74ebc71c-3883-40c2-b62d-9750abbd69d2"
      },
      "execution_count": 60,
      "outputs": [
        {
          "output_type": "stream",
          "name": "stdout",
          "text": [
            "[[ 1 -2  1 -2]\n",
            " [ 3  4  3  4]\n",
            " [ 5  6  5  6]]\n"
          ]
        }
      ]
    },
    {
      "cell_type": "code",
      "source": [
        "feat3 = np.hstack((features, features)) # 水平串接\n",
        "print(feat3)"
      ],
      "metadata": {
        "colab": {
          "base_uri": "https://localhost:8080/"
        },
        "id": "1NtsoAOIuvNX",
        "outputId": "0a6e3588-aa02-41d0-ab72-eedc59587ed3"
      },
      "execution_count": 61,
      "outputs": [
        {
          "output_type": "stream",
          "name": "stdout",
          "text": [
            "[[ 1 -2  1 -2]\n",
            " [ 3  4  3  4]\n",
            " [ 5  6  5  6]]\n"
          ]
        }
      ]
    },
    {
      "cell_type": "code",
      "source": [
        "feat4 = np.concatenate((features, features)).reshape(3,4) # reshape不一定具備水平或垂直串接的特性\n",
        "print(feat4)"
      ],
      "metadata": {
        "colab": {
          "base_uri": "https://localhost:8080/"
        },
        "id": "lBPWGYGOsBwN",
        "outputId": "4a8ef036-5dc0-454f-fcb5-b854dfb29d1f"
      },
      "execution_count": 62,
      "outputs": [
        {
          "output_type": "stream",
          "name": "stdout",
          "text": [
            "[[ 1 -2  3  4]\n",
            " [ 5  6  1 -2]\n",
            " [ 3  4  5  6]]\n"
          ]
        }
      ]
    },
    {
      "cell_type": "markdown",
      "source": [
        "## § 1-9 NumPy 陣列分割"
      ],
      "metadata": {
        "id": "PA0FvxUwxJ9B"
      }
    },
    {
      "cell_type": "code",
      "source": [
        "x = [1, 2, 3, 99, 99, 3, 2, 1]\n",
        "x1, x2, x3 = np.split(x, [3, 5]) # 指定分割點\n",
        "print(x1, x2, x3)"
      ],
      "metadata": {
        "colab": {
          "base_uri": "https://localhost:8080/"
        },
        "id": "CO8uN56mxKc0",
        "outputId": "44d9eab0-ad33-4c95-ea8d-a049ad4011f3"
      },
      "execution_count": 63,
      "outputs": [
        {
          "output_type": "stream",
          "name": "stdout",
          "text": [
            "[1 2 3] [99 99] [3 2 1]\n"
          ]
        }
      ]
    },
    {
      "cell_type": "code",
      "source": [
        "grid = np.arange(12).reshape((4, 3))\n",
        "print(grid)"
      ],
      "metadata": {
        "colab": {
          "base_uri": "https://localhost:8080/"
        },
        "id": "htCEbTmAxXDc",
        "outputId": "0520cc4c-1404-4e57-845c-47780857d7e4"
      },
      "execution_count": 64,
      "outputs": [
        {
          "output_type": "stream",
          "name": "stdout",
          "text": [
            "[[ 0  1  2]\n",
            " [ 3  4  5]\n",
            " [ 6  7  8]\n",
            " [ 9 10 11]]\n"
          ]
        }
      ]
    },
    {
      "cell_type": "code",
      "source": [
        "upper, lower = np.vsplit(grid, [2]) # 垂直分割\n",
        "print(upper, \"\\n\")\n",
        "print(lower)"
      ],
      "metadata": {
        "colab": {
          "base_uri": "https://localhost:8080/"
        },
        "id": "AUvgyWZgxegG",
        "outputId": "0b5b9f16-db8f-4533-aa7e-a12e3753f879"
      },
      "execution_count": 65,
      "outputs": [
        {
          "output_type": "stream",
          "name": "stdout",
          "text": [
            "[[0 1 2]\n",
            " [3 4 5]] \n",
            "\n",
            "[[ 6  7  8]\n",
            " [ 9 10 11]]\n"
          ]
        }
      ]
    },
    {
      "cell_type": "code",
      "source": [
        "left, right = np.hsplit(grid, [1]) # 水平分割\n",
        "print(left, \"\\n\")\n",
        "print(right)"
      ],
      "metadata": {
        "colab": {
          "base_uri": "https://localhost:8080/"
        },
        "id": "y6afgGALxmjR",
        "outputId": "4a5fafd7-2c94-4133-fcce-829f68548759"
      },
      "execution_count": 66,
      "outputs": [
        {
          "output_type": "stream",
          "name": "stdout",
          "text": [
            "[[0]\n",
            " [3]\n",
            " [6]\n",
            " [9]] \n",
            "\n",
            "[[ 1  2]\n",
            " [ 4  5]\n",
            " [ 7  8]\n",
            " [10 11]]\n"
          ]
        }
      ]
    },
    {
      "cell_type": "markdown",
      "source": [
        "## § 1-10 NumPy 常用函數"
      ],
      "metadata": {
        "id": "bgxSMXQoyaBR"
      }
    },
    {
      "cell_type": "markdown",
      "source": [
        "### ⁋ 小數舍入"
      ],
      "metadata": {
        "id": "j8yEw20aytiB"
      }
    },
    {
      "cell_type": "code",
      "source": [
        "num1 = np.array([-1.67, -1.01, -0.35, 0.97, 1.63])\n",
        "# 四捨五入\n",
        "# around = Array ROUND\n",
        "np.around(num1,1) # 保留小數點後一位"
      ],
      "metadata": {
        "colab": {
          "base_uri": "https://localhost:8080/"
        },
        "id": "tTWp_emBvxKJ",
        "outputId": "b0fec73b-753a-46d7-c055-f73491af4421"
      },
      "execution_count": 67,
      "outputs": [
        {
          "output_type": "execute_result",
          "data": {
            "text/plain": [
              "array([-1.7, -1. , -0.4,  1. ,  1.6])"
            ]
          },
          "metadata": {},
          "execution_count": 67
        }
      ]
    },
    {
      "cell_type": "code",
      "source": [
        "# 無條件捨去取「地板」\n",
        "np.floor(num1)"
      ],
      "metadata": {
        "colab": {
          "base_uri": "https://localhost:8080/"
        },
        "id": "bG12aqet07KV",
        "outputId": "e84146c1-5f87-4c12-c752-a1ab46ff13e8"
      },
      "execution_count": 68,
      "outputs": [
        {
          "output_type": "execute_result",
          "data": {
            "text/plain": [
              "array([-2., -2., -1.,  0.,  1.])"
            ]
          },
          "metadata": {},
          "execution_count": 68
        }
      ]
    },
    {
      "cell_type": "code",
      "source": [
        "# 無條件進位取「天花板」\n",
        "np.ceil(num1)"
      ],
      "metadata": {
        "colab": {
          "base_uri": "https://localhost:8080/"
        },
        "id": "S4kWsdHY1dhR",
        "outputId": "d79130ed-8c87-41f5-f2df-357ce81ecd24"
      },
      "execution_count": 69,
      "outputs": [
        {
          "output_type": "execute_result",
          "data": {
            "text/plain": [
              "array([-1., -1., -0.,  1.,  2.])"
            ]
          },
          "metadata": {},
          "execution_count": 69
        }
      ]
    },
    {
      "cell_type": "markdown",
      "source": [
        "### ⁋ 指數相關函數"
      ],
      "metadata": {
        "id": "YmvkWhUhyzvx"
      }
    },
    {
      "cell_type": "code",
      "source": [
        "x1 = np.arange(1.0, 10.0, 1.0).reshape(3,3)\n",
        "print(x1)"
      ],
      "metadata": {
        "colab": {
          "base_uri": "https://localhost:8080/"
        },
        "id": "ElQnBnoky5OF",
        "outputId": "b17484f1-81df-4fb7-cc90-b08c901f0719"
      },
      "execution_count": 70,
      "outputs": [
        {
          "output_type": "stream",
          "name": "stdout",
          "text": [
            "[[1. 2. 3.]\n",
            " [4. 5. 6.]\n",
            " [7. 8. 9.]]\n"
          ]
        }
      ]
    },
    {
      "cell_type": "code",
      "source": [
        "print(\"e^x =\\n\", np.exp(x1), \"\\n\") # 指數函數 e^x\n",
        "print(\"2^x =\\n\", np.exp2(x1), \"\\n\") # 指數函數 2^x\n",
        "print(\"x^x =\\n\", np.power(x1, x1), \"\\n\") # 指數函數 3^x\n",
        "print(\"√x =\\n\", np.sqrt(x1), \"\\n\") # 平方根"
      ],
      "metadata": {
        "colab": {
          "base_uri": "https://localhost:8080/"
        },
        "id": "PXZL-ChS2kh-",
        "outputId": "4218bfbf-fab0-4651-fbfb-47040e238a34"
      },
      "execution_count": 71,
      "outputs": [
        {
          "output_type": "stream",
          "name": "stdout",
          "text": [
            "e^x =\n",
            " [[2.71828183e+00 7.38905610e+00 2.00855369e+01]\n",
            " [5.45981500e+01 1.48413159e+02 4.03428793e+02]\n",
            " [1.09663316e+03 2.98095799e+03 8.10308393e+03]] \n",
            "\n",
            "2^x =\n",
            " [[  2.   4.   8.]\n",
            " [ 16.  32.  64.]\n",
            " [128. 256. 512.]] \n",
            "\n",
            "x^x =\n",
            " [[1.00000000e+00 4.00000000e+00 2.70000000e+01]\n",
            " [2.56000000e+02 3.12500000e+03 4.66560000e+04]\n",
            " [8.23543000e+05 1.67772160e+07 3.87420489e+08]] \n",
            "\n",
            "√x =\n",
            " [[1.         1.41421356 1.73205081]\n",
            " [2.         2.23606798 2.44948974]\n",
            " [2.64575131 2.82842712 3.        ]] \n",
            "\n"
          ]
        }
      ]
    },
    {
      "cell_type": "markdown",
      "source": [
        "### ⁋ 對數相關函數"
      ],
      "metadata": {
        "id": "4f6G4kr-y6vP"
      }
    },
    {
      "cell_type": "code",
      "source": [
        "x2 = np.arange(2, 20, 2).reshape(3,3)\n",
        "print(x2)"
      ],
      "metadata": {
        "colab": {
          "base_uri": "https://localhost:8080/"
        },
        "id": "hAABkryBy_5M",
        "outputId": "d7f48a87-8729-4f40-bd2f-60204a5c802d"
      },
      "execution_count": 72,
      "outputs": [
        {
          "output_type": "stream",
          "name": "stdout",
          "text": [
            "[[ 2  4  6]\n",
            " [ 8 10 12]\n",
            " [14 16 18]]\n"
          ]
        }
      ]
    },
    {
      "cell_type": "code",
      "source": [
        "print(\"ln(x) =\\n\", np.log(x2), \"\\n\") # 對數函數 ln(x)\n",
        "print(\"log2(x) =\\n\", np.log2(x2), \"\\n\") # 對數函數 log2(x)\n",
        "print(\"log10(x) =\\n\", np.log10(x2), \"\\n\") # 對數函數 log10(x)"
      ],
      "metadata": {
        "colab": {
          "base_uri": "https://localhost:8080/"
        },
        "id": "yNbp6WdY4llt",
        "outputId": "54e7ec32-5d0a-412e-b7ce-cfa5e4717d1b"
      },
      "execution_count": 73,
      "outputs": [
        {
          "output_type": "stream",
          "name": "stdout",
          "text": [
            "ln(x) =\n",
            " [[0.69314718 1.38629436 1.79175947]\n",
            " [2.07944154 2.30258509 2.48490665]\n",
            " [2.63905733 2.77258872 2.89037176]] \n",
            "\n",
            "log2(x) =\n",
            " [[1.         2.         2.5849625 ]\n",
            " [3.         3.32192809 3.5849625 ]\n",
            " [3.80735492 4.         4.169925  ]] \n",
            "\n",
            "log10(x) =\n",
            " [[0.30103    0.60205999 0.77815125]\n",
            " [0.90308999 1.         1.07918125]\n",
            " [1.14612804 1.20411998 1.25527251]] \n",
            "\n"
          ]
        }
      ]
    },
    {
      "cell_type": "markdown",
      "source": [
        "### ⁋ 三角函數"
      ],
      "metadata": {
        "id": "vwVSUPOJzA-4"
      }
    },
    {
      "cell_type": "code",
      "source": [
        "deg = np.array([0, 30, 60, 90])\n",
        "rad = np.deg2rad(deg) # 角度或徑度轉換為弧度\n",
        "print(rad) # 弧度轉換為角度或徑度"
      ],
      "metadata": {
        "colab": {
          "base_uri": "https://localhost:8080/"
        },
        "id": "bB0aOUgXzD1K",
        "outputId": "9220036c-60c8-411c-dc09-9d4b10644ec9"
      },
      "execution_count": 74,
      "outputs": [
        {
          "output_type": "stream",
          "name": "stdout",
          "text": [
            "[0.         0.52359878 1.04719755 1.57079633]\n"
          ]
        }
      ]
    },
    {
      "cell_type": "code",
      "source": [
        "print(\"sin(rad) =\", np.sin(rad), \"\\n\") # 正弦函數\n",
        "print(\"cos(rad) =\",np.cos(rad), \"\\n\") # 余弦函數\n",
        "print(\"tan(rad) =\",np.tan(rad), \"\\n\") # 正切函數"
      ],
      "metadata": {
        "colab": {
          "base_uri": "https://localhost:8080/"
        },
        "id": "5z-kqoEj5aV5",
        "outputId": "a3efe821-466c-4c46-d3e2-0ad643b019e5"
      },
      "execution_count": 75,
      "outputs": [
        {
          "output_type": "stream",
          "name": "stdout",
          "text": [
            "sin(rad) = [0.        0.5       0.8660254 1.       ] \n",
            "\n",
            "cos(rad) = [1.00000000e+00 8.66025404e-01 5.00000000e-01 6.12323400e-17] \n",
            "\n",
            "tan(rad) = [0.00000000e+00 5.77350269e-01 1.73205081e+00 1.63312394e+16] \n",
            "\n"
          ]
        }
      ]
    },
    {
      "cell_type": "markdown",
      "source": [
        "# §§ 2 Pandas\n",
        "* 讀入「外部資料」，並以「表格」形式呈現。\n",
        "* 讀入後，以下列資料型態表示：\n",
        " * 一維：Series\n",
        " * 二維：DataFrame（最常見）\n",
        " * 三維：Panel\n",
        "\n",
        "\n",
        "\n"
      ],
      "metadata": {
        "id": "59EL6z0R638K"
      }
    },
    {
      "cell_type": "code",
      "source": [
        "!pip install pandas -U"
      ],
      "metadata": {
        "colab": {
          "base_uri": "https://localhost:8080/"
        },
        "id": "fJFrotPNNX2V",
        "outputId": "264cf05e-319a-47b5-a53c-a78b9258c299"
      },
      "execution_count": 76,
      "outputs": [
        {
          "output_type": "stream",
          "name": "stdout",
          "text": [
            "Requirement already satisfied: pandas in /usr/local/lib/python3.10/dist-packages (2.2.2)\n",
            "Requirement already satisfied: numpy>=1.22.4 in /usr/local/lib/python3.10/dist-packages (from pandas) (2.1.0)\n",
            "Requirement already satisfied: python-dateutil>=2.8.2 in /usr/local/lib/python3.10/dist-packages (from pandas) (2.8.2)\n",
            "Requirement already satisfied: pytz>=2020.1 in /usr/local/lib/python3.10/dist-packages (from pandas) (2024.1)\n",
            "Requirement already satisfied: tzdata>=2022.7 in /usr/local/lib/python3.10/dist-packages (from pandas) (2024.1)\n",
            "Requirement already satisfied: six>=1.5 in /usr/local/lib/python3.10/dist-packages (from python-dateutil>=2.8.2->pandas) (1.16.0)\n"
          ]
        }
      ]
    },
    {
      "cell_type": "code",
      "source": [
        "from google.colab import drive\n",
        "drive.mount('/content/drive') # 掛載 Google Drive"
      ],
      "metadata": {
        "colab": {
          "base_uri": "https://localhost:8080/"
        },
        "id": "xp5qQ49TLm-b",
        "outputId": "5e4fcc9c-6dbb-45a6-9d70-5114289f3b64"
      },
      "execution_count": 77,
      "outputs": [
        {
          "output_type": "stream",
          "name": "stdout",
          "text": [
            "Drive already mounted at /content/drive; to attempt to forcibly remount, call drive.mount(\"/content/drive\", force_remount=True).\n"
          ]
        }
      ]
    },
    {
      "cell_type": "code",
      "source": [
        "import pandas as pd\n",
        "import numpy as np"
      ],
      "metadata": {
        "id": "6ix6dSutIAOm"
      },
      "execution_count": 106,
      "outputs": []
    },
    {
      "cell_type": "markdown",
      "source": [
        "## § 2-1 建立 DataFrame\n",
        "* 透過「複合資料結構」建立\n",
        "* 透過「 CSV 檔」建立\n",
        "* 透過「網頁（ HTML 檔）」建立"
      ],
      "metadata": {
        "id": "NXCMJLveHDkx"
      }
    },
    {
      "cell_type": "code",
      "source": [
        "# 1 透過「複合資料結構」建立\n",
        "Rows = [\"Row1\", \"Row2\", \"Row3\"]\n",
        "Cols = [\"Col1\", \"Col2\"]\n",
        "\n",
        "# by list (Row-based)\n",
        "dfList = pd.DataFrame([[1, 2], [3, 4], [5, 6]], index=Rows, columns=Cols)\n",
        "print(\"以 row 為主\\n\", dfList, \"\\n\")\n",
        "\n",
        "# by Dict (Colume-based)\n",
        "dfDict = pd.DataFrame({\"Col1\": [1, 3, 5], \"Col2\": [2, 4, 6]}, index=Rows)\n",
        "print(\"以 column 為主\\n\", dfDict)"
      ],
      "metadata": {
        "id": "mbH7PwK5686m",
        "colab": {
          "base_uri": "https://localhost:8080/"
        },
        "outputId": "56621f1f-5e6e-449a-aafb-61cde645c4c1"
      },
      "execution_count": 79,
      "outputs": [
        {
          "output_type": "stream",
          "name": "stdout",
          "text": [
            "以 row 為主\n",
            "       Col1  Col2\n",
            "Row1     1     2\n",
            "Row2     3     4\n",
            "Row3     5     6 \n",
            "\n",
            "以 column 為主\n",
            "       Col1  Col2\n",
            "Row1     1     2\n",
            "Row2     3     4\n",
            "Row3     5     6\n"
          ]
        }
      ]
    },
    {
      "cell_type": "code",
      "source": [
        "# 2 透過「 CSV 檔」建立\n",
        "\n",
        "dfCSV = pd.read_csv('/content/drive/MyDrive/CSV/CarSales.csv')\n",
        "print(dfCSV)"
      ],
      "metadata": {
        "id": "LBf-N_OtIoLB",
        "colab": {
          "base_uri": "https://localhost:8080/"
        },
        "outputId": "3608d856-c401-4b00-8cae-5587bd990552"
      },
      "execution_count": 80,
      "outputs": [
        {
          "output_type": "stream",
          "name": "stdout",
          "text": [
            "   Country   Age   Salary ToBuy\n",
            "0   France  44.0  72000.0    No\n",
            "1    Spain  27.0  48000.0   Yes\n",
            "2  Germany  30.0  54000.0    No\n",
            "3    Spain  38.0  61000.0    No\n",
            "4  Germany  40.0      NaN   Yes\n",
            "5   France  35.0  58000.0   Yes\n",
            "6    Spain   NaN  52000.0    No\n",
            "7   France  48.0  79000.0   Yes\n",
            "8  Germany  50.0  83000.0    No\n",
            "9   France  37.0  67000.0   Yes\n"
          ]
        }
      ]
    },
    {
      "cell_type": "code",
      "source": [
        "# dfCVS[\"欄位名稱\"]：取出特定欄位的方法\n",
        "# 針對特定欄位，計算統計量的方法\n",
        "\n",
        "print(dfCSV[\"Country\"].mode(), \"\\n\")\n",
        "print(dfCSV[\"Country\"].value_counts(), \"\\n\")\n",
        "print(dfCSV[\"Country\"].unique(), \"\\n\")\n",
        "print(dfCSV[\"Country\"].nunique(), \"\\n\")"
      ],
      "metadata": {
        "id": "1l97Y8I4L9Ux",
        "colab": {
          "base_uri": "https://localhost:8080/"
        },
        "outputId": "2e275ee4-a9cf-47a6-cf5b-83aa41df0d59"
      },
      "execution_count": 81,
      "outputs": [
        {
          "output_type": "stream",
          "name": "stdout",
          "text": [
            "0    France\n",
            "Name: Country, dtype: object \n",
            "\n",
            "Country\n",
            "France     4\n",
            "Spain      3\n",
            "Germany    3\n",
            "Name: count, dtype: int64 \n",
            "\n",
            "['France' 'Spain' 'Germany'] \n",
            "\n",
            "3 \n",
            "\n"
          ]
        }
      ]
    },
    {
      "cell_type": "code",
      "source": [
        "print(\"Median of Age =\", dfCSV[\"Age\"].median(), \"\\n\")\n",
        "print(\"Mean of Age =\", dfCSV[\"Age\"].mean(), \"\\n\")\n",
        "print(\"Std of Age =\", dfCSV[\"Age\"].std(), \"\\n\")\n",
        "print(\"Max of Age =\", dfCSV[\"Age\"].max(), \"\\n\")\n",
        "print(\"Min of Age =\", dfCSV[\"Age\"].min(), \"\\n\")"
      ],
      "metadata": {
        "id": "8M7caHRgQpDl",
        "colab": {
          "base_uri": "https://localhost:8080/"
        },
        "outputId": "c17bd55d-3db2-47a0-8bd8-fc81c317c628"
      },
      "execution_count": 82,
      "outputs": [
        {
          "output_type": "stream",
          "name": "stdout",
          "text": [
            "Median of Age = 38.0 \n",
            "\n",
            "Mean of Age = 38.77777777777778 \n",
            "\n",
            "Std of Age = 7.693792591722527 \n",
            "\n",
            "Max of Age = 50.0 \n",
            "\n",
            "Min of Age = 27.0 \n",
            "\n"
          ]
        }
      ]
    },
    {
      "cell_type": "code",
      "source": [
        "# 3 透過「網頁（ HTML 檔）」建立\n",
        "\n",
        "dfHTML = pd.read_html(\"https://www.stockq.org/market/asia.php\")\n",
        "print(dfHTML)"
      ],
      "metadata": {
        "id": "PfgnYIXFRbaO",
        "colab": {
          "base_uri": "https://localhost:8080/"
        },
        "outputId": "d9b854f4-d8a2-4470-d941-6ecbcdee83a6"
      },
      "execution_count": 83,
      "outputs": [
        {
          "output_type": "stream",
          "name": "stdout",
          "text": [
            "[                                                   0\n",
            "0  (adsbygoogle = window.adsbygoogle || []).push(...,                                                    0\n",
            "0  (adsbygoogle = window.adsbygoogle || []).push(...\n",
            "1  首頁 市場動態 歷史股價 基金淨值 基金分類 經濟數據 股市比較  期貨報告  高股息ETF...,     0                                                  1\n",
            "0 NaN  (adsbygoogle = window.adsbygoogle || []).push(...,                                                    0              1\n",
            "0  首頁 市場動態 歷史股價 基金淨值 基金分類 經濟數據 股市比較  期貨報告  高股息ETF...  8/31 11:46:01,                                                    0  \\\n",
            "0  市場動態 全球股市排行榜 相對低檔股市指數 相對高檔股市指數 國際指數期貨 股市指數歷史資料...   \n",
            "\n",
            "                                                   1  \n",
            "0  亞洲股市指數 2024/8/31 19:46:01  (adsbygoogle = wind...  ,                                                    0\n",
            "0  市場動態 全球股市排行榜 相對低檔股市指數 相對高檔股市指數 國際指數期貨 股市指數歷史資料...,                                                    0\n",
            "0  ETF 台灣ETF列表 台灣ETF績效比較 ETF 分類 高股息ETF 股市指數ETF ES...,                                                0\n",
            "0  債券ETF 美國政府公債ETF 投資級公司債ETF 非投資級債券ETF 新興市場債券ETF,                            0   1\n",
            "0  亞洲股市指數 2024/8/31 19:46:01 NaN,                          0                       1                       2  \\\n",
            "0   亞洲股市行情 (Asian Markets)  亞洲股市行情 (Asian Markets)  亞洲股市行情 (Asian Markets)   \n",
            "1                       股市                      指數                      漲跌   \n",
            "2                      紐西蘭                12426.65                   73.04   \n",
            "3                       澳洲                 8316.70                   53.10   \n",
            "4                    日經225                38621.00                  263.50   \n",
            "5                     東證股價                 2712.63                   19.61   \n",
            "6                    東證100                 1866.28                   13.84   \n",
            "7                    東證500                 2121.48                   15.41   \n",
            "8                   東證1000                 2567.15                   18.56   \n",
            "9                       韓國                 2674.45                   12.17   \n",
            "10                    台灣加權                22268.09                   66.24   \n",
            "11                    台灣店頭                  274.58                    1.26   \n",
            "12                    台灣50                18000.04                   13.47   \n",
            "13                    上海綜合                 2842.21                   19.11   \n",
            "14                    上海A股                 2978.90                   20.12   \n",
            "15                    上海B股                  234.77                    6.19   \n",
            "16                    深圳A股                 1614.93                   35.35   \n",
            "17                    深圳B股                 1083.28                   25.01   \n",
            "18                   滬深300                 3321.43                   43.75   \n",
            "19                    深證成指                 8348.48                  194.04   \n",
            "20                    中小板指                 5404.49                  157.81   \n",
            "21                    創業板指                 1580.46                   39.06   \n",
            "22                富時中國 A50                11762.71                  161.86   \n",
            "23                    香港恆生                17989.07                  202.75   \n",
            "24                    香港國企                 6331.14                   84.01   \n",
            "25                    香港紅籌                 3620.96                   44.01   \n",
            "26                    恆生科技                 3560.61                   99.39   \n",
            "27                   香港創業板                   14.75                    0.07   \n",
            "28                      越南                 1283.87                    2.40   \n",
            "29                      印度                82365.77                  231.16   \n",
            "30                      印尼                 7670.73                   43.13   \n",
            "31                     菲律賓                 6897.54                    5.99   \n",
            "32                    馬來西亞                 1678.80                   25.25   \n",
            "33                      泰國                 1359.07                    1.66   \n",
            "34                     新加坡                 3442.93                   38.46   \n",
            "\n",
            "                         3                       4                       5  \\\n",
            "0   亞洲股市行情 (Asian Markets)  亞洲股市行情 (Asian Markets)  亞洲股市行情 (Asian Markets)   \n",
            "1                       比例                      最高                      最低   \n",
            "2                    0.59%                12431.07                12353.61   \n",
            "3                    0.64%                 8316.70                 8263.60   \n",
            "4                    0.69%                38661.50                38319.50   \n",
            "5                    0.73%                 2714.98                 2695.63   \n",
            "6                    0.75%                 1867.25                 1853.71   \n",
            "7                    0.73%                 2123.16                 2107.79   \n",
            "8                    0.73%                 2569.37                 2550.88   \n",
            "9                    0.46%                 2686.51                 2668.66   \n",
            "10                   0.30%                22342.25                22230.07   \n",
            "11                   0.46%                  274.58                  269.60   \n",
            "12                   0.07%                18096.31                17973.04   \n",
            "13                   0.68%                 2867.96                 2817.01   \n",
            "14                   0.68%                 3005.88                 2952.32   \n",
            "15                   2.71%                  236.25                  230.52   \n",
            "16                   2.24%                  1634.7                 1579.36   \n",
            "17                   2.36%                 1086.63                 1057.56   \n",
            "18                   1.33%                 3351.63                 3273.65   \n",
            "19                   2.38%                 8453.66                 8152.81   \n",
            "20                   3.01%                 5469.02                 5247.24   \n",
            "21                   2.53%                 1601.16                 1543.89   \n",
            "22                   1.40%                11869.34                11585.54   \n",
            "23                   1.14%                18202.60                17778.10   \n",
            "24                   1.34%                 6404.45                 6247.24   \n",
            "25                   1.23%                 3672.33                 3569.85   \n",
            "26                   2.87%                 3614.68                 3470.22   \n",
            "27                   0.48%                   14.87                   14.45   \n",
            "28                   0.19%                 1286.84                 1281.47   \n",
            "29                   0.28%                82637.03                82256.02   \n",
            "30                   0.57%                 7673.18                 7616.35   \n",
            "31                   0.09%                 6930.42                 6881.40   \n",
            "32                   1.53%                 1679.85                 1651.10   \n",
            "33                   0.12%                 1367.09                 1355.46   \n",
            "34                   1.13%                 3442.93                 3406.31   \n",
            "\n",
            "                         6                       7                       8  \n",
            "0   亞洲股市行情 (Asian Markets)  亞洲股市行情 (Asian Markets)  亞洲股市行情 (Asian Markets)  \n",
            "1                       開盤                    今年表現                    當地時間  \n",
            "2                        -                   5.57%                   17:45  \n",
            "3                        -                   6.22%                   17:04  \n",
            "4                        -                  15.41%                   15:00  \n",
            "5                        -                  14.63%                   15:00  \n",
            "6                        -                      -%                   15:00  \n",
            "7                        -                      -%                   15:00  \n",
            "8                        -                      -%                   15:00  \n",
            "9                        -                   0.72%                   15:32  \n",
            "10                       -                  24.19%                   14:30  \n",
            "11                  269.60                  17.34%                   13:30  \n",
            "12                17986.57                  34.51%                   08/30  \n",
            "13                       -                  -4.46%                   15:59  \n",
            "14                       -                  -4.49%                   15:59  \n",
            "15                  230.88                   1.37%                   15:59  \n",
            "16                 1579.36                 -16.00%                   15:44  \n",
            "17                 1059.55                   0.21%                   15:44  \n",
            "18                 3273.75                  -3.20%                   15:59  \n",
            "19                       -                 -12.35%                   15:44  \n",
            "20                 5247.24                 -10.23%                   15:44  \n",
            "21                 1543.89                 -16.44%                   15:44  \n",
            "22                       -                   2.25%                   15:00  \n",
            "23                       -                   5.68%                   16:00  \n",
            "24                       -                   9.75%                   16:08  \n",
            "25                 3576.55                   8.07%                   08/30  \n",
            "26                 3476.13                  -5.41%                   15:59  \n",
            "27                    14.7                 -32.43%                   15:59  \n",
            "28                       -                  13.62%                   14:59  \n",
            "29                       -                  14.02%                   15:31  \n",
            "30                       -                   5.47%                   14:59  \n",
            "31                       -                   6.94%                   14:58  \n",
            "32                       -                  15.41%                   17:05  \n",
            "33                       -                  -4.01%                   17:03  \n",
            "34                 3409.98                   6.25%                   08/30  ,                                                    0\n",
            "0  統一發票  | 12星座分析  | 行動網站  | Wordle每日答案  | Wordle...\n",
            "1  全球股市指數 / 国际股市指数 / World Indices / Мировые инде...\n",
            "2                         紅漲綠跌  綠漲紅跌  回復預設(刪除cookie)]\n"
          ]
        }
      ]
    },
    {
      "cell_type": "code",
      "source": [
        "asia_stocks = dfHTML[9]\n",
        "print(asia_stocks)"
      ],
      "metadata": {
        "id": "w--LhXkbWPHA",
        "colab": {
          "base_uri": "https://localhost:8080/"
        },
        "outputId": "6a8342cd-8eb2-4b62-9f63-6155df5ff4af"
      },
      "execution_count": 84,
      "outputs": [
        {
          "output_type": "stream",
          "name": "stdout",
          "text": [
            "                         0                       1                       2  \\\n",
            "0   亞洲股市行情 (Asian Markets)  亞洲股市行情 (Asian Markets)  亞洲股市行情 (Asian Markets)   \n",
            "1                       股市                      指數                      漲跌   \n",
            "2                      紐西蘭                12426.65                   73.04   \n",
            "3                       澳洲                 8316.70                   53.10   \n",
            "4                    日經225                38621.00                  263.50   \n",
            "5                     東證股價                 2712.63                   19.61   \n",
            "6                    東證100                 1866.28                   13.84   \n",
            "7                    東證500                 2121.48                   15.41   \n",
            "8                   東證1000                 2567.15                   18.56   \n",
            "9                       韓國                 2674.45                   12.17   \n",
            "10                    台灣加權                22268.09                   66.24   \n",
            "11                    台灣店頭                  274.58                    1.26   \n",
            "12                    台灣50                18000.04                   13.47   \n",
            "13                    上海綜合                 2842.21                   19.11   \n",
            "14                    上海A股                 2978.90                   20.12   \n",
            "15                    上海B股                  234.77                    6.19   \n",
            "16                    深圳A股                 1614.93                   35.35   \n",
            "17                    深圳B股                 1083.28                   25.01   \n",
            "18                   滬深300                 3321.43                   43.75   \n",
            "19                    深證成指                 8348.48                  194.04   \n",
            "20                    中小板指                 5404.49                  157.81   \n",
            "21                    創業板指                 1580.46                   39.06   \n",
            "22                富時中國 A50                11762.71                  161.86   \n",
            "23                    香港恆生                17989.07                  202.75   \n",
            "24                    香港國企                 6331.14                   84.01   \n",
            "25                    香港紅籌                 3620.96                   44.01   \n",
            "26                    恆生科技                 3560.61                   99.39   \n",
            "27                   香港創業板                   14.75                    0.07   \n",
            "28                      越南                 1283.87                    2.40   \n",
            "29                      印度                82365.77                  231.16   \n",
            "30                      印尼                 7670.73                   43.13   \n",
            "31                     菲律賓                 6897.54                    5.99   \n",
            "32                    馬來西亞                 1678.80                   25.25   \n",
            "33                      泰國                 1359.07                    1.66   \n",
            "34                     新加坡                 3442.93                   38.46   \n",
            "\n",
            "                         3                       4                       5  \\\n",
            "0   亞洲股市行情 (Asian Markets)  亞洲股市行情 (Asian Markets)  亞洲股市行情 (Asian Markets)   \n",
            "1                       比例                      最高                      最低   \n",
            "2                    0.59%                12431.07                12353.61   \n",
            "3                    0.64%                 8316.70                 8263.60   \n",
            "4                    0.69%                38661.50                38319.50   \n",
            "5                    0.73%                 2714.98                 2695.63   \n",
            "6                    0.75%                 1867.25                 1853.71   \n",
            "7                    0.73%                 2123.16                 2107.79   \n",
            "8                    0.73%                 2569.37                 2550.88   \n",
            "9                    0.46%                 2686.51                 2668.66   \n",
            "10                   0.30%                22342.25                22230.07   \n",
            "11                   0.46%                  274.58                  269.60   \n",
            "12                   0.07%                18096.31                17973.04   \n",
            "13                   0.68%                 2867.96                 2817.01   \n",
            "14                   0.68%                 3005.88                 2952.32   \n",
            "15                   2.71%                  236.25                  230.52   \n",
            "16                   2.24%                  1634.7                 1579.36   \n",
            "17                   2.36%                 1086.63                 1057.56   \n",
            "18                   1.33%                 3351.63                 3273.65   \n",
            "19                   2.38%                 8453.66                 8152.81   \n",
            "20                   3.01%                 5469.02                 5247.24   \n",
            "21                   2.53%                 1601.16                 1543.89   \n",
            "22                   1.40%                11869.34                11585.54   \n",
            "23                   1.14%                18202.60                17778.10   \n",
            "24                   1.34%                 6404.45                 6247.24   \n",
            "25                   1.23%                 3672.33                 3569.85   \n",
            "26                   2.87%                 3614.68                 3470.22   \n",
            "27                   0.48%                   14.87                   14.45   \n",
            "28                   0.19%                 1286.84                 1281.47   \n",
            "29                   0.28%                82637.03                82256.02   \n",
            "30                   0.57%                 7673.18                 7616.35   \n",
            "31                   0.09%                 6930.42                 6881.40   \n",
            "32                   1.53%                 1679.85                 1651.10   \n",
            "33                   0.12%                 1367.09                 1355.46   \n",
            "34                   1.13%                 3442.93                 3406.31   \n",
            "\n",
            "                         6                       7                       8  \n",
            "0   亞洲股市行情 (Asian Markets)  亞洲股市行情 (Asian Markets)  亞洲股市行情 (Asian Markets)  \n",
            "1                       開盤                    今年表現                    當地時間  \n",
            "2                        -                   5.57%                   17:45  \n",
            "3                        -                   6.22%                   17:04  \n",
            "4                        -                  15.41%                   15:00  \n",
            "5                        -                  14.63%                   15:00  \n",
            "6                        -                      -%                   15:00  \n",
            "7                        -                      -%                   15:00  \n",
            "8                        -                      -%                   15:00  \n",
            "9                        -                   0.72%                   15:32  \n",
            "10                       -                  24.19%                   14:30  \n",
            "11                  269.60                  17.34%                   13:30  \n",
            "12                17986.57                  34.51%                   08/30  \n",
            "13                       -                  -4.46%                   15:59  \n",
            "14                       -                  -4.49%                   15:59  \n",
            "15                  230.88                   1.37%                   15:59  \n",
            "16                 1579.36                 -16.00%                   15:44  \n",
            "17                 1059.55                   0.21%                   15:44  \n",
            "18                 3273.75                  -3.20%                   15:59  \n",
            "19                       -                 -12.35%                   15:44  \n",
            "20                 5247.24                 -10.23%                   15:44  \n",
            "21                 1543.89                 -16.44%                   15:44  \n",
            "22                       -                   2.25%                   15:00  \n",
            "23                       -                   5.68%                   16:00  \n",
            "24                       -                   9.75%                   16:08  \n",
            "25                 3576.55                   8.07%                   08/30  \n",
            "26                 3476.13                  -5.41%                   15:59  \n",
            "27                    14.7                 -32.43%                   15:59  \n",
            "28                       -                  13.62%                   14:59  \n",
            "29                       -                  14.02%                   15:31  \n",
            "30                       -                   5.47%                   14:59  \n",
            "31                       -                   6.94%                   14:58  \n",
            "32                       -                  15.41%                   17:05  \n",
            "33                       -                  -4.01%                   17:03  \n",
            "34                 3409.98                   6.25%                   08/30  \n"
          ]
        }
      ]
    },
    {
      "cell_type": "code",
      "source": [
        "# 切片\n",
        "\n",
        "asia_stocks1 = dfHTML[9].loc[2:, :5]\n",
        "# .loc[]：Locator；使用「欄位名稱」抓取資料；索引值上限，包括該索引值\n",
        "# .iloc[]：Index Locator；使用「索引值」抓取資料；索引值上限，不包括該索引值\n",
        "print(asia_stocks1)"
      ],
      "metadata": {
        "id": "NRPH_fQKSiPp",
        "colab": {
          "base_uri": "https://localhost:8080/"
        },
        "outputId": "15c44324-cf98-4ec2-bb55-9da60ee1f7f8"
      },
      "execution_count": 85,
      "outputs": [
        {
          "output_type": "stream",
          "name": "stdout",
          "text": [
            "           0         1       2      3         4         5\n",
            "2        紐西蘭  12426.65   73.04  0.59%  12431.07  12353.61\n",
            "3         澳洲   8316.70   53.10  0.64%   8316.70   8263.60\n",
            "4      日經225  38621.00  263.50  0.69%  38661.50  38319.50\n",
            "5       東證股價   2712.63   19.61  0.73%   2714.98   2695.63\n",
            "6      東證100   1866.28   13.84  0.75%   1867.25   1853.71\n",
            "7      東證500   2121.48   15.41  0.73%   2123.16   2107.79\n",
            "8     東證1000   2567.15   18.56  0.73%   2569.37   2550.88\n",
            "9         韓國   2674.45   12.17  0.46%   2686.51   2668.66\n",
            "10      台灣加權  22268.09   66.24  0.30%  22342.25  22230.07\n",
            "11      台灣店頭    274.58    1.26  0.46%    274.58    269.60\n",
            "12      台灣50  18000.04   13.47  0.07%  18096.31  17973.04\n",
            "13      上海綜合   2842.21   19.11  0.68%   2867.96   2817.01\n",
            "14      上海A股   2978.90   20.12  0.68%   3005.88   2952.32\n",
            "15      上海B股    234.77    6.19  2.71%    236.25    230.52\n",
            "16      深圳A股   1614.93   35.35  2.24%    1634.7   1579.36\n",
            "17      深圳B股   1083.28   25.01  2.36%   1086.63   1057.56\n",
            "18     滬深300   3321.43   43.75  1.33%   3351.63   3273.65\n",
            "19      深證成指   8348.48  194.04  2.38%   8453.66   8152.81\n",
            "20      中小板指   5404.49  157.81  3.01%   5469.02   5247.24\n",
            "21      創業板指   1580.46   39.06  2.53%   1601.16   1543.89\n",
            "22  富時中國 A50  11762.71  161.86  1.40%  11869.34  11585.54\n",
            "23      香港恆生  17989.07  202.75  1.14%  18202.60  17778.10\n",
            "24      香港國企   6331.14   84.01  1.34%   6404.45   6247.24\n",
            "25      香港紅籌   3620.96   44.01  1.23%   3672.33   3569.85\n",
            "26      恆生科技   3560.61   99.39  2.87%   3614.68   3470.22\n",
            "27     香港創業板     14.75    0.07  0.48%     14.87     14.45\n",
            "28        越南   1283.87    2.40  0.19%   1286.84   1281.47\n",
            "29        印度  82365.77  231.16  0.28%  82637.03  82256.02\n",
            "30        印尼   7670.73   43.13  0.57%   7673.18   7616.35\n",
            "31       菲律賓   6897.54    5.99  0.09%   6930.42   6881.40\n",
            "32      馬來西亞   1678.80   25.25  1.53%   1679.85   1651.10\n",
            "33        泰國   1359.07    1.66  0.12%   1367.09   1355.46\n",
            "34       新加坡   3442.93   38.46  1.13%   3442.93   3406.31\n"
          ]
        }
      ]
    },
    {
      "cell_type": "markdown",
      "source": [
        "## § 2-2 將 DataFrame 轉為 NumPy 陣列"
      ],
      "metadata": {
        "id": "3C4a-U2OWwkt"
      }
    },
    {
      "cell_type": "code",
      "source": [
        "ary = asia_stocks1.to_numpy()\n",
        "print(ary)\n",
        "\n",
        "# .to_numpy() 也可換做 .values\n",
        "# 一個 NumPy 陣列，若混合「多種資料型態」，預設全部轉換成「字串」。\n",
        "# 「字串」是唯一能表示「數字、文字、邏輯值」，所有資料型態的表示法。"
      ],
      "metadata": {
        "id": "9wjCOlrbTpc0",
        "colab": {
          "base_uri": "https://localhost:8080/"
        },
        "outputId": "9bc2e97c-ded3-44d3-d391-cc1ef22ed928"
      },
      "execution_count": 86,
      "outputs": [
        {
          "output_type": "stream",
          "name": "stdout",
          "text": [
            "[['紐西蘭' '12426.65' '73.04' '0.59%' '12431.07' '12353.61']\n",
            " ['澳洲' '8316.70' '53.10' '0.64%' '8316.70' '8263.60']\n",
            " ['日經225' '38621.00' '263.50' '0.69%' '38661.50' '38319.50']\n",
            " ['東證股價' '2712.63' '19.61' '0.73%' '2714.98' '2695.63']\n",
            " ['東證100' '1866.28' '13.84' '0.75%' '1867.25' '1853.71']\n",
            " ['東證500' '2121.48' '15.41' '0.73%' '2123.16' '2107.79']\n",
            " ['東證1000' '2567.15' '18.56' '0.73%' '2569.37' '2550.88']\n",
            " ['韓國' '2674.45' '12.17' '0.46%' '2686.51' '2668.66']\n",
            " ['台灣加權' '22268.09' '66.24' '0.30%' '22342.25' '22230.07']\n",
            " ['台灣店頭' '274.58' '1.26' '0.46%' '274.58' '269.60']\n",
            " ['台灣50' '18000.04' '13.47' '0.07%' '18096.31' '17973.04']\n",
            " ['上海綜合' '2842.21' '19.11' '0.68%' '2867.96' '2817.01']\n",
            " ['上海A股' '2978.90' '20.12' '0.68%' '3005.88' '2952.32']\n",
            " ['上海B股' '234.77' '6.19' '2.71%' '236.25' '230.52']\n",
            " ['深圳A股' '1614.93' '35.35' '2.24%' '1634.7' '1579.36']\n",
            " ['深圳B股' '1083.28' '25.01' '2.36%' '1086.63' '1057.56']\n",
            " ['滬深300' '3321.43' '43.75' '1.33%' '3351.63' '3273.65']\n",
            " ['深證成指' '8348.48' '194.04' '2.38%' '8453.66' '8152.81']\n",
            " ['中小板指' '5404.49' '157.81' '3.01%' '5469.02' '5247.24']\n",
            " ['創業板指' '1580.46' '39.06' '2.53%' '1601.16' '1543.89']\n",
            " ['富時中國 A50' '11762.71' '161.86' '1.40%' '11869.34' '11585.54']\n",
            " ['香港恆生' '17989.07' '202.75' '1.14%' '18202.60' '17778.10']\n",
            " ['香港國企' '6331.14' '84.01' '1.34%' '6404.45' '6247.24']\n",
            " ['香港紅籌' '3620.96' '44.01' '1.23%' '3672.33' '3569.85']\n",
            " ['恆生科技' '3560.61' '99.39' '2.87%' '3614.68' '3470.22']\n",
            " ['香港創業板' '14.75' '0.07' '0.48%' '14.87' '14.45']\n",
            " ['越南' '1283.87' '2.40' '0.19%' '1286.84' '1281.47']\n",
            " ['印度' '82365.77' '231.16' '0.28%' '82637.03' '82256.02']\n",
            " ['印尼' '7670.73' '43.13' '0.57%' '7673.18' '7616.35']\n",
            " ['菲律賓' '6897.54' '5.99' '0.09%' '6930.42' '6881.40']\n",
            " ['馬來西亞' '1678.80' '25.25' '1.53%' '1679.85' '1651.10']\n",
            " ['泰國' '1359.07' '1.66' '0.12%' '1367.09' '1355.46']\n",
            " ['新加坡' '3442.93' '38.46' '1.13%' '3442.93' '3406.31']]\n"
          ]
        }
      ]
    },
    {
      "cell_type": "markdown",
      "source": [
        "## § 2-3 以「條件」過濾 DataFrame 資料"
      ],
      "metadata": {
        "id": "XHsNO84HbF1Y"
      }
    },
    {
      "cell_type": "code",
      "source": [
        "asia_stocks2 = dfHTML[9].loc[2:, [0, 1, 2, 4, 5]]\n",
        "\n",
        "condition1 = asia_stocks2[2].astype(\"float64\") > 0 # 取上漲的個股\n",
        "print(asia_stocks2[condition1])"
      ],
      "metadata": {
        "id": "8VlAIAzBZYOS",
        "colab": {
          "base_uri": "https://localhost:8080/"
        },
        "outputId": "d1826f30-7f0b-4d7a-d4a4-b52259869da2"
      },
      "execution_count": 87,
      "outputs": [
        {
          "output_type": "stream",
          "name": "stdout",
          "text": [
            "           0         1       2         4         5\n",
            "2        紐西蘭  12426.65   73.04  12431.07  12353.61\n",
            "3         澳洲   8316.70   53.10   8316.70   8263.60\n",
            "4      日經225  38621.00  263.50  38661.50  38319.50\n",
            "5       東證股價   2712.63   19.61   2714.98   2695.63\n",
            "6      東證100   1866.28   13.84   1867.25   1853.71\n",
            "7      東證500   2121.48   15.41   2123.16   2107.79\n",
            "8     東證1000   2567.15   18.56   2569.37   2550.88\n",
            "9         韓國   2674.45   12.17   2686.51   2668.66\n",
            "10      台灣加權  22268.09   66.24  22342.25  22230.07\n",
            "11      台灣店頭    274.58    1.26    274.58    269.60\n",
            "12      台灣50  18000.04   13.47  18096.31  17973.04\n",
            "13      上海綜合   2842.21   19.11   2867.96   2817.01\n",
            "14      上海A股   2978.90   20.12   3005.88   2952.32\n",
            "15      上海B股    234.77    6.19    236.25    230.52\n",
            "16      深圳A股   1614.93   35.35    1634.7   1579.36\n",
            "17      深圳B股   1083.28   25.01   1086.63   1057.56\n",
            "18     滬深300   3321.43   43.75   3351.63   3273.65\n",
            "19      深證成指   8348.48  194.04   8453.66   8152.81\n",
            "20      中小板指   5404.49  157.81   5469.02   5247.24\n",
            "21      創業板指   1580.46   39.06   1601.16   1543.89\n",
            "22  富時中國 A50  11762.71  161.86  11869.34  11585.54\n",
            "23      香港恆生  17989.07  202.75  18202.60  17778.10\n",
            "24      香港國企   6331.14   84.01   6404.45   6247.24\n",
            "25      香港紅籌   3620.96   44.01   3672.33   3569.85\n",
            "26      恆生科技   3560.61   99.39   3614.68   3470.22\n",
            "27     香港創業板     14.75    0.07     14.87     14.45\n",
            "28        越南   1283.87    2.40   1286.84   1281.47\n",
            "29        印度  82365.77  231.16  82637.03  82256.02\n",
            "30        印尼   7670.73   43.13   7673.18   7616.35\n",
            "31       菲律賓   6897.54    5.99   6930.42   6881.40\n",
            "32      馬來西亞   1678.80   25.25   1679.85   1651.10\n",
            "33        泰國   1359.07    1.66   1367.09   1355.46\n",
            "34       新加坡   3442.93   38.46   3442.93   3406.31\n"
          ]
        }
      ]
    },
    {
      "cell_type": "code",
      "source": [
        "condition2 = asia_stocks2[2].astype(\"float64\") < 0 # 取下跌的個股\n",
        "print(asia_stocks2[condition2])"
      ],
      "metadata": {
        "id": "d-hhB1r_hbMP",
        "colab": {
          "base_uri": "https://localhost:8080/"
        },
        "outputId": "19452b8d-25ad-49bc-f6cd-56b6e40f2ae2"
      },
      "execution_count": 88,
      "outputs": [
        {
          "output_type": "stream",
          "name": "stdout",
          "text": [
            "Empty DataFrame\n",
            "Columns: [0, 1, 2, 4, 5]\n",
            "Index: []\n"
          ]
        }
      ]
    },
    {
      "cell_type": "markdown",
      "source": [
        "# §§ 3 MatPlotLib\n",
        "* Matplotlib.pyplot 的作用\n",
        " * 繪製各種「統計圖表」\n",
        " * 將資料「視覺化」"
      ],
      "metadata": {
        "id": "9CW-yrROddi7"
      }
    },
    {
      "cell_type": "code",
      "source": [
        "!pip install matplotlib -U"
      ],
      "metadata": {
        "colab": {
          "base_uri": "https://localhost:8080/"
        },
        "id": "-Na2hqnz27FN",
        "outputId": "bb816e0c-8bb2-48ee-9c94-80c26ed20b09"
      },
      "execution_count": 89,
      "outputs": [
        {
          "output_type": "stream",
          "name": "stdout",
          "text": [
            "Requirement already satisfied: matplotlib in /usr/local/lib/python3.10/dist-packages (3.9.2)\n",
            "Requirement already satisfied: contourpy>=1.0.1 in /usr/local/lib/python3.10/dist-packages (from matplotlib) (1.2.1)\n",
            "Requirement already satisfied: cycler>=0.10 in /usr/local/lib/python3.10/dist-packages (from matplotlib) (0.12.1)\n",
            "Requirement already satisfied: fonttools>=4.22.0 in /usr/local/lib/python3.10/dist-packages (from matplotlib) (4.53.1)\n",
            "Requirement already satisfied: kiwisolver>=1.3.1 in /usr/local/lib/python3.10/dist-packages (from matplotlib) (1.4.5)\n",
            "Requirement already satisfied: numpy>=1.23 in /usr/local/lib/python3.10/dist-packages (from matplotlib) (2.1.0)\n",
            "Requirement already satisfied: packaging>=20.0 in /usr/local/lib/python3.10/dist-packages (from matplotlib) (24.1)\n",
            "Requirement already satisfied: pillow>=8 in /usr/local/lib/python3.10/dist-packages (from matplotlib) (9.4.0)\n",
            "Requirement already satisfied: pyparsing>=2.3.1 in /usr/local/lib/python3.10/dist-packages (from matplotlib) (3.1.4)\n",
            "Requirement already satisfied: python-dateutil>=2.7 in /usr/local/lib/python3.10/dist-packages (from matplotlib) (2.8.2)\n",
            "Requirement already satisfied: six>=1.5 in /usr/local/lib/python3.10/dist-packages (from python-dateutil>=2.7->matplotlib) (1.16.0)\n"
          ]
        }
      ]
    },
    {
      "cell_type": "code",
      "source": [
        "import numpy as np\n",
        "import matplotlib\n",
        "import matplotlib.pyplot as plt"
      ],
      "metadata": {
        "id": "lwbX-4-Tbwjg"
      },
      "execution_count": 90,
      "outputs": []
    },
    {
      "cell_type": "markdown",
      "source": [
        "## § 3-1 繪製折線圖"
      ],
      "metadata": {
        "id": "1aJQe-V1vy_A"
      }
    },
    {
      "cell_type": "code",
      "source": [
        "# plt.plot([X軸資料], Y軸資料, [線段格式])\n",
        "\n",
        "plt.plot([2, 4, 6, 8])\n",
        "plt.show()"
      ],
      "metadata": {
        "colab": {
          "base_uri": "https://localhost:8080/",
          "height": 0
        },
        "id": "DPs12AOtsS0p",
        "outputId": "86d79077-156e-464b-86f0-4a78df4fce52"
      },
      "execution_count": 91,
      "outputs": [
        {
          "output_type": "display_data",
          "data": {
            "text/plain": [
              "<Figure size 640x480 with 1 Axes>"
            ],
            "image/png": "[encoded data removed]"
          },
          "metadata": {}
        }
      ]
    },
    {
      "cell_type": "code",
      "source": [
        "plt.plot([5, 10, 15, 20], [2, 4, 6, 8])\n",
        "plt.show()"
      ],
      "metadata": {
        "colab": {
          "base_uri": "https://localhost:8080/",
          "height": 0
        },
        "id": "7WGtEhKfwPu6",
        "outputId": "26222313-a74f-4651-8c4e-cff539a11819"
      },
      "execution_count": 92,
      "outputs": [
        {
          "output_type": "display_data",
          "data": {
            "text/plain": [
              "<Figure size 640x480 with 1 Axes>"
            ],
            "image/png": "[encoded data removed]"
          },
          "metadata": {}
        }
      ]
    },
    {
      "cell_type": "code",
      "source": [
        "plt.plot([5, 10, 15, 20], [2, 4, 6, 8], \"ro\") # r = red, o = circle\n",
        "plt.show()"
      ],
      "metadata": {
        "colab": {
          "base_uri": "https://localhost:8080/",
          "height": 0
        },
        "id": "SbYFY1kIwwYZ",
        "outputId": "ce7f06bf-b83d-4690-cf85-0a854acb485f"
      },
      "execution_count": 93,
      "outputs": [
        {
          "output_type": "display_data",
          "data": {
            "text/plain": [
              "<Figure size 640x480 with 1 Axes>"
            ],
            "image/png": "[encoded data removed]"
          },
          "metadata": {}
        }
      ]
    },
    {
      "cell_type": "code",
      "source": [
        "X_a = np.arange(0, 5, 0.2)\n",
        "plt.plot(X_a, X_a, \"r--\")\n",
        "plt.plot(X_a, X_a**2, \"bs\")\n",
        "plt.plot(X_a, X_a**3, \"g^\")\n",
        "plt.show()"
      ],
      "metadata": {
        "colab": {
          "base_uri": "https://localhost:8080/",
          "height": 0
        },
        "id": "Ai8XsApcw7c2",
        "outputId": "bfad0fa8-89bf-4f9b-e63e-b357d1ac6f4d"
      },
      "execution_count": 94,
      "outputs": [
        {
          "output_type": "display_data",
          "data": {
            "text/plain": [
              "<Figure size 640x480 with 1 Axes>"
            ],
            "image/png": "[encoded data removed]"
          },
          "metadata": {}
        }
      ]
    },
    {
      "cell_type": "markdown",
      "source": [
        "## § 3-2 顯示圖形名稱、X/Y軸標籤與圖例"
      ],
      "metadata": {
        "id": "7TXCZp4WycHK"
      }
    },
    {
      "cell_type": "code",
      "source": [
        "plt.title(\"X, squared X, cubic X\")\n",
        "plt.xlabel(\"X-Axis\")\n",
        "plt.ylabel(\"Y-Axis\")\n",
        "\n",
        "plt.plot(X_a, X_a, \"r--\", label=\"X\")\n",
        "plt.plot(X_a, X_a**2, \"bs\",label=\"squared X\")\n",
        "plt.plot(X_a, X_a**3, \"g^\", label=\"cubic X\")\n",
        "plt.legend(loc='best') # 圖例位置選擇：\"best\", \"center\", \"upper\", \"lower\"\n",
        "\n",
        "plt.show()"
      ],
      "metadata": {
        "colab": {
          "base_uri": "https://localhost:8080/",
          "height": 472
        },
        "id": "HyDTEcdDxtOu",
        "outputId": "4ec0a00a-e820-4af2-bda9-dbf26eb9fbc4"
      },
      "execution_count": 95,
      "outputs": [
        {
          "output_type": "display_data",
          "data": {
            "text/plain": [
              "<Figure size 640x480 with 1 Axes>"
            ],
            "image/png": "[encoded data removed]"
          },
          "metadata": {}
        }
      ]
    },
    {
      "cell_type": "markdown",
      "source": [
        "## § 3-3 解決中文亂碼問題"
      ],
      "metadata": {
        "id": "-nNqSzCl0rbA"
      }
    },
    {
      "cell_type": "code",
      "source": [
        "# Colab 進行 matplotlib 繪圖時顯示繁體中文\n",
        "# 下載台北思源黑體並命名 taipei_sans_tc_beta.ttf ，移至指定路徑\n",
        "!wget -O TaipeiSansTCBeta-Regular.ttf https://drive.google.com/uc?id=1eGAsTN1HBpJAkeVM57_C7ccp7hbgSz3_&export=download\n",
        "\n",
        "# 改style要在改font之前\n",
        "# plt.style.use('seaborn')\n",
        "matplotlib.font_manager.fontManager.addfont('TaipeiSansTCBeta-Regular.ttf')\n",
        "matplotlib.rc('font', family='Taipei Sans TC Beta')"
      ],
      "metadata": {
        "colab": {
          "base_uri": "https://localhost:8080/"
        },
        "id": "Lq-OMoiazZV-",
        "outputId": "0f8b6c39-d1ef-4e12-f065-d8a66f0968d3"
      },
      "execution_count": 96,
      "outputs": [
        {
          "output_type": "stream",
          "name": "stdout",
          "text": [
            "--2024-08-31 03:46:13--  https://drive.google.com/uc?id=1eGAsTN1HBpJAkeVM57_C7ccp7hbgSz3_\n",
            "Resolving drive.google.com (drive.google.com)... 74.125.195.138, 74.125.195.102, 74.125.195.139, ...\n",
            "Connecting to drive.google.com (drive.google.com)|74.125.195.138|:443... connected.\n",
            "HTTP request sent, awaiting response... 303 See Other\n",
            "Location: https://drive.usercontent.google.com/download?id=1eGAsTN1HBpJAkeVM57_C7ccp7hbgSz3_ [following]\n",
            "--2024-08-31 03:46:13--  https://drive.usercontent.google.com/download?id=1eGAsTN1HBpJAkeVM57_C7ccp7hbgSz3_\n",
            "Resolving drive.usercontent.google.com (drive.usercontent.google.com)... 74.125.195.132, 2607:f8b0:400e:c09::84\n",
            "Connecting to drive.usercontent.google.com (drive.usercontent.google.com)|74.125.195.132|:443... connected.\n",
            "HTTP request sent, awaiting response... 200 OK\n",
            "Length: 20659344 (20M) [application/octet-stream]\n",
            "Saving to: ‘TaipeiSansTCBeta-Regular.ttf’\n",
            "\n",
            "TaipeiSansTCBeta-Re 100%[===================>]  19.70M  55.5MB/s    in 0.4s    \n",
            "\n",
            "2024-08-31 03:46:19 (55.5 MB/s) - ‘TaipeiSansTCBeta-Regular.ttf’ saved [20659344/20659344]\n",
            "\n"
          ]
        }
      ]
    },
    {
      "cell_type": "code",
      "source": [
        "plt.title(\"X, X 平方, X 立方\")\n",
        "plt.xlabel(\"X-軸\")\n",
        "plt.ylabel(\"Y-軸\")\n",
        "\n",
        "# plt.rcParams['font.sans-serif'] = ['Arial Unicode MS']\n",
        "# rcParams：資源檔參數設定，Resource Parameters\n",
        "# colab 還無法使用 rcParams['font.sans-serif'] = ['Arial Unicode MS']\n",
        "\n",
        "plt.plot(X_a, X_a, \"r--\", label=\"X\")\n",
        "plt.plot(X_a, X_a**2, \"bs\",label=\"X 平方\")\n",
        "plt.plot(X_a, X_a**3, \"g^\", label=\"X 立方\")\n",
        "plt.legend(loc='best') # 圖例位置選擇：\"best\", \"center\", \"upper\", \"lower\"\n",
        "\n",
        "plt.show()"
      ],
      "metadata": {
        "id": "PRigY-4x1UE7",
        "colab": {
          "base_uri": "https://localhost:8080/",
          "height": 0
        },
        "outputId": "e543c99c-9279-4c58-b1bd-f3e4b4af9b86"
      },
      "execution_count": 97,
      "outputs": [
        {
          "output_type": "display_data",
          "data": {
            "text/plain": [
              "<Figure size 640x480 with 1 Axes>"
            ],
            "image/png": "[encoded data removed]"
          },
          "metadata": {}
        }
      ]
    },
    {
      "cell_type": "markdown",
      "source": [
        "## § 3-4 繪製長條圖"
      ],
      "metadata": {
        "id": "x-7LH_6PVr3z"
      }
    },
    {
      "cell_type": "code",
      "source": [
        "B = [\"蘋果\", \"三星\", \"OPPO\", \"華為\", \"華碩\", \"小米\", \"SONY\", \"HTC\", \"Sugar\", \"Nokia\"]\n",
        "P = [24.1, 23.3, 9.2, 8.9, 8.1, 6.7, 6.5, 4.6, 1.7, 1.0]\n",
        "\n",
        "plt.title(\"2019年4月 台灣地區手機佔有率\")\n",
        "plt.xlabel(\"手機品牌\")\n",
        "plt.ylabel(\"百分比\")\n",
        "\n",
        "plt.bar(B, P)\n",
        "plt.show()"
      ],
      "metadata": {
        "colab": {
          "base_uri": "https://localhost:8080/",
          "height": 0
        },
        "id": "pCi598UO6w1n",
        "outputId": "d83bf6fa-f0a6-4db4-b41a-8dc682c48bb0"
      },
      "execution_count": 98,
      "outputs": [
        {
          "output_type": "display_data",
          "data": {
            "text/plain": [
              "<Figure size 640x480 with 1 Axes>"
            ],
            "image/png": "[encoded data removed]"
          },
          "metadata": {}
        }
      ]
    },
    {
      "cell_type": "markdown",
      "source": [
        "## § 3-5 繪製散布圖"
      ],
      "metadata": {
        "id": "JjusUAChXRAD"
      }
    },
    {
      "cell_type": "code",
      "source": [
        "# Size of Sample Data\n",
        "n = 150\n",
        "\n",
        "# Group1 Data around (-1, 2) as Normal Distribution\n",
        "G1_x = np.random.normal(loc=-1, scale=1, size=n)\n",
        "G1_y = np.random.normal(loc=2, scale=1, size=n)\n",
        "\n",
        "# Group2 Data around (2, -1) as Normal Distrition\n",
        "G2_x = np.random.normal(loc=2, scale=1, size=n)\n",
        "G2_y = np.random.normal(loc=-1, scale=1, size=n)\n",
        "\n",
        "# Scatter Chart with Size(s), Color(c), Style(marker) of Marker\n",
        "plt.scatter(G1_x, G1_y, s=75, c=\"r\", marker=\"+\", alpha=0.5)\n",
        "plt.scatter(G2_x, G2_y, s=75, c=\"b\", marker=\"o\", alpha=0.5)\n",
        "plt.show()"
      ],
      "metadata": {
        "colab": {
          "base_uri": "https://localhost:8080/",
          "height": 0
        },
        "id": "dUd-tjK3WyrJ",
        "outputId": "8350e277-5b9c-451c-8d95-eccd8080a1bc"
      },
      "execution_count": 99,
      "outputs": [
        {
          "output_type": "display_data",
          "data": {
            "text/plain": [
              "<Figure size 640x480 with 1 Axes>"
            ],
            "image/png": "[encoded data removed]"
          },
          "metadata": {}
        }
      ]
    },
    {
      "cell_type": "markdown",
      "source": [
        "## § 3-6 視覺化圖形"
      ],
      "metadata": {
        "id": "tiB-hRBL_iRg"
      }
    },
    {
      "cell_type": "code",
      "source": [
        "x = np.linspace(0, 5, 100)\n",
        "y = x[:, np.newaxis]\n",
        "\n",
        "z = np.sin(x) ** 10 + np.cos(10 + y * x) * ( np.cos(x) ** 3 )\n",
        "\n",
        "plt.imshow(z, origin='lower', extent=[0, 5, 0, 5], cmap=\"viridis\")\n",
        "plt.colorbar()\n",
        "plt.show()"
      ],
      "metadata": {
        "colab": {
          "base_uri": "https://localhost:8080/",
          "height": 435
        },
        "id": "vupY1u2G_x69",
        "outputId": "6c6f3726-59bb-4722-919b-0546f655de7e"
      },
      "execution_count": 100,
      "outputs": [
        {
          "output_type": "display_data",
          "data": {
            "text/plain": [
              "<Figure size 640x480 with 2 Axes>"
            ],
            "image/png": "[encoded data removed]"
          },
          "metadata": {}
        }
      ]
    },
    {
      "cell_type": "markdown",
      "source": [
        "# §§ 4 Scipy\n",
        "* 提供「線性代數、微積分、工程數學」常用函數"
      ],
      "metadata": {
        "id": "3lOzmK0aY3Yj"
      }
    },
    {
      "cell_type": "code",
      "source": [
        "!pip install scipy -U"
      ],
      "metadata": {
        "colab": {
          "base_uri": "https://localhost:8080/"
        },
        "id": "Ge-NKWQnYGSY",
        "outputId": "bfde7cf7-f3e2-4eaf-9536-cd29bfac5164"
      },
      "execution_count": 101,
      "outputs": [
        {
          "output_type": "stream",
          "name": "stdout",
          "text": [
            "Requirement already satisfied: scipy in /usr/local/lib/python3.10/dist-packages (1.14.1)\n",
            "Requirement already satisfied: numpy<2.3,>=1.23.5 in /usr/local/lib/python3.10/dist-packages (from scipy) (2.1.0)\n"
          ]
        }
      ]
    },
    {
      "cell_type": "code",
      "source": [
        "import scipy as sp\n",
        "import numpy as np"
      ],
      "metadata": {
        "id": "t8tUS4RKaS9m"
      },
      "execution_count": 102,
      "outputs": []
    },
    {
      "cell_type": "markdown",
      "source": [
        "## § 4-1 SciPy 常用子套件介紹"
      ],
      "metadata": {
        "id": "p9ZtOlydaefe"
      }
    },
    {
      "cell_type": "markdown",
      "source": [
        "### ⁋ sp.special\n",
        "* 特殊函數的指令，如伽馬函數、貝塔函數、zeta函數等。"
      ],
      "metadata": {
        "id": "ZCRVtNMfkjRU"
      }
    },
    {
      "cell_type": "code",
      "source": [
        "from scipy import special"
      ],
      "metadata": {
        "id": "i2djyC3adpEN"
      },
      "execution_count": 103,
      "outputs": []
    },
    {
      "cell_type": "code",
      "source": [
        "# Gamma Function, Beta Function & Zeta Function\n",
        "x = [-2, 1, 5, 10]\n",
        "print(special.gamma(x))\n",
        "print(special.beta(x, 2))\n",
        "print(special.zeta(x))"
      ],
      "metadata": {
        "colab": {
          "base_uri": "https://localhost:8080/"
        },
        "id": "f0ormWnclDiA",
        "outputId": "20c8cd45-eb1d-4c76-a889-b3c4f5b027d8"
      },
      "execution_count": 104,
      "outputs": [
        {
          "output_type": "stream",
          "name": "stdout",
          "text": [
            "[       inf 1.0000e+00 2.4000e+01 3.6288e+05]\n",
            "[0.5        0.5        0.03333333 0.00909091]\n",
            "[0.                inf 1.03692776 1.00099458]\n"
          ]
        }
      ]
    },
    {
      "cell_type": "code",
      "source": [
        "# Error Funtion\n",
        "x = np.array([0, 0.25, 0.5, 0.75, 1.0])\n",
        "print(special.erf(x))\n",
        "print(special.erfc(x))\n",
        "print(special.erfinv(x))"
      ],
      "metadata": {
        "colab": {
          "base_uri": "https://localhost:8080/"
        },
        "id": "x6D78YxIlND1",
        "outputId": "3836d642-a8a8-49f8-85ca-0d01d5891b0f"
      },
      "execution_count": 105,
      "outputs": [
        {
          "output_type": "stream",
          "name": "stdout",
          "text": [
            "[0.         0.27632639 0.52049988 0.71115563 0.84270079]\n",
            "[1.         0.72367361 0.47950012 0.28884437 0.15729921]\n",
            "[0.         0.22531206 0.47693628 0.81341985        inf]\n"
          ]
        }
      ]
    },
    {
      "cell_type": "code",
      "source": [],
      "metadata": {
        "id": "Lk578qxOlcdt"
      },
      "execution_count": 105,
      "outputs": []
    }
  ]
}