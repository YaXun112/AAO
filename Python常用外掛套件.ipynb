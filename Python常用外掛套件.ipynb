{
  "nbformat": 4,
  "nbformat_minor": 0,
  "metadata": {
    "colab": {
      "provenance": [],
      "collapsed_sections": [
        "nxMCNDgp4IWg",
        "1qRm3A7U-ET8",
        "F1O5yr1vCRE6",
        "oKlAUO2XEG_9",
        "IxTZ2PVIG5sX",
        "03WTdjgGjQp8",
        "prZ2YDQFlAAK",
        "kN0kksFQm3n0",
        "lxqQzEKXrmI_",
        "PA0FvxUwxJ9B",
        "bgxSMXQoyaBR",
        "59EL6z0R638K",
        "NXCMJLveHDkx",
        "3C4a-U2OWwkt",
        "XHsNO84HbF1Y",
        "9CW-yrROddi7",
        "1aJQe-V1vy_A",
        "7TXCZp4WycHK",
        "-nNqSzCl0rbA",
        "x-7LH_6PVr3z",
        "JjusUAChXRAD"
      ],
      "include_colab_link": true
    },
    "kernelspec": {
      "name": "python3",
      "display_name": "Python 3"
    },
    "language_info": {
      "name": "python"
    }
  },
  "cells": [
    {
      "cell_type": "markdown",
      "metadata": {
        "id": "view-in-github",
        "colab_type": "text"
      },
      "source": [
        "<a href=\"https://colab.research.google.com/github/YaXun112/Colab/blob/main/Python%E5%B8%B8%E7%94%A8%E5%A4%96%E6%8E%9B%E5%A5%97%E4%BB%B6.ipynb\" target=\"_parent\"><img src=\"https://colab.research.google.com/assets/colab-badge.svg\" alt=\"Open In Colab\"/></a>"
      ]
    },
    {
      "cell_type": "markdown",
      "source": [
        "# §§ 1 Numpy\n",
        "* 處理「陣列」，其為相同資料型態元素的集合，亦為 panda, SciPy, SciKit-Learn 等套件的基礎架構。"
      ],
      "metadata": {
        "id": "V_YKyFER79l3"
      }
    },
    {
      "cell_type": "code",
      "source": [
        "pip install numpy -U"
      ],
      "metadata": {
        "colab": {
          "base_uri": "https://localhost:8080/"
        },
        "id": "lL40dsdzPgUt",
        "outputId": "4dbe1478-a8c8-4f87-8c85-0607d0b58071"
      },
      "execution_count": 91,
      "outputs": [
        {
          "output_type": "stream",
          "name": "stdout",
          "text": [
            "Requirement already satisfied: numpy in /usr/local/lib/python3.10/dist-packages (2.1.0)\n"
          ]
        }
      ]
    },
    {
      "cell_type": "code",
      "source": [
        "import numpy as np"
      ],
      "metadata": {
        "id": "anl4OqU09KXi"
      },
      "execution_count": 92,
      "outputs": []
    },
    {
      "cell_type": "markdown",
      "source": [
        "## § 1-1 建立陣列"
      ],
      "metadata": {
        "id": "COcaxZD68y8i"
      }
    },
    {
      "cell_type": "code",
      "execution_count": 93,
      "metadata": {
        "colab": {
          "base_uri": "https://localhost:8080/"
        },
        "id": "JuvtYAbR5MPt",
        "outputId": "e0c8160b-8da5-4655-b344-96ef7b5283fa"
      },
      "outputs": [
        {
          "output_type": "stream",
          "name": "stdout",
          "text": [
            "[1 2 3]\n"
          ]
        }
      ],
      "source": [
        "# 建立一維陣列\n",
        "ary1 = np.array([1, 2, 3])\n",
        "print(ary1)"
      ]
    },
    {
      "cell_type": "code",
      "source": [
        "# 建立二維陣列\n",
        "ary2 = np.array([[1, 2, 3],[4, 5, 6]])\n",
        "print(ary2)"
      ],
      "metadata": {
        "colab": {
          "base_uri": "https://localhost:8080/"
        },
        "id": "iZfjCfcc9XsH",
        "outputId": "c449e1e7-eb41-45e3-cdba-1a887a6f3ca4"
      },
      "execution_count": 94,
      "outputs": [
        {
          "output_type": "stream",
          "name": "stdout",
          "text": [
            "[[1 2 3]\n",
            " [4 5 6]]\n"
          ]
        }
      ]
    },
    {
      "cell_type": "markdown",
      "source": [
        "### ⁋ 利用list來建立陣列"
      ],
      "metadata": {
        "id": "nxMCNDgp4IWg"
      }
    },
    {
      "cell_type": "code",
      "source": [
        "# Integer List\n",
        "List1 = list(range(10))\n",
        "print(List1)\n",
        "print(type(List1))\n",
        "print(type(List1[0]))\n",
        "[type(item) for item in List1]"
      ],
      "metadata": {
        "colab": {
          "base_uri": "https://localhost:8080/"
        },
        "id": "8vSu7KAYM06f",
        "outputId": "91b24791-3f5e-4f2e-97d8-b186671351aa"
      },
      "execution_count": 95,
      "outputs": [
        {
          "output_type": "stream",
          "name": "stdout",
          "text": [
            "[0, 1, 2, 3, 4, 5, 6, 7, 8, 9]\n",
            "<class 'list'>\n",
            "<class 'int'>\n"
          ]
        },
        {
          "output_type": "execute_result",
          "data": {
            "text/plain": [
              "[int, int, int, int, int, int, int, int, int, int]"
            ]
          },
          "metadata": {},
          "execution_count": 95
        }
      ]
    },
    {
      "cell_type": "code",
      "source": [
        "# String List\n",
        "List2 = [str(c) for c in List1] # c or char is character\n",
        "print(List2)\n",
        "print(type(List2))\n",
        "print(type(List2[0]))\n",
        "[type(item) for item in List2]"
      ],
      "metadata": {
        "colab": {
          "base_uri": "https://localhost:8080/"
        },
        "id": "LFQEkPJgNbbp",
        "outputId": "77d7e285-cbeb-4d07-a62a-45e764d772c7"
      },
      "execution_count": 96,
      "outputs": [
        {
          "output_type": "stream",
          "name": "stdout",
          "text": [
            "['0', '1', '2', '3', '4', '5', '6', '7', '8', '9']\n",
            "<class 'list'>\n",
            "<class 'str'>\n"
          ]
        },
        {
          "output_type": "execute_result",
          "data": {
            "text/plain": [
              "[str, str, str, str, str, str, str, str, str, str]"
            ]
          },
          "metadata": {},
          "execution_count": 96
        }
      ]
    },
    {
      "cell_type": "code",
      "source": [
        "# Heterogeneous List\n",
        "List3 = [True, \"2\", 3.0, 4] # 因為Python的動態型態特性，可建立異質的list\n",
        "[type(item) for item in List3]"
      ],
      "metadata": {
        "colab": {
          "base_uri": "https://localhost:8080/"
        },
        "id": "H8JGzrz2SuVf",
        "outputId": "17a5d65c-9d67-4829-9263-afb839a97e5e"
      },
      "execution_count": 97,
      "outputs": [
        {
          "output_type": "execute_result",
          "data": {
            "text/plain": [
              "[bool, str, float, int]"
            ]
          },
          "metadata": {},
          "execution_count": 97
        }
      ]
    },
    {
      "cell_type": "code",
      "source": [
        "# 建立三維陣列\n",
        "ary3 = np.array([range(i, i+3) for i in [1, 4, 7]]) # 可使用巢狀list產生多維的陣列\n",
        "print(ary3)"
      ],
      "metadata": {
        "colab": {
          "base_uri": "https://localhost:8080/"
        },
        "id": "cQnKFqu2LFQ-",
        "outputId": "b99ddc36-b463-4060-8ff6-a45924f7d391"
      },
      "execution_count": 98,
      "outputs": [
        {
          "output_type": "stream",
          "name": "stdout",
          "text": [
            "[[1 2 3]\n",
            " [4 5 6]\n",
            " [7 8 9]]\n"
          ]
        }
      ]
    },
    {
      "cell_type": "markdown",
      "source": [
        "### ⁋ 若輸入「資料型態不同」的資料，會通通變成字串。"
      ],
      "metadata": {
        "id": "1qRm3A7U-ET8"
      }
    },
    {
      "cell_type": "code",
      "source": [
        "ary4 = np.array([15, \"Apple\", True]) # 建立「資料型態不同」一維陣列\n",
        "print(ary4)"
      ],
      "metadata": {
        "colab": {
          "base_uri": "https://localhost:8080/"
        },
        "id": "0bBed-7D94oF",
        "outputId": "ee1c18c8-12c8-43a9-fd89-6b3ae17d2c2d"
      },
      "execution_count": 99,
      "outputs": [
        {
          "output_type": "stream",
          "name": "stdout",
          "text": [
            "['15' 'Apple' 'True']\n"
          ]
        }
      ]
    },
    {
      "cell_type": "markdown",
      "source": [
        "### ⁋ Broadcasting"
      ],
      "metadata": {
        "id": "dXvrF-Gg35Bj"
      }
    },
    {
      "cell_type": "code",
      "source": [
        "zero1_row = np.zeros((3,)) # one-dimentional row zeros vector\n",
        "print(zero1_row, \"\\n\")\n",
        "\n",
        "zero1_col = np.zeros((3,1)) # one-dimentional column zeros vector\n",
        "print(zero1_col)\n",
        "\n",
        "# 資料型態皆為浮點數"
      ],
      "metadata": {
        "colab": {
          "base_uri": "https://localhost:8080/"
        },
        "id": "LIGgxJpY-hsu",
        "outputId": "8b817cea-b2a8-4dea-ce87-46279685780c"
      },
      "execution_count": 201,
      "outputs": [
        {
          "output_type": "stream",
          "name": "stdout",
          "text": [
            "[0. 0. 0.] \n",
            "\n",
            "[[0.]\n",
            " [0.]\n",
            " [0.]]\n"
          ]
        }
      ]
    },
    {
      "cell_type": "code",
      "source": [
        "zero1_col = np.zeros((3))[:, np.newaxis] # one-dimentional column zeros vector\n",
        "print(zero1_col)"
      ],
      "metadata": {
        "colab": {
          "base_uri": "https://localhost:8080/"
        },
        "id": "fG_HxtYX8iOV",
        "outputId": "7e8a521e-57b1-4316-a55e-ccfa710ae7b2"
      },
      "execution_count": 206,
      "outputs": [
        {
          "output_type": "stream",
          "name": "stdout",
          "text": [
            "[[[0.]\n",
            "  [0.]\n",
            "  [0.]]] \n",
            "\n",
            "[[0.]\n",
            " [0.]\n",
            " [0.]]\n"
          ]
        }
      ]
    },
    {
      "cell_type": "code",
      "source": [
        "zero2 = np.zeros((2,3)) # two-dimentional zeros matrix\n",
        "print(zero2)\n",
        "\n",
        "# 資料型態皆為浮點數"
      ],
      "metadata": {
        "colab": {
          "base_uri": "https://localhost:8080/"
        },
        "id": "nxOudxkJ_m2F",
        "outputId": "bd541cea-5cce-4042-b6bc-b04b331fc2d8"
      },
      "execution_count": 101,
      "outputs": [
        {
          "output_type": "stream",
          "name": "stdout",
          "text": [
            "[[0. 0. 0.]\n",
            " [0. 0. 0.]]\n"
          ]
        }
      ]
    },
    {
      "cell_type": "code",
      "source": [
        "identity1 = np.eye(1) # one-dimentional identity matrix\n",
        "print(identity1, \"\\n\")\n",
        "\n",
        "identity2 = np.eye(2) # two-dimentional identity matrix\n",
        "print(identity2, \"\\n\")\n",
        "\n",
        "identity3 = np.eye(3) # three-dimentional identity matrix\n",
        "print(identity3, \"\\n\")\n",
        "\n",
        "identity4 = np.eye(4) # four-dimentional identity matrix\n",
        "print(identity4)\n",
        "\n",
        "# 資料型態皆為浮點數"
      ],
      "metadata": {
        "colab": {
          "base_uri": "https://localhost:8080/"
        },
        "id": "dGOG8oUzAQWj",
        "outputId": "d43c7a55-fd97-453e-db02-8a560a006ff9"
      },
      "execution_count": 175,
      "outputs": [
        {
          "output_type": "stream",
          "name": "stdout",
          "text": [
            "[[1.]] \n",
            "\n",
            "[[1. 0.]\n",
            " [0. 1.]] \n",
            "\n",
            "[[1. 0. 0.]\n",
            " [0. 1. 0.]\n",
            " [0. 0. 1.]] \n",
            "\n",
            "[[1. 0. 0. 0.]\n",
            " [0. 1. 0. 0.]\n",
            " [0. 0. 1. 0.]\n",
            " [0. 0. 0. 1.]]\n"
          ]
        }
      ]
    },
    {
      "cell_type": "code",
      "source": [
        "one1 = np.ones((3,)) # one-dimentional ones vector\n",
        "print(one1, \"\\n\")\n",
        "\n",
        "one2 = np.ones((2,4)) # two-dimentional ones matrix\n",
        "print(one2)\n",
        "\n",
        "# 資料型態皆為浮點數"
      ],
      "metadata": {
        "id": "8208AZvdAr2y",
        "colab": {
          "base_uri": "https://localhost:8080/"
        },
        "outputId": "6426a98f-0139-449e-de4d-3c7fd8edee8e"
      },
      "execution_count": 182,
      "outputs": [
        {
          "output_type": "stream",
          "name": "stdout",
          "text": [
            "[1. 1. 1.] \n",
            "\n",
            "[[1. 1. 1. 1.]\n",
            " [1. 1. 1. 1.]]\n"
          ]
        }
      ]
    },
    {
      "cell_type": "code",
      "source": [
        "const1 = np.full((3,), 5) # one-dimentional constant vector\n",
        "print(const1, \"\\n\")\n",
        "\n",
        "const2 = np.full((2,3), 5) # two-dimentional constant matrix\n",
        "print(const2)\n",
        "\n",
        "# 資料型態皆為整數"
      ],
      "metadata": {
        "colab": {
          "base_uri": "https://localhost:8080/"
        },
        "id": "9YWi35GEBdJL",
        "outputId": "65351775-02dd-4edc-ae81-8f8f199c444e"
      },
      "execution_count": 104,
      "outputs": [
        {
          "output_type": "stream",
          "name": "stdout",
          "text": [
            "[5 5 5] \n",
            "\n",
            "[[5 5 5]\n",
            " [5 5 5]]\n"
          ]
        }
      ]
    },
    {
      "cell_type": "code",
      "source": [
        "print(identity3 + one1, \"\\n\") # 矩陣相加\n",
        "print(identity3 - one1, \"\\n\") # 矩陣相減"
      ],
      "metadata": {
        "colab": {
          "base_uri": "https://localhost:8080/"
        },
        "id": "AlC5hgse4ZQx",
        "outputId": "9e340ea8-654c-4802-a062-17ad90889b8b"
      },
      "execution_count": 184,
      "outputs": [
        {
          "output_type": "stream",
          "name": "stdout",
          "text": [
            "[[2. 1. 1.]\n",
            " [1. 2. 1.]\n",
            " [1. 1. 2.]] \n",
            "\n",
            "[[ 0. -1. -1.]\n",
            " [-1.  0. -1.]\n",
            " [-1. -1.  0.]] \n",
            "\n"
          ]
        }
      ]
    },
    {
      "cell_type": "code",
      "source": [
        "print(one1 + one1, \"\\n\") # 列向量相加\n",
        "print(one1[:,np.newaxis] + one1[:,np.newaxis], \"\\n\") # 行向量相加\n",
        "print(one1 + one1[:,np.newaxis]) # 列向量＋行向量"
      ],
      "metadata": {
        "colab": {
          "base_uri": "https://localhost:8080/"
        },
        "id": "q4CuSjpb9Jnr",
        "outputId": "daf723a7-452a-4986-88e6-020b58d440f2"
      },
      "execution_count": 210,
      "outputs": [
        {
          "output_type": "stream",
          "name": "stdout",
          "text": [
            "[2. 2. 2.] \n",
            "\n",
            "[[2.]\n",
            " [2.]\n",
            " [2.]] \n",
            "\n",
            "[[2. 2. 2.]\n",
            " [2. 2. 2.]\n",
            " [2. 2. 2.]]\n"
          ]
        }
      ]
    },
    {
      "cell_type": "markdown",
      "source": [
        "## § 1-2 讀寫 NumPy 元素"
      ],
      "metadata": {
        "id": "F1O5yr1vCRE6"
      }
    },
    {
      "cell_type": "code",
      "source": [
        "# 讀取陣列元素\n",
        "\n",
        "ary1 = np.array([1, 2, 3])\n",
        "print(ary1[0],',', ary1[2])"
      ],
      "metadata": {
        "colab": {
          "base_uri": "https://localhost:8080/"
        },
        "id": "tWbB6ZMWCXLP",
        "outputId": "db2eb5d7-bbde-4ef9-dbec-f878a9c84f24"
      },
      "execution_count": 105,
      "outputs": [
        {
          "output_type": "stream",
          "name": "stdout",
          "text": [
            "1 , 3\n"
          ]
        }
      ]
    },
    {
      "cell_type": "code",
      "source": [
        "# 陣列索引為-1，即為陣列末尾\n",
        "\n",
        "ary1 = np.array([1, 2, 3])\n",
        "print(ary1[2],'=', ary1[-1])"
      ],
      "metadata": {
        "colab": {
          "base_uri": "https://localhost:8080/"
        },
        "id": "XbhNYwaChnYv",
        "outputId": "8557f248-3e9a-44db-8520-80aebe740b7c"
      },
      "execution_count": 106,
      "outputs": [
        {
          "output_type": "stream",
          "name": "stdout",
          "text": [
            "3 = 3\n"
          ]
        }
      ]
    },
    {
      "cell_type": "code",
      "source": [
        "# 依此類推\n",
        "\n",
        "ary1 = np.array([1, 2, 3])\n",
        "print(ary1[1],'=', ary1[-2])"
      ],
      "metadata": {
        "colab": {
          "base_uri": "https://localhost:8080/"
        },
        "id": "HqzZHWjFiR_F",
        "outputId": "64052e17-b587-4f11-cc19-36db9073e70d"
      },
      "execution_count": 107,
      "outputs": [
        {
          "output_type": "stream",
          "name": "stdout",
          "text": [
            "2 = 2\n"
          ]
        }
      ]
    },
    {
      "cell_type": "code",
      "source": [
        "# 直接寫入陣列元素，並取代原先的元素\n",
        "\n",
        "ary1 = np.array([1, 2, 3])\n",
        "ary1[0] = 100\n",
        "ary1[2] = 600\n",
        "print(ary1)"
      ],
      "metadata": {
        "colab": {
          "base_uri": "https://localhost:8080/"
        },
        "id": "cD_Q06UQC82b",
        "outputId": "5c64fe98-d4b4-41ba-e8cf-a6143abab3e8"
      },
      "execution_count": 108,
      "outputs": [
        {
          "output_type": "stream",
          "name": "stdout",
          "text": [
            "[100   2 600]\n"
          ]
        }
      ]
    },
    {
      "cell_type": "code",
      "source": [
        "ary1 = np.array([1, 2, 3])\n",
        "ary1_copy = ary1.copy()\n",
        "ary1_copy[0] = 100\n",
        "ary1_copy[2] = 600\n",
        "print(ary1)\n",
        "print(ary1_copy)"
      ],
      "metadata": {
        "colab": {
          "base_uri": "https://localhost:8080/"
        },
        "id": "IwTvsCaOp3l5",
        "outputId": "befd591a-ab17-4963-c0d8-29f4fad2a366"
      },
      "execution_count": 109,
      "outputs": [
        {
          "output_type": "stream",
          "name": "stdout",
          "text": [
            "[1 2 3]\n",
            "[100   2 600]\n"
          ]
        }
      ]
    },
    {
      "cell_type": "markdown",
      "source": [
        "## § 1-3 讀取 NumPy 本身資訊"
      ],
      "metadata": {
        "id": "oKlAUO2XEG_9"
      }
    },
    {
      "cell_type": "code",
      "source": [
        "# 讀取陣列本身「資料型態(Type)」\n",
        "\n",
        "print(type(ary1))\n",
        "\n",
        "# \"ndarray\" is an abbreviation for \"N-Dimential Array\""
      ],
      "metadata": {
        "colab": {
          "base_uri": "https://localhost:8080/"
        },
        "id": "DR3nWKCeDvYx",
        "outputId": "a68c9228-a8a5-4155-d5ce-803eaa298fcb"
      },
      "execution_count": 110,
      "outputs": [
        {
          "output_type": "stream",
          "name": "stdout",
          "text": [
            "<class 'numpy.ndarray'>\n"
          ]
        }
      ]
    },
    {
      "cell_type": "code",
      "source": [
        "# 讀取陣列本身「維度(N-Dimential)」\n",
        "\n",
        "print(ary1.ndim, 'Dimension')"
      ],
      "metadata": {
        "colab": {
          "base_uri": "https://localhost:8080/"
        },
        "id": "BrMbuH0uEfke",
        "outputId": "ef4d6694-7576-4428-9043-520928b219b0"
      },
      "execution_count": 111,
      "outputs": [
        {
          "output_type": "stream",
          "name": "stdout",
          "text": [
            "1 Dimension\n"
          ]
        }
      ]
    },
    {
      "cell_type": "code",
      "source": [
        "# 讀取陣列本身「行列數(Shape)」\n",
        "\n",
        "print(ary1.shape)"
      ],
      "metadata": {
        "colab": {
          "base_uri": "https://localhost:8080/"
        },
        "id": "2zTg4HVGF2gx",
        "outputId": "3d6811de-f4c7-48fa-ebf7-86351da6f4c8"
      },
      "execution_count": 112,
      "outputs": [
        {
          "output_type": "stream",
          "name": "stdout",
          "text": [
            "(3,)\n"
          ]
        }
      ]
    },
    {
      "cell_type": "code",
      "source": [
        "# 讀取陣列本身「資料型態(Data Type)」\n",
        "\n",
        "print(ary1.dtype)\n",
        "\n",
        "# 資料型態以及位元\n",
        "# 整數：int8, int16, int32, int64\n",
        "# 浮點數：float16, float32, float64\n",
        "# 字串：unicode\n",
        "# 布林值：bool"
      ],
      "metadata": {
        "colab": {
          "base_uri": "https://localhost:8080/"
        },
        "id": "NJfCwVJgGRxQ",
        "outputId": "f85bbae6-6979-4d9b-d548-d37a795570ad"
      },
      "execution_count": 113,
      "outputs": [
        {
          "output_type": "stream",
          "name": "stdout",
          "text": [
            "int64\n"
          ]
        }
      ]
    },
    {
      "cell_type": "markdown",
      "source": [
        "## § 1-4 用 NumPy 產生樣本點\n",
        "\n",
        "### 1. 產生「線性」樣本點\n",
        "* 洗牌\n",
        "* 更改維度\n",
        "* 更改資料型態\n",
        "\n",
        "### 2. 產生「特定間隔」樣本點\n",
        "* 「線性等間隔」樣本點\n",
        "* 「指數間隔」樣本點\n",
        "\n",
        "### 3. 產生「亂數」樣本點\n",
        "* 整數亂數\n",
        "* 浮點數亂數\n",
        "* 類別資料亂數\n",
        "\n",
        "### 4. 產生「常態分佈」樣本點\n",
        "* 標準常態分佈\n",
        "* 一般常態分佈\n",
        "\n",
        "### 5. 取出「不重複」樣本點\n",
        "\n",
        "\n"
      ],
      "metadata": {
        "id": "IxTZ2PVIG5sX"
      }
    },
    {
      "cell_type": "code",
      "source": [
        "# Array RANGE 產生「線性」樣本點\n",
        "\n",
        "sample1 = np.arange(0., 5., 0.2) # [0,5) and inteval = 0.2\n",
        "print(sample1)"
      ],
      "metadata": {
        "colab": {
          "base_uri": "https://localhost:8080/"
        },
        "id": "SLNOi-PvGbmY",
        "outputId": "1276d7fc-0acb-4b73-b8f7-13c9aeefe2c4"
      },
      "execution_count": 114,
      "outputs": [
        {
          "output_type": "stream",
          "name": "stdout",
          "text": [
            "[0.  0.2 0.4 0.6 0.8 1.  1.2 1.4 1.6 1.8 2.  2.2 2.4 2.6 2.8 3.  3.2 3.4\n",
            " 3.6 3.8 4.  4.2 4.4 4.6 4.8]\n"
          ]
        }
      ]
    },
    {
      "cell_type": "code",
      "source": [
        "# 「線性」樣本點 洗牌 shuffle\n",
        "\n",
        "sample1 = np.arange(0., 5., 0.2)\n",
        "np.random.shuffle(sample1)\n",
        "print(sample1)"
      ],
      "metadata": {
        "colab": {
          "base_uri": "https://localhost:8080/"
        },
        "id": "9dnCDFW6JlsH",
        "outputId": "d7b22dfe-15d4-47ea-92b9-77a475d30c64"
      },
      "execution_count": 115,
      "outputs": [
        {
          "output_type": "stream",
          "name": "stdout",
          "text": [
            "[1.6 0.8 4.6 4.  0.4 1.2 2.4 3.8 0.6 0.2 2.  3.6 3.4 4.2 1.  3.  1.4 3.2\n",
            " 1.8 2.2 2.6 4.4 2.8 4.8 0. ]\n"
          ]
        }
      ]
    },
    {
      "cell_type": "code",
      "source": [
        "# 「線性」樣本點 更改維度 reshape\n",
        "\n",
        "sample1 = np.arange(0., 5., 0.2)\n",
        "sample1 = sample1.reshape(5,5)\n",
        "print(sample1)"
      ],
      "metadata": {
        "colab": {
          "base_uri": "https://localhost:8080/"
        },
        "id": "vlSWkuK7KawL",
        "outputId": "c1ce6851-3918-4a48-c448-3a1e69c99279"
      },
      "execution_count": 116,
      "outputs": [
        {
          "output_type": "stream",
          "name": "stdout",
          "text": [
            "[[0.  0.2 0.4 0.6 0.8]\n",
            " [1.  1.2 1.4 1.6 1.8]\n",
            " [2.  2.2 2.4 2.6 2.8]\n",
            " [3.  3.2 3.4 3.6 3.8]\n",
            " [4.  4.2 4.4 4.6 4.8]]\n"
          ]
        }
      ]
    },
    {
      "cell_type": "code",
      "source": [
        "# 「線性」樣本點 更改資料型態\n",
        "\n",
        "sample1 = np.arange(0., 5., 0.2)\n",
        "sample1 = sample1.astype(\"unicode\")\n",
        "print(sample1)"
      ],
      "metadata": {
        "colab": {
          "base_uri": "https://localhost:8080/"
        },
        "id": "Ba-yryx6KtNg",
        "outputId": "5eddf0aa-076a-45d1-90d5-8d407bcfbc4c"
      },
      "execution_count": 117,
      "outputs": [
        {
          "output_type": "stream",
          "name": "stdout",
          "text": [
            "['0.0' '0.2' '0.4' '0.6000000000000001' '0.8' '1.0' '1.2000000000000002'\n",
            " '1.4000000000000001' '1.6' '1.8' '2.0' '2.2' '2.4000000000000004' '2.6'\n",
            " '2.8000000000000003' '3.0' '3.2' '3.4000000000000004' '3.6'\n",
            " '3.8000000000000003' '4.0' '4.2' '4.4' '4.6000000000000005'\n",
            " '4.800000000000001']\n"
          ]
        }
      ]
    },
    {
      "cell_type": "code",
      "source": [
        "# LINear SPACE 產生「線性等間隔」樣本點\n",
        "\n",
        "sample2 = np.linspace(0., 5., 5)\n",
        "print(sample2)"
      ],
      "metadata": {
        "colab": {
          "base_uri": "https://localhost:8080/"
        },
        "id": "2cleNvzsLLPL",
        "outputId": "645d6b59-0f3e-4d0d-9b37-572df6e35a67"
      },
      "execution_count": 118,
      "outputs": [
        {
          "output_type": "stream",
          "name": "stdout",
          "text": [
            "[0.   1.25 2.5  3.75 5.  ]\n"
          ]
        }
      ]
    },
    {
      "cell_type": "code",
      "source": [
        "# Log SPACE 產生「指數間隔」樣本點\n",
        "\n",
        "sample3 = np.logspace(0., 5., 5) #以10為底\n",
        "print(sample3)"
      ],
      "metadata": {
        "colab": {
          "base_uri": "https://localhost:8080/"
        },
        "id": "dGVgh5kmMBcF",
        "outputId": "575362a4-5e6e-4a15-ddaf-645f18f48db6"
      },
      "execution_count": 119,
      "outputs": [
        {
          "output_type": "stream",
          "name": "stdout",
          "text": [
            "[1.00000000e+00 1.77827941e+01 3.16227766e+02 5.62341325e+03\n",
            " 1.00000000e+05]\n"
          ]
        }
      ]
    },
    {
      "cell_type": "code",
      "source": [
        "# 產生「整數亂數」樣本點\n",
        "\n",
        "sample4 = np.random.randint(1, 7, size=15) # [1,7) and size = 15, like dice running 15 times\n",
        "print(sample4)"
      ],
      "metadata": {
        "colab": {
          "base_uri": "https://localhost:8080/"
        },
        "id": "l4BBnwiHMeFk",
        "outputId": "776e52ec-0f6d-4c48-b902-2e7612ddae29"
      },
      "execution_count": 120,
      "outputs": [
        {
          "output_type": "stream",
          "name": "stdout",
          "text": [
            "[4 4 4 3 4 5 3 5 1 3 4 1 5 2 3]\n"
          ]
        }
      ]
    },
    {
      "cell_type": "code",
      "source": [
        "# 產生「浮點數亂數」樣本點\n",
        "\n",
        "sample5 = np.random.rand(2, 3) # [0,1) and size = (2,3)\n",
        "print(sample5)"
      ],
      "metadata": {
        "colab": {
          "base_uri": "https://localhost:8080/"
        },
        "id": "tp14-3k3Oaj7",
        "outputId": "ebd634e8-1429-45f8-915c-7ee4037e5367"
      },
      "execution_count": 121,
      "outputs": [
        {
          "output_type": "stream",
          "name": "stdout",
          "text": [
            "[[0.83310064 0.36515372 0.55787574]\n",
            " [0.48544114 0.59164765 0.90005255]]\n"
          ]
        }
      ]
    },
    {
      "cell_type": "code",
      "source": [
        "# 擴展上限\n",
        "\n",
        "sample5 = np.random.rand(2, 3) * 100 # [0,100)\n",
        "print(sample5)"
      ],
      "metadata": {
        "colab": {
          "base_uri": "https://localhost:8080/"
        },
        "id": "uUueUbW1OmGJ",
        "outputId": "0929073f-6fb8-429d-d0c9-58cee8550e11"
      },
      "execution_count": 122,
      "outputs": [
        {
          "output_type": "stream",
          "name": "stdout",
          "text": [
            "[[87.20546045 70.96670882 56.88055924]\n",
            " [17.08149226 11.41491114 23.26750027]]\n"
          ]
        }
      ]
    },
    {
      "cell_type": "code",
      "source": [
        "# 擴展與移動上下限\n",
        "\n",
        "sample5 = np.random.rand(2, 3) * 100 + 10 # [10,110)\n",
        "print(sample5)"
      ],
      "metadata": {
        "colab": {
          "base_uri": "https://localhost:8080/"
        },
        "id": "uh9RfhF3O_dY",
        "outputId": "cec28095-ea97-4fd3-d8ad-0f2348cb3221"
      },
      "execution_count": 123,
      "outputs": [
        {
          "output_type": "stream",
          "name": "stdout",
          "text": [
            "[[44.11861219 83.13822332 96.5189979 ]\n",
            " [10.7518019  66.43967263 85.13092984]]\n"
          ]
        }
      ]
    },
    {
      "cell_type": "code",
      "source": [
        "# 建立一個3x3的陣列，元素介於[0, 10]的整數亂數\n",
        "\n",
        "sample6 = np.random.randint(0, 10, (3, 3))\n",
        "print(sample6)"
      ],
      "metadata": {
        "colab": {
          "base_uri": "https://localhost:8080/"
        },
        "id": "yabqW6o-gTiU",
        "outputId": "9d7e7529-1c71-49d0-fef8-2b089b36001d"
      },
      "execution_count": 124,
      "outputs": [
        {
          "output_type": "stream",
          "name": "stdout",
          "text": [
            "[[5 5 5]\n",
            " [2 0 5]\n",
            " [6 2 0]]\n"
          ]
        }
      ]
    },
    {
      "cell_type": "code",
      "source": [
        "# 建立一個3x3的陣列，元素介於[0, 10]的浮點數亂數\n",
        "\n",
        "sample7 = np.random.rand(3, 3) * 10\n",
        "print(sample7)"
      ],
      "metadata": {
        "colab": {
          "base_uri": "https://localhost:8080/"
        },
        "id": "HBzo9jo7guzd",
        "outputId": "a30df6fe-e82e-4ab6-a4b4-0e1d34587c0a"
      },
      "execution_count": 125,
      "outputs": [
        {
          "output_type": "stream",
          "name": "stdout",
          "text": [
            "[[1.9093274  3.06933915 0.24344443]\n",
            " [8.19220921 8.76794626 2.92345541]\n",
            " [4.45904657 6.11421424 1.20294079]]\n"
          ]
        }
      ]
    },
    {
      "cell_type": "code",
      "source": [
        "# 以「亂數」挑選類別資料樣本點\n",
        "# 舉例，模擬台北的天氣變化\n",
        "\n",
        "weather = [\"Sunny\", \"Cloudy\", \"Rainy\", \"Windy\"]\n",
        "\n",
        "Taipei = np.random.choice(weather, size=(4,7), replace=True, p=[0.2, 0.5, 0.2, 0.1])\n",
        "# replace=True 表示可重複選取; replace=False 表示不重複選取\n",
        "# p=[0.2, 0.5, 0.2, 0.1] 表示個別選取的機率\n",
        "\n",
        "print(Taipei)"
      ],
      "metadata": {
        "colab": {
          "base_uri": "https://localhost:8080/"
        },
        "id": "vVHcLEMNPJUv",
        "outputId": "9e4b33f5-b7ea-44f2-bc77-bdb2bfb6e932"
      },
      "execution_count": 126,
      "outputs": [
        {
          "output_type": "stream",
          "name": "stdout",
          "text": [
            "[['Windy' 'Rainy' 'Windy' 'Rainy' 'Cloudy' 'Rainy' 'Cloudy']\n",
            " ['Rainy' 'Cloudy' 'Cloudy' 'Sunny' 'Sunny' 'Cloudy' 'Cloudy']\n",
            " ['Sunny' 'Cloudy' 'Rainy' 'Cloudy' 'Cloudy' 'Cloudy' 'Rainy']\n",
            " ['Cloudy' 'Windy' 'Sunny' 'Sunny' 'Cloudy' 'Cloudy' 'Cloudy']]\n"
          ]
        }
      ]
    },
    {
      "cell_type": "code",
      "source": [
        "# 產生「標準常態分佈」（平均值＝0，標準差＝1）\n",
        "\n",
        "normal1 = np.random.randn(3, 5) # size = (3,5)\n",
        "print(normal1)"
      ],
      "metadata": {
        "colab": {
          "base_uri": "https://localhost:8080/"
        },
        "id": "XI4mKuKeP-sc",
        "outputId": "43811a44-5772-43d6-b248-2de181ebb267"
      },
      "execution_count": 127,
      "outputs": [
        {
          "output_type": "stream",
          "name": "stdout",
          "text": [
            "[[-1.79324709  1.61976038 -1.40132466 -1.32509216  1.7709905 ]\n",
            " [-0.2351356   0.51815039 -0.30577113  2.6555058  -0.61762842]\n",
            " [ 0.32713797 -1.15299521  0.38366494 -1.11345924 -1.16493176]]\n"
          ]
        }
      ]
    },
    {
      "cell_type": "code",
      "source": [
        "# 產生「一般常態分佈」\n",
        "\n",
        "normal2 = np.random.normal(10, 2, size=(3,5)) # mean = 10, std = 2, size = (3,5)\n",
        "print(normal2)"
      ],
      "metadata": {
        "colab": {
          "base_uri": "https://localhost:8080/"
        },
        "id": "t1X_tEO5Rphc",
        "outputId": "2ceebe78-c197-4807-8dd9-3c6bb6066e9d"
      },
      "execution_count": 128,
      "outputs": [
        {
          "output_type": "stream",
          "name": "stdout",
          "text": [
            "[[13.15170243 14.11319688  9.08518862  9.8357255  11.38516354]\n",
            " [10.14479336  9.94110237 10.28227756  9.48900603  9.92762808]\n",
            " [11.88476263 10.93824186 11.71655419 10.61958409 10.21464093]]\n"
          ]
        }
      ]
    },
    {
      "cell_type": "code",
      "source": [
        "# 取出「不重複」樣本點 Unique Elements\n",
        "\n",
        "dice1 = sample4 # 15 times\n",
        "unique1 = np.unique(dice1)\n",
        "print(unique1)"
      ],
      "metadata": {
        "colab": {
          "base_uri": "https://localhost:8080/"
        },
        "id": "oAVhxd0qSOXn",
        "outputId": "8eaadf3c-8c2b-4093-dc21-e14685b00777"
      },
      "execution_count": 129,
      "outputs": [
        {
          "output_type": "stream",
          "name": "stdout",
          "text": [
            "[1 2 3 4 5]\n"
          ]
        }
      ]
    },
    {
      "cell_type": "code",
      "source": [
        "# Get Unique Elements and Counts\n",
        "\n",
        "unique2, counts = np.unique(dice1, return_counts=True)\n",
        "print(unique2, counts) # 「找出不重複樣本點」及「出現次數」\n",
        "print(dict(zip(unique2, counts))) # 合成字典"
      ],
      "metadata": {
        "colab": {
          "base_uri": "https://localhost:8080/"
        },
        "id": "eaK6zxbkS6l0",
        "outputId": "d24b1450-0730-44d3-acfc-4555bd0ff7fb"
      },
      "execution_count": 130,
      "outputs": [
        {
          "output_type": "stream",
          "name": "stdout",
          "text": [
            "[1 2 3 4 5] [2 1 4 5 3]\n",
            "{1: 2, 2: 1, 3: 4, 4: 5, 5: 3}\n"
          ]
        }
      ]
    },
    {
      "cell_type": "markdown",
      "source": [
        "## § 1-5 NumPy 陣列切片"
      ],
      "metadata": {
        "id": "03WTdjgGjQp8"
      }
    },
    {
      "cell_type": "code",
      "source": [
        "# 一維陣列切片運算\n",
        "\n",
        "slice1 = np.random.randint(20, size=20)\n",
        "print(slice1, \"\\n\")\n",
        "print(slice1[:5], \"\\n\") # 指定前五個元素\n",
        "print(slice1[10:15], \"\\n\") # 指定第10到第14個元素\n",
        "print(slice1[10:], \"\\n\") # 指定第10個元素以後的元素\n",
        "print(slice1[::2], \"\\n\") # 指定每隔一個元素\n",
        "print(slice1[::3], \"\\n\") # 指定每隔兩個元素\n",
        "print(slice1[::-1], \"\\n\") # 指定由後往前\n",
        "print(slice1[::-2], \"\\n\") # 指定由後往前，每隔一個元素"
      ],
      "metadata": {
        "id": "NRr6RaA0T-Rl",
        "colab": {
          "base_uri": "https://localhost:8080/"
        },
        "outputId": "8cecb3b2-928f-4180-de93-d6bcd282b383"
      },
      "execution_count": 131,
      "outputs": [
        {
          "output_type": "stream",
          "name": "stdout",
          "text": [
            "[ 3 18  5 17  1 11  6  2 19 10 10  5 11  7  0  7  8  5 18 13] \n",
            "\n",
            "[ 3 18  5 17  1] \n",
            "\n",
            "[10  5 11  7  0] \n",
            "\n",
            "[10  5 11  7  0  7  8  5 18 13] \n",
            "\n",
            "[ 3  5  1  6 19 10 11  0  8 18] \n",
            "\n",
            "[ 3 17  6 10 11  7 18] \n",
            "\n",
            "[13 18  5  8  7  0  7 11  5 10 10 19  2  6 11  1 17  5 18  3] \n",
            "\n",
            "[13  5  7  7  5 10  2 11 17 18] \n",
            "\n"
          ]
        }
      ]
    },
    {
      "cell_type": "code",
      "source": [
        "# 二維陣列切片運算\n",
        "\n",
        "slice2 = np.random.randint(20, size=(5,5))\n",
        "print(slice2, \"\\n\")\n",
        "print(slice2[:3, :3], \"\\n\") # 指定前三列前三行\n",
        "print(slice2[2:, 2:], \"\\n\") # 指定第2列以後，第2行以後\n",
        "print(slice2[::2, ::2], \"\\n\") # 指定每隔一個元素\n",
        "print(slice2[::-1, ::-1], \"\\n\") # 指定由後往前\n",
        "print(slice2[::-2, ::-2], \"\\n\") # 指定由後往前，每隔一個元素"
      ],
      "metadata": {
        "colab": {
          "base_uri": "https://localhost:8080/"
        },
        "id": "hJFBrSngj7Rf",
        "outputId": "60c02a7f-5d22-4ba8-9a1d-dd2afca6506f"
      },
      "execution_count": 132,
      "outputs": [
        {
          "output_type": "stream",
          "name": "stdout",
          "text": [
            "[[ 0  3 14 14 16]\n",
            " [ 9 17 10 14 13]\n",
            " [ 3  2  8 11  8]\n",
            " [17  6  6 12  1]\n",
            " [14 13 10  9 15]] \n",
            "\n",
            "[[ 0  3 14]\n",
            " [ 9 17 10]\n",
            " [ 3  2  8]] \n",
            "\n",
            "[[ 8 11  8]\n",
            " [ 6 12  1]\n",
            " [10  9 15]] \n",
            "\n",
            "[[ 0 14 16]\n",
            " [ 3  8  8]\n",
            " [14 10 15]] \n",
            "\n",
            "[[15  9 10 13 14]\n",
            " [ 1 12  6  6 17]\n",
            " [ 8 11  8  2  3]\n",
            " [13 14 10 17  9]\n",
            " [16 14 14  3  0]] \n",
            "\n",
            "[[15 10 14]\n",
            " [ 8  8  3]\n",
            " [16 14  0]] \n",
            "\n"
          ]
        }
      ]
    },
    {
      "cell_type": "markdown",
      "source": [
        "## § 1-6 用 NumPy 計算統計量"
      ],
      "metadata": {
        "id": "prZ2YDQFlAAK"
      }
    },
    {
      "cell_type": "code",
      "source": [
        "stat1 = np.arange(1, 16) # [1,16)\n",
        "print(stat1)\n",
        "print(\"min =\", stat1.min()) # 最小值\n",
        "print(\"max =\", stat1.max()) # 最大值\n",
        "print(\"sum =\", stat1.sum()) # 總和\n",
        "print(\"mean =\", stat1.mean().round(2)) # 平均值\n",
        "print(\"std =\", stat1.std().round(2)) # 標準差\n",
        "print(\"var =\", stat1.var().round(2)) # 變異數\n",
        "print(\"median =\", np.median(stat1).round(2)) # 中位數"
      ],
      "metadata": {
        "colab": {
          "base_uri": "https://localhost:8080/"
        },
        "id": "cDiV494okn64",
        "outputId": "793e169b-4384-4930-b4f8-d4cf1f47532f"
      },
      "execution_count": 133,
      "outputs": [
        {
          "output_type": "stream",
          "name": "stdout",
          "text": [
            "[ 1  2  3  4  5  6  7  8  9 10 11 12 13 14 15]\n",
            "min = 1\n",
            "max = 15\n",
            "sum = 120\n",
            "mean = 8.0\n",
            "std = 4.32\n",
            "var = 18.67\n",
            "median = 8.0\n"
          ]
        }
      ]
    },
    {
      "cell_type": "code",
      "source": [
        "stat2 = np.random.rand(1, 10)*25+1 # [1,25)\n",
        "print(stat2.round(2))\n",
        "print(\"min =\", stat2.min().round(2)) # 最小值\n",
        "print(\"最小值的索引值為\", np.argmin(stat2))\n",
        "print(\"max =\", stat2.max().round(2)) # 最大值\n",
        "print(\"最大值的索引值為\", np.argmax(stat2))\n",
        "print(\"sum =\", stat2.sum().round(2)) # 總和\n",
        "print(\"mean =\", stat2.mean().round(2)) # 平均值\n",
        "print(\"std =\", stat2.std().round(2)) # 標準差\n",
        "print(\"var =\", stat2.var().round(2)) # 變異數\n",
        "print(\"median =\", np.median(stat2).round(2)) # 中位數"
      ],
      "metadata": {
        "colab": {
          "base_uri": "https://localhost:8080/"
        },
        "id": "BhVH6KNyl8aG",
        "outputId": "3b8804e8-44ce-4249-95a3-c7053866d92c"
      },
      "execution_count": 170,
      "outputs": [
        {
          "output_type": "stream",
          "name": "stdout",
          "text": [
            "[[ 3.29  4.51 14.24 24.52 23.    4.39  4.92 16.49 22.57  9.86]]\n",
            "min = 3.29\n",
            "最小值的索引值為 0\n",
            "max = 24.52\n",
            "最大值的索引值為 3\n",
            "sum = 127.79\n",
            "mean = 12.78\n",
            "std = 8.08\n",
            "var = 65.32\n",
            "median = 12.05\n"
          ]
        }
      ]
    },
    {
      "cell_type": "markdown",
      "source": [
        "## § 1-7 NumPy 陣列運算"
      ],
      "metadata": {
        "id": "kN0kksFQm3n0"
      }
    },
    {
      "cell_type": "code",
      "source": [
        "X = np.array([[1, 2], [3, 4]])\n",
        "X1 = np.array([1, -2, 3])\n",
        "X2 = np.array([4, 5, 6])\n",
        "\n",
        "# Operators and Ufuncs\n",
        "# 負數\n",
        "print(\"-X1 =\", np.negative(X1), \"\\n\")\n",
        "# 絕對值\n",
        "print(\"|X1| =\", np.abs(X1), \"\\n\")\n",
        "# 加法\n",
        "print(\"X1 + X2 =\", np.add(X1, X2), \"\\n\")\n",
        "print(\"X1 + 10 =\", np.add(X1, 10), \"\\n\")\n",
        "# 減法\n",
        "print(\"X1 - X2 =\", np.subtract(X1, X2), \"\\n\")\n",
        "print(\"X1 - 10 =\", np.subtract(X1, 10), \"\\n\")\n",
        "# 乘法\n",
        "print(\"X1 * X2 =\", np.multiply(X1, X2), \"\\n\")\n",
        "print(\"X1 * 10 =\", np.multiply(X1, 10), \"\\n\")\n",
        "# 點積、純量積（純量）\n",
        "print(\"X1 ⦁ X2 =\", np.dot(X1, X2), \"\\n\")\n",
        "print(\"X1 ⦁ 10 =\", np.dot(X1, 10), \"\\n\") # 如同乘法np.multiply\n",
        "# 內積、矩陣積（矩陣）\n",
        "print(\"X1 ⨀ X2 =\", np.inner(X1, X2), \"\\n\")\n",
        "# 叉積、向量積（法向量）\n",
        "print(\"X1 ✗ X2 =\", np.cross(X1, X2), \"\\n\")\n",
        "# 外積、倍數積（矩陣）\n",
        "print(\"X1 ⊗ X2 =\\n\", np.outer(X1, X2), \"\\n\")\n",
        "# 除法\n",
        "print(\"X1 / X2 =\", np.divide(X1, X2), \"\\n\")\n",
        "print(\"X1 / 10 =\", np.divide(X1, 10), \"\\n\")\n",
        "# 商\n",
        "print(\"X1 // X2 =\", np.floor_divide(X1, X2), \"\\n\")\n",
        "print(\"X1 // 10 =\", np.floor_divide(X1, 10), \"\\n\")\n",
        "# 餘數\n",
        "print(\"X1 % X2 =\", np.mod(X1, X2), \"\\n\")\n",
        "print(\"X1 % X2 =\", np.remainder(X1, X2), \"\\n\")\n",
        "print(\"X1 % 10 =\", np.remainder(X1, 10), \"\\n\")\n",
        "# 次方\n",
        "print(\"X2 ^ X1 =\", np.power(X1, X2), \"\\n\")\n",
        "# 反矩陣\n",
        "print(\"X ^ -1 =\\n\", np.linalg.inv(X), \"\\n\")\n",
        "# 轉置矩陣\n",
        "print(\"X ^ T =\\n\", np.transpose(X), \"\\n\")\n",
        "print(\"X ^ T =\\n\", X.T, \"\\n\")"
      ],
      "metadata": {
        "colab": {
          "base_uri": "https://localhost:8080/"
        },
        "id": "pNQa7TTiluvy",
        "outputId": "6d00fc9e-ed56-4b53-9a81-e35d719337ea"
      },
      "execution_count": 135,
      "outputs": [
        {
          "output_type": "stream",
          "name": "stdout",
          "text": [
            "-X1 = [-1  2 -3] \n",
            "\n",
            "|X1| = [1 2 3] \n",
            "\n",
            "X1 + X2 = [5 3 9] \n",
            "\n",
            "X1 + 10 = [11  8 13] \n",
            "\n",
            "X1 - X2 = [-3 -7 -3] \n",
            "\n",
            "X1 - 10 = [ -9 -12  -7] \n",
            "\n",
            "X1 * X2 = [  4 -10  18] \n",
            "\n",
            "X1 * 10 = [ 10 -20  30] \n",
            "\n",
            "X1 ⦁ X2 = 12 \n",
            "\n",
            "X1 ⦁ 10 = [ 10 -20  30] \n",
            "\n",
            "X1 ⨀ X2 = 12 \n",
            "\n",
            "X1 ✗ X2 = [-27   6  13] \n",
            "\n",
            "X1 ⊗ X2 =\n",
            " [[  4   5   6]\n",
            " [ -8 -10 -12]\n",
            " [ 12  15  18]] \n",
            "\n",
            "X1 / X2 = [ 0.25 -0.4   0.5 ] \n",
            "\n",
            "X1 / 10 = [ 0.1 -0.2  0.3] \n",
            "\n",
            "X1 // X2 = [ 0 -1  0] \n",
            "\n",
            "X1 // 10 = [ 0 -1  0] \n",
            "\n",
            "X1 % X2 = [1 3 3] \n",
            "\n",
            "X1 % X2 = [1 3 3] \n",
            "\n",
            "X1 % 10 = [1 8 3] \n",
            "\n",
            "X2 ^ X1 = [  1 -32 729] \n",
            "\n",
            "X ^ -1 =\n",
            " [[-2.   1. ]\n",
            " [ 1.5 -0.5]] \n",
            "\n",
            "X ^ T =\n",
            " [[1 3]\n",
            " [2 4]] \n",
            "\n",
            "X ^ T =\n",
            " [[1 3]\n",
            " [2 4]] \n",
            "\n"
          ]
        }
      ]
    },
    {
      "cell_type": "code",
      "source": [
        "# 聚合（累加；純量）\n",
        "x = np.arange(1,6) # [1,6)\n",
        "np.add.reduce(x) # 累加"
      ],
      "metadata": {
        "colab": {
          "base_uri": "https://localhost:8080/"
        },
        "id": "udH90wmx0CTB",
        "outputId": "0f53bde5-f080-43d5-8f07-48f7f09a507c"
      },
      "execution_count": 161,
      "outputs": [
        {
          "output_type": "execute_result",
          "data": {
            "text/plain": [
              "15"
            ]
          },
          "metadata": {},
          "execution_count": 161
        }
      ]
    },
    {
      "cell_type": "code",
      "source": [
        "# 聚合（總和；純量）\n",
        "x = np.arange(1,6) # [1,6)\n",
        "np.sum(x) # 總和"
      ],
      "metadata": {
        "colab": {
          "base_uri": "https://localhost:8080/"
        },
        "id": "iuXbbr4z101A",
        "outputId": "c02c1c95-1802-4f9a-e042-a317d87db3ea"
      },
      "execution_count": 164,
      "outputs": [
        {
          "output_type": "execute_result",
          "data": {
            "text/plain": [
              "15"
            ]
          },
          "metadata": {},
          "execution_count": 164
        }
      ]
    },
    {
      "cell_type": "code",
      "source": [
        "# 聚合（累乘；純量）\n",
        "x = np.arange(1,6) # [1,6)\n",
        "np.multiply.reduce(x) # 累乘，此處類似階乘"
      ],
      "metadata": {
        "colab": {
          "base_uri": "https://localhost:8080/"
        },
        "id": "yB45w12g0rS1",
        "outputId": "2acb3fa5-2801-4712-948a-1dd59004d3e0"
      },
      "execution_count": 163,
      "outputs": [
        {
          "output_type": "execute_result",
          "data": {
            "text/plain": [
              "120"
            ]
          },
          "metadata": {},
          "execution_count": 163
        }
      ]
    },
    {
      "cell_type": "code",
      "source": [
        "# 聚合（總乘積；純量）\n",
        "x = np.arange(1,6) # [1,6)\n",
        "np.prod(x) # 總乘積，此處類似階乘"
      ],
      "metadata": {
        "colab": {
          "base_uri": "https://localhost:8080/"
        },
        "id": "aPyycSo92Gi3",
        "outputId": "92939602-3e76-47c9-e121-a9ea149ef88c"
      },
      "execution_count": 166,
      "outputs": [
        {
          "output_type": "execute_result",
          "data": {
            "text/plain": [
              "120"
            ]
          },
          "metadata": {},
          "execution_count": 166
        }
      ]
    },
    {
      "cell_type": "markdown",
      "source": [
        "## § 1-8 NumPy 陣列串接"
      ],
      "metadata": {
        "id": "lxqQzEKXrmI_"
      }
    },
    {
      "cell_type": "code",
      "source": [
        "features = np.concatenate((X1, X2)) # 將 X1 和 X2 結合一維陣列\n",
        "print(features)"
      ],
      "metadata": {
        "colab": {
          "base_uri": "https://localhost:8080/"
        },
        "id": "0UQzavbcntku",
        "outputId": "f3f7e12f-3480-41f5-b1b8-8fc568c3f019"
      },
      "execution_count": 136,
      "outputs": [
        {
          "output_type": "stream",
          "name": "stdout",
          "text": [
            "[ 1 -2  3  4  5  6]\n"
          ]
        }
      ]
    },
    {
      "cell_type": "code",
      "source": [
        "features = np.concatenate((X1, X2)).reshape(2,3) # 轉換乘二維陣列\n",
        "print(features)"
      ],
      "metadata": {
        "colab": {
          "base_uri": "https://localhost:8080/"
        },
        "id": "bl0-uWfjvi6w",
        "outputId": "09bab3fe-dbb5-459a-8011-991567c0096a"
      },
      "execution_count": 137,
      "outputs": [
        {
          "output_type": "stream",
          "name": "stdout",
          "text": [
            "[[ 1 -2  3]\n",
            " [ 4  5  6]]\n"
          ]
        }
      ]
    },
    {
      "cell_type": "code",
      "source": [
        "features = np.concatenate((X1, X2)).reshape(2,3).T # 轉置\n",
        "print(features)"
      ],
      "metadata": {
        "colab": {
          "base_uri": "https://localhost:8080/"
        },
        "id": "pK7dyZLwvrNi",
        "outputId": "3a34e405-4c50-4bd8-ba55-17d1763c8d00"
      },
      "execution_count": 138,
      "outputs": [
        {
          "output_type": "stream",
          "name": "stdout",
          "text": [
            "[[ 1  4]\n",
            " [-2  5]\n",
            " [ 3  6]]\n"
          ]
        }
      ]
    },
    {
      "cell_type": "code",
      "source": [
        "features = np.concatenate((X1, X2)).reshape(3,2) # 轉換乘二維陣列\n",
        "print(features)"
      ],
      "metadata": {
        "colab": {
          "base_uri": "https://localhost:8080/"
        },
        "id": "FbqJhYz3teTL",
        "outputId": "6fb6726d-0562-4963-eae9-8e8ef571e644"
      },
      "execution_count": 139,
      "outputs": [
        {
          "output_type": "stream",
          "name": "stdout",
          "text": [
            "[[ 1 -2]\n",
            " [ 3  4]\n",
            " [ 5  6]]\n"
          ]
        }
      ]
    },
    {
      "cell_type": "code",
      "source": [
        "feat2 = np.concatenate((features, features), axis=0) # 沿著第一軸串接，axis=0可以省略\n",
        "print(feat2)"
      ],
      "metadata": {
        "colab": {
          "base_uri": "https://localhost:8080/"
        },
        "id": "fYoqagJOsfFS",
        "outputId": "d282113c-c5ba-42bd-a1d4-cd60f702b136"
      },
      "execution_count": 140,
      "outputs": [
        {
          "output_type": "stream",
          "name": "stdout",
          "text": [
            "[[ 1 -2]\n",
            " [ 3  4]\n",
            " [ 5  6]\n",
            " [ 1 -2]\n",
            " [ 3  4]\n",
            " [ 5  6]]\n"
          ]
        }
      ]
    },
    {
      "cell_type": "code",
      "source": [
        "feat2 = np.vstack((features, features)) # 垂直串接\n",
        "print(feat2)"
      ],
      "metadata": {
        "colab": {
          "base_uri": "https://localhost:8080/"
        },
        "id": "9t-or6BtuI3v",
        "outputId": "a02f5a6b-5782-4f5e-8f7c-e24fc213299b"
      },
      "execution_count": 141,
      "outputs": [
        {
          "output_type": "stream",
          "name": "stdout",
          "text": [
            "[[ 1 -2]\n",
            " [ 3  4]\n",
            " [ 5  6]\n",
            " [ 1 -2]\n",
            " [ 3  4]\n",
            " [ 5  6]]\n"
          ]
        }
      ]
    },
    {
      "cell_type": "code",
      "source": [
        "feat4 = np.concatenate((features, features)).reshape(6,2) # reshape不一定具備水平或垂直串接的特性\n",
        "print(feat4)"
      ],
      "metadata": {
        "colab": {
          "base_uri": "https://localhost:8080/"
        },
        "id": "m3a5qD5fvCXx",
        "outputId": "3153efd0-2cdc-4a78-a2a0-1902a5dce37e"
      },
      "execution_count": 142,
      "outputs": [
        {
          "output_type": "stream",
          "name": "stdout",
          "text": [
            "[[ 1 -2]\n",
            " [ 3  4]\n",
            " [ 5  6]\n",
            " [ 1 -2]\n",
            " [ 3  4]\n",
            " [ 5  6]]\n"
          ]
        }
      ]
    },
    {
      "cell_type": "code",
      "source": [
        "feat3 = np.concatenate((features, features), axis=1) # 沿著第二軸串接\n",
        "print(feat3)"
      ],
      "metadata": {
        "colab": {
          "base_uri": "https://localhost:8080/"
        },
        "id": "1qw1t-Tpsqv6",
        "outputId": "3e7300f2-3660-4fcc-ba05-796d958df653"
      },
      "execution_count": 143,
      "outputs": [
        {
          "output_type": "stream",
          "name": "stdout",
          "text": [
            "[[ 1 -2  1 -2]\n",
            " [ 3  4  3  4]\n",
            " [ 5  6  5  6]]\n"
          ]
        }
      ]
    },
    {
      "cell_type": "code",
      "source": [
        "feat3 = np.hstack((features, features)) # 水平串接\n",
        "print(feat3)"
      ],
      "metadata": {
        "colab": {
          "base_uri": "https://localhost:8080/"
        },
        "id": "1NtsoAOIuvNX",
        "outputId": "be169408-a9ca-42f5-f49e-cdd6f825ac50"
      },
      "execution_count": 144,
      "outputs": [
        {
          "output_type": "stream",
          "name": "stdout",
          "text": [
            "[[ 1 -2  1 -2]\n",
            " [ 3  4  3  4]\n",
            " [ 5  6  5  6]]\n"
          ]
        }
      ]
    },
    {
      "cell_type": "code",
      "source": [
        "feat4 = np.concatenate((features, features)).reshape(3,4) # reshape不一定具備水平或垂直串接的特性\n",
        "print(feat4)"
      ],
      "metadata": {
        "colab": {
          "base_uri": "https://localhost:8080/"
        },
        "id": "lBPWGYGOsBwN",
        "outputId": "d371408d-95a4-4c70-de41-ef5a97d9bd69"
      },
      "execution_count": 145,
      "outputs": [
        {
          "output_type": "stream",
          "name": "stdout",
          "text": [
            "[[ 1 -2  3  4]\n",
            " [ 5  6  1 -2]\n",
            " [ 3  4  5  6]]\n"
          ]
        }
      ]
    },
    {
      "cell_type": "markdown",
      "source": [
        "## § 1-9 NumPy 陣列分割"
      ],
      "metadata": {
        "id": "PA0FvxUwxJ9B"
      }
    },
    {
      "cell_type": "code",
      "source": [
        "x = [1, 2, 3, 99, 99, 3, 2, 1]\n",
        "x1, x2, x3 = np.split(x, [3, 5]) # 指定分割點\n",
        "print(x1, x2, x3)"
      ],
      "metadata": {
        "colab": {
          "base_uri": "https://localhost:8080/"
        },
        "id": "CO8uN56mxKc0",
        "outputId": "21d6c653-a50b-471c-ccc5-96c0301f7d9a"
      },
      "execution_count": 146,
      "outputs": [
        {
          "output_type": "stream",
          "name": "stdout",
          "text": [
            "[1 2 3] [99 99] [3 2 1]\n"
          ]
        }
      ]
    },
    {
      "cell_type": "code",
      "source": [
        "grid = np.arange(12).reshape((4, 3))\n",
        "print(grid)"
      ],
      "metadata": {
        "colab": {
          "base_uri": "https://localhost:8080/"
        },
        "id": "htCEbTmAxXDc",
        "outputId": "201d5bec-5f0b-4f40-f175-a6d935264643"
      },
      "execution_count": 147,
      "outputs": [
        {
          "output_type": "stream",
          "name": "stdout",
          "text": [
            "[[ 0  1  2]\n",
            " [ 3  4  5]\n",
            " [ 6  7  8]\n",
            " [ 9 10 11]]\n"
          ]
        }
      ]
    },
    {
      "cell_type": "code",
      "source": [
        "upper, lower = np.vsplit(grid, [2]) # 垂直分割\n",
        "print(upper, \"\\n\")\n",
        "print(lower)"
      ],
      "metadata": {
        "colab": {
          "base_uri": "https://localhost:8080/"
        },
        "id": "AUvgyWZgxegG",
        "outputId": "541fae00-1f16-49b8-9350-ecd4e4957f94"
      },
      "execution_count": 148,
      "outputs": [
        {
          "output_type": "stream",
          "name": "stdout",
          "text": [
            "[[0 1 2]\n",
            " [3 4 5]] \n",
            "\n",
            "[[ 6  7  8]\n",
            " [ 9 10 11]]\n"
          ]
        }
      ]
    },
    {
      "cell_type": "code",
      "source": [
        "left, right = np.hsplit(grid, [1]) # 水平分割\n",
        "print(left, \"\\n\")\n",
        "print(right)"
      ],
      "metadata": {
        "colab": {
          "base_uri": "https://localhost:8080/"
        },
        "id": "y6afgGALxmjR",
        "outputId": "aff82a08-9de2-4a14-cf30-bcaf2b663c0c"
      },
      "execution_count": 149,
      "outputs": [
        {
          "output_type": "stream",
          "name": "stdout",
          "text": [
            "[[0]\n",
            " [3]\n",
            " [6]\n",
            " [9]] \n",
            "\n",
            "[[ 1  2]\n",
            " [ 4  5]\n",
            " [ 7  8]\n",
            " [10 11]]\n"
          ]
        }
      ]
    },
    {
      "cell_type": "markdown",
      "source": [
        "## § 1-10 NumPy 常用函數"
      ],
      "metadata": {
        "id": "bgxSMXQoyaBR"
      }
    },
    {
      "cell_type": "markdown",
      "source": [
        "### ⁋ 小數舍入"
      ],
      "metadata": {
        "id": "j8yEw20aytiB"
      }
    },
    {
      "cell_type": "code",
      "source": [
        "num1 = np.array([-1.67, -1.01, -0.35, 0.97, 1.63])\n",
        "# 四捨五入\n",
        "# around = Array ROUND\n",
        "np.around(num1,1) # 保留小數點後一位"
      ],
      "metadata": {
        "colab": {
          "base_uri": "https://localhost:8080/"
        },
        "id": "tTWp_emBvxKJ",
        "outputId": "2bfccdba-691e-45d2-8c61-ecc443a5c9ca"
      },
      "execution_count": 150,
      "outputs": [
        {
          "output_type": "execute_result",
          "data": {
            "text/plain": [
              "array([-1.7, -1. , -0.4,  1. ,  1.6])"
            ]
          },
          "metadata": {},
          "execution_count": 150
        }
      ]
    },
    {
      "cell_type": "code",
      "source": [
        "# 無條件捨去取「地板」\n",
        "np.floor(num1)"
      ],
      "metadata": {
        "colab": {
          "base_uri": "https://localhost:8080/"
        },
        "id": "bG12aqet07KV",
        "outputId": "b02bc774-160d-480b-9b8e-df41175831e3"
      },
      "execution_count": 151,
      "outputs": [
        {
          "output_type": "execute_result",
          "data": {
            "text/plain": [
              "array([-2., -2., -1.,  0.,  1.])"
            ]
          },
          "metadata": {},
          "execution_count": 151
        }
      ]
    },
    {
      "cell_type": "code",
      "source": [
        "# 無條件進位取「天花板」\n",
        "np.ceil(num1)"
      ],
      "metadata": {
        "colab": {
          "base_uri": "https://localhost:8080/"
        },
        "id": "S4kWsdHY1dhR",
        "outputId": "d5778437-bd2b-4929-ce2d-045326deedd9"
      },
      "execution_count": 152,
      "outputs": [
        {
          "output_type": "execute_result",
          "data": {
            "text/plain": [
              "array([-1., -1., -0.,  1.,  2.])"
            ]
          },
          "metadata": {},
          "execution_count": 152
        }
      ]
    },
    {
      "cell_type": "markdown",
      "source": [
        "### ⁋ 指數相關函數"
      ],
      "metadata": {
        "id": "YmvkWhUhyzvx"
      }
    },
    {
      "cell_type": "code",
      "source": [
        "x1 = np.arange(1.0, 10.0, 1.0).reshape(3,3)\n",
        "print(x1)"
      ],
      "metadata": {
        "colab": {
          "base_uri": "https://localhost:8080/"
        },
        "id": "ElQnBnoky5OF",
        "outputId": "ec747910-4545-41ef-f5d8-39cea8aa524c"
      },
      "execution_count": 153,
      "outputs": [
        {
          "output_type": "stream",
          "name": "stdout",
          "text": [
            "[[1. 2. 3.]\n",
            " [4. 5. 6.]\n",
            " [7. 8. 9.]]\n"
          ]
        }
      ]
    },
    {
      "cell_type": "code",
      "source": [
        "print(\"e^x =\\n\", np.exp(x1), \"\\n\") # 指數函數 e^x\n",
        "print(\"2^x =\\n\", np.exp2(x1), \"\\n\") # 指數函數 2^x\n",
        "print(\"x^x =\\n\", np.power(x1, x1), \"\\n\") # 指數函數 3^x\n",
        "print(\"√x =\\n\", np.sqrt(x1), \"\\n\") # 平方根"
      ],
      "metadata": {
        "colab": {
          "base_uri": "https://localhost:8080/"
        },
        "id": "PXZL-ChS2kh-",
        "outputId": "d3a0a6ed-cbcf-475b-efa0-51c7bbbb3db0"
      },
      "execution_count": 154,
      "outputs": [
        {
          "output_type": "stream",
          "name": "stdout",
          "text": [
            "e^x =\n",
            " [[2.71828183e+00 7.38905610e+00 2.00855369e+01]\n",
            " [5.45981500e+01 1.48413159e+02 4.03428793e+02]\n",
            " [1.09663316e+03 2.98095799e+03 8.10308393e+03]] \n",
            "\n",
            "2^x =\n",
            " [[  2.   4.   8.]\n",
            " [ 16.  32.  64.]\n",
            " [128. 256. 512.]] \n",
            "\n",
            "x^x =\n",
            " [[1.00000000e+00 4.00000000e+00 2.70000000e+01]\n",
            " [2.56000000e+02 3.12500000e+03 4.66560000e+04]\n",
            " [8.23543000e+05 1.67772160e+07 3.87420489e+08]] \n",
            "\n",
            "√x =\n",
            " [[1.         1.41421356 1.73205081]\n",
            " [2.         2.23606798 2.44948974]\n",
            " [2.64575131 2.82842712 3.        ]] \n",
            "\n"
          ]
        }
      ]
    },
    {
      "cell_type": "markdown",
      "source": [
        "### ⁋ 對數相關函數"
      ],
      "metadata": {
        "id": "4f6G4kr-y6vP"
      }
    },
    {
      "cell_type": "code",
      "source": [
        "x2 = np.arange(2, 20, 2).reshape(3,3)\n",
        "print(x2)"
      ],
      "metadata": {
        "colab": {
          "base_uri": "https://localhost:8080/"
        },
        "id": "hAABkryBy_5M",
        "outputId": "53ac4eae-8ca1-4179-b492-2eef091a6ced"
      },
      "execution_count": 155,
      "outputs": [
        {
          "output_type": "stream",
          "name": "stdout",
          "text": [
            "[[ 2  4  6]\n",
            " [ 8 10 12]\n",
            " [14 16 18]]\n"
          ]
        }
      ]
    },
    {
      "cell_type": "code",
      "source": [
        "print(\"ln(x) =\\n\", np.log(x2), \"\\n\") # 對數函數 ln(x)\n",
        "print(\"log2(x) =\\n\", np.log2(x2), \"\\n\") # 對數函數 log2(x)\n",
        "print(\"log10(x) =\\n\", np.log10(x2), \"\\n\") # 對數函數 log10(x)"
      ],
      "metadata": {
        "colab": {
          "base_uri": "https://localhost:8080/"
        },
        "id": "yNbp6WdY4llt",
        "outputId": "db14e100-c5f5-48c0-d138-7430d8dd8f9d"
      },
      "execution_count": 156,
      "outputs": [
        {
          "output_type": "stream",
          "name": "stdout",
          "text": [
            "ln(x) =\n",
            " [[0.69314718 1.38629436 1.79175947]\n",
            " [2.07944154 2.30258509 2.48490665]\n",
            " [2.63905733 2.77258872 2.89037176]] \n",
            "\n",
            "log2(x) =\n",
            " [[1.         2.         2.5849625 ]\n",
            " [3.         3.32192809 3.5849625 ]\n",
            " [3.80735492 4.         4.169925  ]] \n",
            "\n",
            "log10(x) =\n",
            " [[0.30103    0.60205999 0.77815125]\n",
            " [0.90308999 1.         1.07918125]\n",
            " [1.14612804 1.20411998 1.25527251]] \n",
            "\n"
          ]
        }
      ]
    },
    {
      "cell_type": "markdown",
      "source": [
        "### ⁋ 三角函數"
      ],
      "metadata": {
        "id": "vwVSUPOJzA-4"
      }
    },
    {
      "cell_type": "code",
      "source": [
        "deg = np.array([0, 30, 60, 90])\n",
        "rad = np.deg2rad(deg) # 角度或徑度轉換為弧度\n",
        "print(rad) # 弧度轉換為角度或徑度"
      ],
      "metadata": {
        "colab": {
          "base_uri": "https://localhost:8080/"
        },
        "id": "bB0aOUgXzD1K",
        "outputId": "3fb5de83-df30-49e4-9891-4825bb963243"
      },
      "execution_count": 157,
      "outputs": [
        {
          "output_type": "stream",
          "name": "stdout",
          "text": [
            "[0.         0.52359878 1.04719755 1.57079633]\n"
          ]
        }
      ]
    },
    {
      "cell_type": "code",
      "source": [
        "print(\"sin(rad) =\", np.sin(rad), \"\\n\") # 正弦函數\n",
        "print(\"cos(rad) =\",np.cos(rad), \"\\n\") # 余弦函數\n",
        "print(\"tan(rad) =\",np.tan(rad), \"\\n\") # 正切函數"
      ],
      "metadata": {
        "colab": {
          "base_uri": "https://localhost:8080/"
        },
        "id": "5z-kqoEj5aV5",
        "outputId": "5389eb7a-57d6-42e1-99b9-fe28eccd0675"
      },
      "execution_count": 158,
      "outputs": [
        {
          "output_type": "stream",
          "name": "stdout",
          "text": [
            "sin(rad) = [0.        0.5       0.8660254 1.       ] \n",
            "\n",
            "cos(rad) = [1.00000000e+00 8.66025404e-01 5.00000000e-01 6.12323400e-17] \n",
            "\n",
            "tan(rad) = [0.00000000e+00 5.77350269e-01 1.73205081e+00 1.63312394e+16] \n",
            "\n"
          ]
        }
      ]
    },
    {
      "cell_type": "markdown",
      "source": [
        "# §§ 2 Pandas\n",
        "* 讀入「外部資料」，並以「表格」形式呈現。\n",
        "* 讀入後，以下列資料型態表示：\n",
        " * 一維：Series\n",
        " * 二維：DataFrame（最常見）\n",
        " * 三維：Panel\n",
        "\n",
        "\n",
        "\n"
      ],
      "metadata": {
        "id": "59EL6z0R638K"
      }
    },
    {
      "cell_type": "code",
      "source": [
        "pip install pandas -U"
      ],
      "metadata": {
        "colab": {
          "base_uri": "https://localhost:8080/"
        },
        "id": "fJFrotPNNX2V",
        "outputId": "502562ef-c308-481e-e1c9-55c95231b182"
      },
      "execution_count": 18,
      "outputs": [
        {
          "output_type": "stream",
          "name": "stdout",
          "text": [
            "Requirement already satisfied: pandas in /usr/local/lib/python3.10/dist-packages (2.2.2)\n",
            "Requirement already satisfied: numpy>=1.22.4 in /usr/local/lib/python3.10/dist-packages (from pandas) (2.1.0)\n",
            "Requirement already satisfied: python-dateutil>=2.8.2 in /usr/local/lib/python3.10/dist-packages (from pandas) (2.8.2)\n",
            "Requirement already satisfied: pytz>=2020.1 in /usr/local/lib/python3.10/dist-packages (from pandas) (2024.1)\n",
            "Requirement already satisfied: tzdata>=2022.7 in /usr/local/lib/python3.10/dist-packages (from pandas) (2024.1)\n",
            "Requirement already satisfied: six>=1.5 in /usr/local/lib/python3.10/dist-packages (from python-dateutil>=2.8.2->pandas) (1.16.0)\n"
          ]
        }
      ]
    },
    {
      "cell_type": "code",
      "source": [
        "from google.colab import drive\n",
        "drive.mount('/content/drive') # 掛載 Google Drive"
      ],
      "metadata": {
        "colab": {
          "base_uri": "https://localhost:8080/"
        },
        "id": "xp5qQ49TLm-b",
        "outputId": "f6139ca3-6315-40b8-9665-976e0934c455"
      },
      "execution_count": 19,
      "outputs": [
        {
          "output_type": "stream",
          "name": "stdout",
          "text": [
            "Drive already mounted at /content/drive; to attempt to forcibly remount, call drive.mount(\"/content/drive\", force_remount=True).\n"
          ]
        }
      ]
    },
    {
      "cell_type": "code",
      "source": [
        "import pandas as pd\n",
        "import numpy as np"
      ],
      "metadata": {
        "id": "6ix6dSutIAOm"
      },
      "execution_count": 32,
      "outputs": []
    },
    {
      "cell_type": "markdown",
      "source": [
        "## § 2-1 建立 DataFrame\n",
        "* 透過「複合資料結構」建立\n",
        "* 透過「 CSV 檔」建立\n",
        "* 透過「網頁（ HTML 檔）」建立"
      ],
      "metadata": {
        "id": "NXCMJLveHDkx"
      }
    },
    {
      "cell_type": "code",
      "source": [
        "# 1 透過「複合資料結構」建立\n",
        "Rows = [\"Row1\", \"Row2\", \"Row3\"]\n",
        "Cols = [\"Col1\", \"Col2\"]\n",
        "\n",
        "# by list (Row-based)\n",
        "dfList = pd.DataFrame([[1, 2], [3, 4], [5, 6]], index=Rows, columns=Cols)\n",
        "print(\"以 row 為主\\n\", dfList, \"\\n\")\n",
        "\n",
        "# by Dict (Colume-based)\n",
        "dfDict = pd.DataFrame({\"Col1\": [1, 3, 5], \"Col2\": [2, 4, 6]}, index=Rows)\n",
        "print(\"以 column 為主\\n\", dfDict)"
      ],
      "metadata": {
        "id": "mbH7PwK5686m",
        "colab": {
          "base_uri": "https://localhost:8080/"
        },
        "outputId": "d74149d7-ff43-4206-89b8-03a5b56cb58c"
      },
      "execution_count": 33,
      "outputs": [
        {
          "output_type": "stream",
          "name": "stdout",
          "text": [
            "以 row 為主\n",
            "       Col1  Col2\n",
            "Row1     1     2\n",
            "Row2     3     4\n",
            "Row3     5     6 \n",
            "\n",
            "以 column 為主\n",
            "       Col1  Col2\n",
            "Row1     1     2\n",
            "Row2     3     4\n",
            "Row3     5     6\n"
          ]
        }
      ]
    },
    {
      "cell_type": "code",
      "source": [
        "# 2 透過「 CSV 檔」建立\n",
        "\n",
        "dfCSV = pd.read_csv('/content/drive/MyDrive/CSV/CarSales.csv')\n",
        "print(dfCSV)"
      ],
      "metadata": {
        "id": "LBf-N_OtIoLB",
        "colab": {
          "base_uri": "https://localhost:8080/"
        },
        "outputId": "9e4848e7-e27f-40c9-b06d-df01e39b72d3"
      },
      "execution_count": 22,
      "outputs": [
        {
          "output_type": "stream",
          "name": "stdout",
          "text": [
            "   Country   Age   Salary ToBuy\n",
            "0   France  44.0  72000.0    No\n",
            "1    Spain  27.0  48000.0   Yes\n",
            "2  Germany  30.0  54000.0    No\n",
            "3    Spain  38.0  61000.0    No\n",
            "4  Germany  40.0      NaN   Yes\n",
            "5   France  35.0  58000.0   Yes\n",
            "6    Spain   NaN  52000.0    No\n",
            "7   France  48.0  79000.0   Yes\n",
            "8  Germany  50.0  83000.0    No\n",
            "9   France  37.0  67000.0   Yes\n"
          ]
        }
      ]
    },
    {
      "cell_type": "code",
      "source": [
        "# dfCVS[\"欄位名稱\"]：取出特定欄位的方法\n",
        "# 針對特定欄位，計算統計量的方法\n",
        "\n",
        "print(dfCSV[\"Country\"].mode(), \"\\n\")\n",
        "print(dfCSV[\"Country\"].value_counts(), \"\\n\")\n",
        "print(dfCSV[\"Country\"].unique(), \"\\n\")\n",
        "print(dfCSV[\"Country\"].nunique(), \"\\n\")"
      ],
      "metadata": {
        "id": "1l97Y8I4L9Ux",
        "colab": {
          "base_uri": "https://localhost:8080/"
        },
        "outputId": "f7c2357d-b507-41a9-be24-23ea4e0f20b0"
      },
      "execution_count": 23,
      "outputs": [
        {
          "output_type": "stream",
          "name": "stdout",
          "text": [
            "0    France\n",
            "Name: Country, dtype: object \n",
            "\n",
            "Country\n",
            "France     4\n",
            "Spain      3\n",
            "Germany    3\n",
            "Name: count, dtype: int64 \n",
            "\n",
            "['France' 'Spain' 'Germany'] \n",
            "\n",
            "3 \n",
            "\n"
          ]
        }
      ]
    },
    {
      "cell_type": "code",
      "source": [
        "print(\"Median of Age =\", dfCSV[\"Age\"].median(), \"\\n\")\n",
        "print(\"Mean of Age =\", dfCSV[\"Age\"].mean(), \"\\n\")\n",
        "print(\"Std of Age =\", dfCSV[\"Age\"].std(), \"\\n\")\n",
        "print(\"Max of Age =\", dfCSV[\"Age\"].max(), \"\\n\")\n",
        "print(\"Min of Age =\", dfCSV[\"Age\"].min(), \"\\n\")"
      ],
      "metadata": {
        "id": "8M7caHRgQpDl",
        "colab": {
          "base_uri": "https://localhost:8080/"
        },
        "outputId": "c73cfff0-8dc5-429f-c07b-01756664026c"
      },
      "execution_count": 24,
      "outputs": [
        {
          "output_type": "stream",
          "name": "stdout",
          "text": [
            "Median of Age = 38.0 \n",
            "\n",
            "Mean of Age = 38.77777777777778 \n",
            "\n",
            "Std of Age = 7.693792591722527 \n",
            "\n",
            "Max of Age = 50.0 \n",
            "\n",
            "Min of Age = 27.0 \n",
            "\n"
          ]
        }
      ]
    },
    {
      "cell_type": "code",
      "source": [
        "# 3 透過「網頁（ HTML 檔）」建立\n",
        "\n",
        "dfHTML = pd.read_html(\"https://www.stockq.org/market/asia.php\")\n",
        "print(dfHTML)"
      ],
      "metadata": {
        "id": "PfgnYIXFRbaO",
        "colab": {
          "base_uri": "https://localhost:8080/"
        },
        "outputId": "e7c41eb5-96ea-40f1-8e0e-cc0655844574"
      },
      "execution_count": 25,
      "outputs": [
        {
          "output_type": "stream",
          "name": "stdout",
          "text": [
            "[                                                   0\n",
            "0  (adsbygoogle = window.adsbygoogle || []).push(...,                                                    0\n",
            "0  (adsbygoogle = window.adsbygoogle || []).push(...\n",
            "1  首頁 市場動態 歷史股價 基金淨值 基金分類 經濟數據 股市比較  期貨報告  高股息ETF...,     0                                                  1\n",
            "0 NaN  (adsbygoogle = window.adsbygoogle || []).push(...,                                                    0              1\n",
            "0  首頁 市場動態 歷史股價 基金淨值 基金分類 經濟數據 股市比較  期貨報告  高股息ETF...  8/30 21:33:06,                                                    0  \\\n",
            "0  市場動態 全球股市排行榜 相對低檔股市指數 相對高檔股市指數 國際指數期貨 股市指數歷史資料...   \n",
            "\n",
            "                                                   1  \n",
            "0  亞洲股市指數 2024/8/31 05:33:06  (adsbygoogle = wind...  ,                                                    0\n",
            "0  市場動態 全球股市排行榜 相對低檔股市指數 相對高檔股市指數 國際指數期貨 股市指數歷史資料...,                                                    0\n",
            "0  ETF 台灣ETF列表 台灣ETF績效比較 ETF 分類 高股息ETF 股市指數ETF ES...,                                                0\n",
            "0  債券ETF 美國政府公債ETF 投資級公司債ETF 非投資級債券ETF 新興市場債券ETF,                            0   1\n",
            "0  亞洲股市指數 2024/8/31 05:33:06 NaN,                          0                       1                       2  \\\n",
            "0   亞洲股市行情 (Asian Markets)  亞洲股市行情 (Asian Markets)  亞洲股市行情 (Asian Markets)   \n",
            "1                       股市                      指數                      漲跌   \n",
            "2                      紐西蘭                12426.65                   73.04   \n",
            "3                       澳洲                 8316.70                   53.10   \n",
            "4                    日經225                38621.00                  263.50   \n",
            "5                     東證股價                 2712.63                   19.61   \n",
            "6                    東證100                 1866.28                   13.84   \n",
            "7                    東證500                 2121.48                   15.41   \n",
            "8                   東證1000                 2567.15                   18.56   \n",
            "9                       韓國                 2674.45                   12.17   \n",
            "10                    台灣加權                22268.09                   66.24   \n",
            "11                    台灣店頭                  274.58                    1.26   \n",
            "12                    台灣50                18000.04                   13.47   \n",
            "13                    上海綜合                 2842.21                   19.11   \n",
            "14                    上海A股                 2978.90                   20.12   \n",
            "15                    上海B股                  234.77                    6.19   \n",
            "16                    深圳A股                 1614.93                   35.35   \n",
            "17                    深圳B股                 1083.28                   25.01   \n",
            "18                   滬深300                 3321.43                   43.75   \n",
            "19                    深證成指                 8348.48                  194.04   \n",
            "20                    中小板指                 5404.49                  157.81   \n",
            "21                    創業板指                 1580.46                   39.06   \n",
            "22                富時中國 A50                11762.71                  161.86   \n",
            "23                    香港恆生                17989.07                  202.75   \n",
            "24                    香港國企                 6331.14                   84.01   \n",
            "25                    香港紅籌                 3620.96                   44.01   \n",
            "26                    恆生科技                 3560.61                   99.39   \n",
            "27                   香港創業板                   14.75                    0.07   \n",
            "28                      越南                 1283.87                    2.40   \n",
            "29                      印度                82365.77                  231.16   \n",
            "30                      印尼                 7670.73                   43.13   \n",
            "31                     菲律賓                 6897.54                    5.99   \n",
            "32                    馬來西亞                 1678.80                   25.25   \n",
            "33                      泰國                 1359.07                    1.66   \n",
            "34                     新加坡                 3442.93                   38.46   \n",
            "\n",
            "                         3                       4                       5  \\\n",
            "0   亞洲股市行情 (Asian Markets)  亞洲股市行情 (Asian Markets)  亞洲股市行情 (Asian Markets)   \n",
            "1                       比例                      最高                      最低   \n",
            "2                    0.59%                12431.07                12353.61   \n",
            "3                    0.64%                 8316.70                 8263.60   \n",
            "4                    0.69%                38661.50                38319.50   \n",
            "5                    0.73%                 2714.98                 2695.63   \n",
            "6                    0.75%                 1867.25                 1853.71   \n",
            "7                    0.73%                 2123.16                 2107.79   \n",
            "8                    0.73%                 2569.37                 2550.88   \n",
            "9                    0.46%                 2686.51                 2668.66   \n",
            "10                   0.30%                22342.25                22230.07   \n",
            "11                   0.46%                  274.58                  269.60   \n",
            "12                   0.07%                18096.31                17973.04   \n",
            "13                   0.68%                 2867.96                 2817.01   \n",
            "14                   0.68%                 3005.88                 2952.32   \n",
            "15                   2.71%                  236.25                  230.52   \n",
            "16                   2.24%                  1634.7                 1579.36   \n",
            "17                   2.36%                 1086.63                 1057.56   \n",
            "18                   1.33%                 3351.63                 3273.65   \n",
            "19                   2.38%                 8453.66                 8152.81   \n",
            "20                   3.01%                 5469.02                 5247.24   \n",
            "21                   2.53%                 1601.16                 1543.89   \n",
            "22                   1.40%                11869.34                11585.54   \n",
            "23                   1.14%                18202.60                17778.10   \n",
            "24                   1.34%                 6404.45                 6247.24   \n",
            "25                   1.23%                 3672.33                 3569.85   \n",
            "26                   2.87%                 3614.68                 3470.22   \n",
            "27                   0.48%                   14.87                   14.45   \n",
            "28                   0.19%                 1286.84                 1281.47   \n",
            "29                   0.28%                82637.03                82256.02   \n",
            "30                   0.57%                 7673.18                 7616.35   \n",
            "31                   0.09%                 6930.42                 6881.40   \n",
            "32                   1.53%                 1679.85                 1651.10   \n",
            "33                   0.12%                 1367.09                 1355.46   \n",
            "34                   1.13%                 3442.93                 3406.31   \n",
            "\n",
            "                         6                       7                       8  \n",
            "0   亞洲股市行情 (Asian Markets)  亞洲股市行情 (Asian Markets)  亞洲股市行情 (Asian Markets)  \n",
            "1                       開盤                    今年表現                    當地時間  \n",
            "2                        -                   5.57%                   17:45  \n",
            "3                        -                   6.22%                   17:04  \n",
            "4                        -                  15.41%                   15:00  \n",
            "5                        -                  14.63%                   15:00  \n",
            "6                        -                      -%                   15:00  \n",
            "7                        -                      -%                   15:00  \n",
            "8                        -                      -%                   15:00  \n",
            "9                        -                   0.72%                   15:32  \n",
            "10                       -                  24.19%                   13:50  \n",
            "11                  269.60                  17.34%                   13:30  \n",
            "12                17986.57                  34.51%                   08/30  \n",
            "13                       -                  -4.46%                   15:59  \n",
            "14                       -                  -4.49%                   15:59  \n",
            "15                  230.88                   1.37%                   15:59  \n",
            "16                 1579.36                 -16.00%                   15:44  \n",
            "17                 1059.55                   0.21%                   15:44  \n",
            "18                 3273.75                  -3.20%                   15:59  \n",
            "19                       -                 -12.35%                   15:44  \n",
            "20                 5247.24                 -10.23%                   15:44  \n",
            "21                 1543.89                 -16.44%                   15:44  \n",
            "22                       -                   2.25%                   15:00  \n",
            "23                       -                   5.68%                   16:00  \n",
            "24                       -                   9.75%                   16:08  \n",
            "25                 3576.55                   8.07%                   08/30  \n",
            "26                 3476.13                  -5.41%                   15:59  \n",
            "27                    14.7                 -32.43%                   15:59  \n",
            "28                       -                  13.62%                   14:59  \n",
            "29                       -                  14.02%                   15:31  \n",
            "30                       -                   5.47%                   14:59  \n",
            "31                       -                   6.94%                   14:50  \n",
            "32                       -                  15.41%                   17:05  \n",
            "33                       -                  -4.01%                   17:03  \n",
            "34                 3409.98                   6.25%                   08/30  ,                                                    0\n",
            "0  統一發票  | 12星座分析  | 行動網站  | Wordle每日答案  | Wordle...\n",
            "1  全球股市指數 / 国际股市指数 / World Indices / Мировые инде...\n",
            "2                         紅漲綠跌  綠漲紅跌  回復預設(刪除cookie)]\n"
          ]
        }
      ]
    },
    {
      "cell_type": "code",
      "source": [
        "asia_stocks = dfHTML[9]\n",
        "print(asia_stocks)"
      ],
      "metadata": {
        "id": "w--LhXkbWPHA",
        "colab": {
          "base_uri": "https://localhost:8080/"
        },
        "outputId": "d478aaac-b57f-4d8e-a0d7-d3c86656b9c1"
      },
      "execution_count": 26,
      "outputs": [
        {
          "output_type": "stream",
          "name": "stdout",
          "text": [
            "                         0                       1                       2  \\\n",
            "0   亞洲股市行情 (Asian Markets)  亞洲股市行情 (Asian Markets)  亞洲股市行情 (Asian Markets)   \n",
            "1                       股市                      指數                      漲跌   \n",
            "2                      紐西蘭                12426.65                   73.04   \n",
            "3                       澳洲                 8316.70                   53.10   \n",
            "4                    日經225                38621.00                  263.50   \n",
            "5                     東證股價                 2712.63                   19.61   \n",
            "6                    東證100                 1866.28                   13.84   \n",
            "7                    東證500                 2121.48                   15.41   \n",
            "8                   東證1000                 2567.15                   18.56   \n",
            "9                       韓國                 2674.45                   12.17   \n",
            "10                    台灣加權                22268.09                   66.24   \n",
            "11                    台灣店頭                  274.58                    1.26   \n",
            "12                    台灣50                18000.04                   13.47   \n",
            "13                    上海綜合                 2842.21                   19.11   \n",
            "14                    上海A股                 2978.90                   20.12   \n",
            "15                    上海B股                  234.77                    6.19   \n",
            "16                    深圳A股                 1614.93                   35.35   \n",
            "17                    深圳B股                 1083.28                   25.01   \n",
            "18                   滬深300                 3321.43                   43.75   \n",
            "19                    深證成指                 8348.48                  194.04   \n",
            "20                    中小板指                 5404.49                  157.81   \n",
            "21                    創業板指                 1580.46                   39.06   \n",
            "22                富時中國 A50                11762.71                  161.86   \n",
            "23                    香港恆生                17989.07                  202.75   \n",
            "24                    香港國企                 6331.14                   84.01   \n",
            "25                    香港紅籌                 3620.96                   44.01   \n",
            "26                    恆生科技                 3560.61                   99.39   \n",
            "27                   香港創業板                   14.75                    0.07   \n",
            "28                      越南                 1283.87                    2.40   \n",
            "29                      印度                82365.77                  231.16   \n",
            "30                      印尼                 7670.73                   43.13   \n",
            "31                     菲律賓                 6897.54                    5.99   \n",
            "32                    馬來西亞                 1678.80                   25.25   \n",
            "33                      泰國                 1359.07                    1.66   \n",
            "34                     新加坡                 3442.93                   38.46   \n",
            "\n",
            "                         3                       4                       5  \\\n",
            "0   亞洲股市行情 (Asian Markets)  亞洲股市行情 (Asian Markets)  亞洲股市行情 (Asian Markets)   \n",
            "1                       比例                      最高                      最低   \n",
            "2                    0.59%                12431.07                12353.61   \n",
            "3                    0.64%                 8316.70                 8263.60   \n",
            "4                    0.69%                38661.50                38319.50   \n",
            "5                    0.73%                 2714.98                 2695.63   \n",
            "6                    0.75%                 1867.25                 1853.71   \n",
            "7                    0.73%                 2123.16                 2107.79   \n",
            "8                    0.73%                 2569.37                 2550.88   \n",
            "9                    0.46%                 2686.51                 2668.66   \n",
            "10                   0.30%                22342.25                22230.07   \n",
            "11                   0.46%                  274.58                  269.60   \n",
            "12                   0.07%                18096.31                17973.04   \n",
            "13                   0.68%                 2867.96                 2817.01   \n",
            "14                   0.68%                 3005.88                 2952.32   \n",
            "15                   2.71%                  236.25                  230.52   \n",
            "16                   2.24%                  1634.7                 1579.36   \n",
            "17                   2.36%                 1086.63                 1057.56   \n",
            "18                   1.33%                 3351.63                 3273.65   \n",
            "19                   2.38%                 8453.66                 8152.81   \n",
            "20                   3.01%                 5469.02                 5247.24   \n",
            "21                   2.53%                 1601.16                 1543.89   \n",
            "22                   1.40%                11869.34                11585.54   \n",
            "23                   1.14%                18202.60                17778.10   \n",
            "24                   1.34%                 6404.45                 6247.24   \n",
            "25                   1.23%                 3672.33                 3569.85   \n",
            "26                   2.87%                 3614.68                 3470.22   \n",
            "27                   0.48%                   14.87                   14.45   \n",
            "28                   0.19%                 1286.84                 1281.47   \n",
            "29                   0.28%                82637.03                82256.02   \n",
            "30                   0.57%                 7673.18                 7616.35   \n",
            "31                   0.09%                 6930.42                 6881.40   \n",
            "32                   1.53%                 1679.85                 1651.10   \n",
            "33                   0.12%                 1367.09                 1355.46   \n",
            "34                   1.13%                 3442.93                 3406.31   \n",
            "\n",
            "                         6                       7                       8  \n",
            "0   亞洲股市行情 (Asian Markets)  亞洲股市行情 (Asian Markets)  亞洲股市行情 (Asian Markets)  \n",
            "1                       開盤                    今年表現                    當地時間  \n",
            "2                        -                   5.57%                   17:45  \n",
            "3                        -                   6.22%                   17:04  \n",
            "4                        -                  15.41%                   15:00  \n",
            "5                        -                  14.63%                   15:00  \n",
            "6                        -                      -%                   15:00  \n",
            "7                        -                      -%                   15:00  \n",
            "8                        -                      -%                   15:00  \n",
            "9                        -                   0.72%                   15:32  \n",
            "10                       -                  24.19%                   13:50  \n",
            "11                  269.60                  17.34%                   13:30  \n",
            "12                17986.57                  34.51%                   08/30  \n",
            "13                       -                  -4.46%                   15:59  \n",
            "14                       -                  -4.49%                   15:59  \n",
            "15                  230.88                   1.37%                   15:59  \n",
            "16                 1579.36                 -16.00%                   15:44  \n",
            "17                 1059.55                   0.21%                   15:44  \n",
            "18                 3273.75                  -3.20%                   15:59  \n",
            "19                       -                 -12.35%                   15:44  \n",
            "20                 5247.24                 -10.23%                   15:44  \n",
            "21                 1543.89                 -16.44%                   15:44  \n",
            "22                       -                   2.25%                   15:00  \n",
            "23                       -                   5.68%                   16:00  \n",
            "24                       -                   9.75%                   16:08  \n",
            "25                 3576.55                   8.07%                   08/30  \n",
            "26                 3476.13                  -5.41%                   15:59  \n",
            "27                    14.7                 -32.43%                   15:59  \n",
            "28                       -                  13.62%                   14:59  \n",
            "29                       -                  14.02%                   15:31  \n",
            "30                       -                   5.47%                   14:59  \n",
            "31                       -                   6.94%                   14:50  \n",
            "32                       -                  15.41%                   17:05  \n",
            "33                       -                  -4.01%                   17:03  \n",
            "34                 3409.98                   6.25%                   08/30  \n"
          ]
        }
      ]
    },
    {
      "cell_type": "code",
      "source": [
        "# 切片\n",
        "\n",
        "asia_stocks1 = dfHTML[9].loc[2:, :5]\n",
        "# .loc[]：Locator；使用「欄位名稱」抓取資料；索引值上限，包括該索引值\n",
        "# .iloc[]：Index Locator；使用「索引值」抓取資料；索引值上限，不包括該索引值\n",
        "print(asia_stocks1)"
      ],
      "metadata": {
        "id": "NRPH_fQKSiPp",
        "colab": {
          "base_uri": "https://localhost:8080/"
        },
        "outputId": "cc8f8afb-278c-4e29-cfc0-4816b3b41d65"
      },
      "execution_count": 27,
      "outputs": [
        {
          "output_type": "stream",
          "name": "stdout",
          "text": [
            "           0         1       2      3         4         5\n",
            "2        紐西蘭  12426.65   73.04  0.59%  12431.07  12353.61\n",
            "3         澳洲   8316.70   53.10  0.64%   8316.70   8263.60\n",
            "4      日經225  38621.00  263.50  0.69%  38661.50  38319.50\n",
            "5       東證股價   2712.63   19.61  0.73%   2714.98   2695.63\n",
            "6      東證100   1866.28   13.84  0.75%   1867.25   1853.71\n",
            "7      東證500   2121.48   15.41  0.73%   2123.16   2107.79\n",
            "8     東證1000   2567.15   18.56  0.73%   2569.37   2550.88\n",
            "9         韓國   2674.45   12.17  0.46%   2686.51   2668.66\n",
            "10      台灣加權  22268.09   66.24  0.30%  22342.25  22230.07\n",
            "11      台灣店頭    274.58    1.26  0.46%    274.58    269.60\n",
            "12      台灣50  18000.04   13.47  0.07%  18096.31  17973.04\n",
            "13      上海綜合   2842.21   19.11  0.68%   2867.96   2817.01\n",
            "14      上海A股   2978.90   20.12  0.68%   3005.88   2952.32\n",
            "15      上海B股    234.77    6.19  2.71%    236.25    230.52\n",
            "16      深圳A股   1614.93   35.35  2.24%    1634.7   1579.36\n",
            "17      深圳B股   1083.28   25.01  2.36%   1086.63   1057.56\n",
            "18     滬深300   3321.43   43.75  1.33%   3351.63   3273.65\n",
            "19      深證成指   8348.48  194.04  2.38%   8453.66   8152.81\n",
            "20      中小板指   5404.49  157.81  3.01%   5469.02   5247.24\n",
            "21      創業板指   1580.46   39.06  2.53%   1601.16   1543.89\n",
            "22  富時中國 A50  11762.71  161.86  1.40%  11869.34  11585.54\n",
            "23      香港恆生  17989.07  202.75  1.14%  18202.60  17778.10\n",
            "24      香港國企   6331.14   84.01  1.34%   6404.45   6247.24\n",
            "25      香港紅籌   3620.96   44.01  1.23%   3672.33   3569.85\n",
            "26      恆生科技   3560.61   99.39  2.87%   3614.68   3470.22\n",
            "27     香港創業板     14.75    0.07  0.48%     14.87     14.45\n",
            "28        越南   1283.87    2.40  0.19%   1286.84   1281.47\n",
            "29        印度  82365.77  231.16  0.28%  82637.03  82256.02\n",
            "30        印尼   7670.73   43.13  0.57%   7673.18   7616.35\n",
            "31       菲律賓   6897.54    5.99  0.09%   6930.42   6881.40\n",
            "32      馬來西亞   1678.80   25.25  1.53%   1679.85   1651.10\n",
            "33        泰國   1359.07    1.66  0.12%   1367.09   1355.46\n",
            "34       新加坡   3442.93   38.46  1.13%   3442.93   3406.31\n"
          ]
        }
      ]
    },
    {
      "cell_type": "markdown",
      "source": [
        "## § 2-2 將 DataFrame 轉為 NumPy 陣列"
      ],
      "metadata": {
        "id": "3C4a-U2OWwkt"
      }
    },
    {
      "cell_type": "code",
      "source": [
        "ary = asia_stocks1.to_numpy()\n",
        "print(ary)\n",
        "\n",
        "# .to_numpy() 也可換做 .values\n",
        "# 一個 NumPy 陣列，若混合「多種資料型態」，預設全部轉換成「字串」。\n",
        "# 「字串」是唯一能表示「數字、文字、邏輯值」，所有資料型態的表示法。"
      ],
      "metadata": {
        "id": "9wjCOlrbTpc0",
        "colab": {
          "base_uri": "https://localhost:8080/"
        },
        "outputId": "ed91786a-f3bd-4537-b0df-baaf59071a9b"
      },
      "execution_count": 28,
      "outputs": [
        {
          "output_type": "stream",
          "name": "stdout",
          "text": [
            "[['紐西蘭' '12426.65' '73.04' '0.59%' '12431.07' '12353.61']\n",
            " ['澳洲' '8316.70' '53.10' '0.64%' '8316.70' '8263.60']\n",
            " ['日經225' '38621.00' '263.50' '0.69%' '38661.50' '38319.50']\n",
            " ['東證股價' '2712.63' '19.61' '0.73%' '2714.98' '2695.63']\n",
            " ['東證100' '1866.28' '13.84' '0.75%' '1867.25' '1853.71']\n",
            " ['東證500' '2121.48' '15.41' '0.73%' '2123.16' '2107.79']\n",
            " ['東證1000' '2567.15' '18.56' '0.73%' '2569.37' '2550.88']\n",
            " ['韓國' '2674.45' '12.17' '0.46%' '2686.51' '2668.66']\n",
            " ['台灣加權' '22268.09' '66.24' '0.30%' '22342.25' '22230.07']\n",
            " ['台灣店頭' '274.58' '1.26' '0.46%' '274.58' '269.60']\n",
            " ['台灣50' '18000.04' '13.47' '0.07%' '18096.31' '17973.04']\n",
            " ['上海綜合' '2842.21' '19.11' '0.68%' '2867.96' '2817.01']\n",
            " ['上海A股' '2978.90' '20.12' '0.68%' '3005.88' '2952.32']\n",
            " ['上海B股' '234.77' '6.19' '2.71%' '236.25' '230.52']\n",
            " ['深圳A股' '1614.93' '35.35' '2.24%' '1634.7' '1579.36']\n",
            " ['深圳B股' '1083.28' '25.01' '2.36%' '1086.63' '1057.56']\n",
            " ['滬深300' '3321.43' '43.75' '1.33%' '3351.63' '3273.65']\n",
            " ['深證成指' '8348.48' '194.04' '2.38%' '8453.66' '8152.81']\n",
            " ['中小板指' '5404.49' '157.81' '3.01%' '5469.02' '5247.24']\n",
            " ['創業板指' '1580.46' '39.06' '2.53%' '1601.16' '1543.89']\n",
            " ['富時中國 A50' '11762.71' '161.86' '1.40%' '11869.34' '11585.54']\n",
            " ['香港恆生' '17989.07' '202.75' '1.14%' '18202.60' '17778.10']\n",
            " ['香港國企' '6331.14' '84.01' '1.34%' '6404.45' '6247.24']\n",
            " ['香港紅籌' '3620.96' '44.01' '1.23%' '3672.33' '3569.85']\n",
            " ['恆生科技' '3560.61' '99.39' '2.87%' '3614.68' '3470.22']\n",
            " ['香港創業板' '14.75' '0.07' '0.48%' '14.87' '14.45']\n",
            " ['越南' '1283.87' '2.40' '0.19%' '1286.84' '1281.47']\n",
            " ['印度' '82365.77' '231.16' '0.28%' '82637.03' '82256.02']\n",
            " ['印尼' '7670.73' '43.13' '0.57%' '7673.18' '7616.35']\n",
            " ['菲律賓' '6897.54' '5.99' '0.09%' '6930.42' '6881.40']\n",
            " ['馬來西亞' '1678.80' '25.25' '1.53%' '1679.85' '1651.10']\n",
            " ['泰國' '1359.07' '1.66' '0.12%' '1367.09' '1355.46']\n",
            " ['新加坡' '3442.93' '38.46' '1.13%' '3442.93' '3406.31']]\n"
          ]
        }
      ]
    },
    {
      "cell_type": "markdown",
      "source": [
        "## § 2-3 以「條件」過濾 DataFrame 資料"
      ],
      "metadata": {
        "id": "XHsNO84HbF1Y"
      }
    },
    {
      "cell_type": "code",
      "source": [
        "asia_stocks2 = dfHTML[9].loc[2:, [0, 1, 2, 4, 5]]\n",
        "\n",
        "condition1 = asia_stocks2[2].astype(\"float64\") > 0 # 取上漲的個股\n",
        "print(asia_stocks2[condition1])"
      ],
      "metadata": {
        "id": "8VlAIAzBZYOS",
        "colab": {
          "base_uri": "https://localhost:8080/"
        },
        "outputId": "f859ac1b-a7a3-4117-fd70-5d5bb581d29c"
      },
      "execution_count": 29,
      "outputs": [
        {
          "output_type": "stream",
          "name": "stdout",
          "text": [
            "           0         1       2         4         5\n",
            "2        紐西蘭  12426.65   73.04  12431.07  12353.61\n",
            "3         澳洲   8316.70   53.10   8316.70   8263.60\n",
            "4      日經225  38621.00  263.50  38661.50  38319.50\n",
            "5       東證股價   2712.63   19.61   2714.98   2695.63\n",
            "6      東證100   1866.28   13.84   1867.25   1853.71\n",
            "7      東證500   2121.48   15.41   2123.16   2107.79\n",
            "8     東證1000   2567.15   18.56   2569.37   2550.88\n",
            "9         韓國   2674.45   12.17   2686.51   2668.66\n",
            "10      台灣加權  22268.09   66.24  22342.25  22230.07\n",
            "11      台灣店頭    274.58    1.26    274.58    269.60\n",
            "12      台灣50  18000.04   13.47  18096.31  17973.04\n",
            "13      上海綜合   2842.21   19.11   2867.96   2817.01\n",
            "14      上海A股   2978.90   20.12   3005.88   2952.32\n",
            "15      上海B股    234.77    6.19    236.25    230.52\n",
            "16      深圳A股   1614.93   35.35    1634.7   1579.36\n",
            "17      深圳B股   1083.28   25.01   1086.63   1057.56\n",
            "18     滬深300   3321.43   43.75   3351.63   3273.65\n",
            "19      深證成指   8348.48  194.04   8453.66   8152.81\n",
            "20      中小板指   5404.49  157.81   5469.02   5247.24\n",
            "21      創業板指   1580.46   39.06   1601.16   1543.89\n",
            "22  富時中國 A50  11762.71  161.86  11869.34  11585.54\n",
            "23      香港恆生  17989.07  202.75  18202.60  17778.10\n",
            "24      香港國企   6331.14   84.01   6404.45   6247.24\n",
            "25      香港紅籌   3620.96   44.01   3672.33   3569.85\n",
            "26      恆生科技   3560.61   99.39   3614.68   3470.22\n",
            "27     香港創業板     14.75    0.07     14.87     14.45\n",
            "28        越南   1283.87    2.40   1286.84   1281.47\n",
            "29        印度  82365.77  231.16  82637.03  82256.02\n",
            "30        印尼   7670.73   43.13   7673.18   7616.35\n",
            "31       菲律賓   6897.54    5.99   6930.42   6881.40\n",
            "32      馬來西亞   1678.80   25.25   1679.85   1651.10\n",
            "33        泰國   1359.07    1.66   1367.09   1355.46\n",
            "34       新加坡   3442.93   38.46   3442.93   3406.31\n"
          ]
        }
      ]
    },
    {
      "cell_type": "code",
      "source": [
        "condition2 = asia_stocks2[2].astype(\"float64\") < 0 # 取下跌的個股\n",
        "print(asia_stocks2[condition2])"
      ],
      "metadata": {
        "id": "d-hhB1r_hbMP",
        "colab": {
          "base_uri": "https://localhost:8080/"
        },
        "outputId": "2fbe1d39-54bd-44e1-f423-0ba9552d597d"
      },
      "execution_count": 30,
      "outputs": [
        {
          "output_type": "stream",
          "name": "stdout",
          "text": [
            "Empty DataFrame\n",
            "Columns: [0, 1, 2, 4, 5]\n",
            "Index: []\n"
          ]
        }
      ]
    },
    {
      "cell_type": "markdown",
      "source": [
        "# §§ 3 MatPlotLib\n",
        "* Matplotlib.pyplot 的作用\n",
        " * 繪製各種「統計圖表」\n",
        " * 將資料「視覺化」"
      ],
      "metadata": {
        "id": "9CW-yrROddi7"
      }
    },
    {
      "cell_type": "code",
      "source": [
        "pip install matplotlib -U"
      ],
      "metadata": {
        "colab": {
          "base_uri": "https://localhost:8080/"
        },
        "id": "-Na2hqnz27FN",
        "outputId": "8864f1bf-4ca0-405f-940c-614f214f6c83"
      },
      "execution_count": 211,
      "outputs": [
        {
          "output_type": "stream",
          "name": "stdout",
          "text": [
            "Requirement already satisfied: matplotlib in /usr/local/lib/python3.10/dist-packages (3.7.1)\n",
            "Collecting matplotlib\n",
            "  Downloading matplotlib-3.9.2-cp310-cp310-manylinux_2_17_x86_64.manylinux2014_x86_64.whl.metadata (11 kB)\n",
            "Requirement already satisfied: contourpy>=1.0.1 in /usr/local/lib/python3.10/dist-packages (from matplotlib) (1.2.1)\n",
            "Requirement already satisfied: cycler>=0.10 in /usr/local/lib/python3.10/dist-packages (from matplotlib) (0.12.1)\n",
            "Requirement already satisfied: fonttools>=4.22.0 in /usr/local/lib/python3.10/dist-packages (from matplotlib) (4.53.1)\n",
            "Requirement already satisfied: kiwisolver>=1.3.1 in /usr/local/lib/python3.10/dist-packages (from matplotlib) (1.4.5)\n",
            "Requirement already satisfied: numpy>=1.23 in /usr/local/lib/python3.10/dist-packages (from matplotlib) (2.1.0)\n",
            "Requirement already satisfied: packaging>=20.0 in /usr/local/lib/python3.10/dist-packages (from matplotlib) (24.1)\n",
            "Requirement already satisfied: pillow>=8 in /usr/local/lib/python3.10/dist-packages (from matplotlib) (9.4.0)\n",
            "Requirement already satisfied: pyparsing>=2.3.1 in /usr/local/lib/python3.10/dist-packages (from matplotlib) (3.1.4)\n",
            "Requirement already satisfied: python-dateutil>=2.7 in /usr/local/lib/python3.10/dist-packages (from matplotlib) (2.8.2)\n",
            "Requirement already satisfied: six>=1.5 in /usr/local/lib/python3.10/dist-packages (from python-dateutil>=2.7->matplotlib) (1.16.0)\n",
            "Downloading matplotlib-3.9.2-cp310-cp310-manylinux_2_17_x86_64.manylinux2014_x86_64.whl (8.3 MB)\n",
            "\u001b[2K   \u001b[90m━━━━━━━━━━━━━━━━━━━━━━━━━━━━━━━━━━━━━━━━\u001b[0m \u001b[32m8.3/8.3 MB\u001b[0m \u001b[31m51.6 MB/s\u001b[0m eta \u001b[36m0:00:00\u001b[0m\n",
            "\u001b[?25hInstalling collected packages: matplotlib\n",
            "  Attempting uninstall: matplotlib\n",
            "    Found existing installation: matplotlib 3.7.1\n",
            "    Uninstalling matplotlib-3.7.1:\n",
            "      Successfully uninstalled matplotlib-3.7.1\n",
            "\u001b[31mERROR: pip's dependency resolver does not currently take into account all the packages that are installed. This behaviour is the source of the following dependency conflicts.\n",
            "arviz 0.18.0 requires numpy<2.0,>=1.23.0, but you have numpy 2.1.0 which is incompatible.\u001b[0m\u001b[31m\n",
            "\u001b[0mSuccessfully installed matplotlib-3.9.2\n"
          ]
        }
      ]
    },
    {
      "cell_type": "code",
      "source": [
        "import numpy as np\n",
        "import matplotlib\n",
        "import matplotlib.pyplot as plt"
      ],
      "metadata": {
        "id": "lwbX-4-Tbwjg"
      },
      "execution_count": 212,
      "outputs": []
    },
    {
      "cell_type": "markdown",
      "source": [
        "## § 3-1 繪製折線圖"
      ],
      "metadata": {
        "id": "1aJQe-V1vy_A"
      }
    },
    {
      "cell_type": "code",
      "source": [
        "# plt.plot([X軸資料], Y軸資料, [線段格式])\n",
        "\n",
        "plt.plot([2, 4, 6, 8])\n",
        "plt.show()"
      ],
      "metadata": {
        "colab": {
          "base_uri": "https://localhost:8080/",
          "height": 430
        },
        "id": "DPs12AOtsS0p",
        "outputId": "77432cb4-b558-426b-c1e2-4c129ab1347f"
      },
      "execution_count": 213,
      "outputs": [
        {
          "output_type": "display_data",
          "data": {
            "text/plain": [
              "<Figure size 640x480 with 1 Axes>"
            ],
            "image/png": "[encoded data removed]"
          },
          "metadata": {}
        }
      ]
    },
    {
      "cell_type": "code",
      "source": [
        "plt.plot([5, 10, 15, 20], [2, 4, 6, 8])\n",
        "plt.show()"
      ],
      "metadata": {
        "colab": {
          "base_uri": "https://localhost:8080/",
          "height": 430
        },
        "id": "7WGtEhKfwPu6",
        "outputId": "bb742f1c-3b64-437b-bbe2-f99f19780934"
      },
      "execution_count": 214,
      "outputs": [
        {
          "output_type": "display_data",
          "data": {
            "text/plain": [
              "<Figure size 640x480 with 1 Axes>"
            ],
            "image/png": "[encoded data removed]"
          },
          "metadata": {}
        }
      ]
    },
    {
      "cell_type": "code",
      "source": [
        "plt.plot([5, 10, 15, 20], [2, 4, 6, 8], \"ro\") # r = red, o = circle\n",
        "plt.show()"
      ],
      "metadata": {
        "colab": {
          "base_uri": "https://localhost:8080/",
          "height": 430
        },
        "id": "SbYFY1kIwwYZ",
        "outputId": "3dcca2d3-1b15-41e4-c767-499f6af29ff7"
      },
      "execution_count": 215,
      "outputs": [
        {
          "output_type": "display_data",
          "data": {
            "text/plain": [
              "<Figure size 640x480 with 1 Axes>"
            ],
            "image/png": "[encoded data removed]"
          },
          "metadata": {}
        }
      ]
    },
    {
      "cell_type": "code",
      "source": [
        "X_a = np.arange(0, 5, 0.2)\n",
        "plt.plot(X_a, X_a, \"r--\")\n",
        "plt.plot(X_a, X_a**2, \"bs\")\n",
        "plt.plot(X_a, X_a**3, \"g^\")\n",
        "plt.show()"
      ],
      "metadata": {
        "colab": {
          "base_uri": "https://localhost:8080/",
          "height": 430
        },
        "id": "Ai8XsApcw7c2",
        "outputId": "7117975a-5bb2-4180-bff5-d0d102af7b95"
      },
      "execution_count": 216,
      "outputs": [
        {
          "output_type": "display_data",
          "data": {
            "text/plain": [
              "<Figure size 640x480 with 1 Axes>"
            ],
            "image/png": "[encoded data removed]"
          },
          "metadata": {}
        }
      ]
    },
    {
      "cell_type": "markdown",
      "source": [
        "## § 3-2 顯示圖形名稱、X/Y軸標籤與圖例"
      ],
      "metadata": {
        "id": "7TXCZp4WycHK"
      }
    },
    {
      "cell_type": "code",
      "source": [
        "plt.title(\"X, squared X, cubic X\")\n",
        "plt.xlabel(\"X-Axis\")\n",
        "plt.ylabel(\"Y-Axis\")\n",
        "\n",
        "plt.plot(X_a, X_a, \"r--\", label=\"X\")\n",
        "plt.plot(X_a, X_a**2, \"bs\",label=\"squared X\")\n",
        "plt.plot(X_a, X_a**3, \"g^\", label=\"cubic X\")\n",
        "plt.legend(loc='best') # 圖例位置選擇：\"best\", \"center\", \"upper\", \"lower\"\n",
        "\n",
        "plt.show()"
      ],
      "metadata": {
        "colab": {
          "base_uri": "https://localhost:8080/",
          "height": 472
        },
        "id": "HyDTEcdDxtOu",
        "outputId": "3fae2d18-dd0a-4131-fa72-22068ba2c500"
      },
      "execution_count": 217,
      "outputs": [
        {
          "output_type": "display_data",
          "data": {
            "text/plain": [
              "<Figure size 640x480 with 1 Axes>"
            ],
            "image/png": "[encoded data removed]"
          },
          "metadata": {}
        }
      ]
    },
    {
      "cell_type": "markdown",
      "source": [
        "## § 3-3 解決中文亂碼問題"
      ],
      "metadata": {
        "id": "-nNqSzCl0rbA"
      }
    },
    {
      "cell_type": "code",
      "source": [
        "# Colab 進行 matplotlib 繪圖時顯示繁體中文\n",
        "# 下載台北思源黑體並命名 taipei_sans_tc_beta.ttf ，移至指定路徑\n",
        "!wget -O TaipeiSansTCBeta-Regular.ttf https://drive.google.com/uc?id=1eGAsTN1HBpJAkeVM57_C7ccp7hbgSz3_&export=download\n",
        "\n",
        "# 改style要在改font之前\n",
        "# plt.style.use('seaborn')\n",
        "matplotlib.font_manager.fontManager.addfont('TaipeiSansTCBeta-Regular.ttf')\n",
        "matplotlib.rc('font', family='Taipei Sans TC Beta')"
      ],
      "metadata": {
        "colab": {
          "base_uri": "https://localhost:8080/"
        },
        "id": "Lq-OMoiazZV-",
        "outputId": "55540b2d-8789-4191-ea1e-8ecfebd3aab3"
      },
      "execution_count": 218,
      "outputs": [
        {
          "output_type": "stream",
          "name": "stdout",
          "text": [
            "--2024-08-31 01:12:14--  https://drive.google.com/uc?id=1eGAsTN1HBpJAkeVM57_C7ccp7hbgSz3_\n",
            "Resolving drive.google.com (drive.google.com)... 74.125.20.139, 74.125.20.100, 74.125.20.101, ...\n",
            "Connecting to drive.google.com (drive.google.com)|74.125.20.139|:443... connected.\n",
            "HTTP request sent, awaiting response... 303 See Other\n",
            "Location: https://drive.usercontent.google.com/download?id=1eGAsTN1HBpJAkeVM57_C7ccp7hbgSz3_ [following]\n",
            "--2024-08-31 01:12:14--  https://drive.usercontent.google.com/download?id=1eGAsTN1HBpJAkeVM57_C7ccp7hbgSz3_\n",
            "Resolving drive.usercontent.google.com (drive.usercontent.google.com)... 74.125.195.132, 2607:f8b0:400e:c09::84\n",
            "Connecting to drive.usercontent.google.com (drive.usercontent.google.com)|74.125.195.132|:443... connected.\n",
            "HTTP request sent, awaiting response... 200 OK\n",
            "Length: 20659344 (20M) [application/octet-stream]\n",
            "Saving to: ‘TaipeiSansTCBeta-Regular.ttf’\n",
            "\n",
            "TaipeiSansTCBeta-Re 100%[===================>]  19.70M  --.-KB/s    in 0.1s    \n",
            "\n",
            "2024-08-31 01:12:20 (157 MB/s) - ‘TaipeiSansTCBeta-Regular.ttf’ saved [20659344/20659344]\n",
            "\n"
          ]
        }
      ]
    },
    {
      "cell_type": "code",
      "source": [
        "plt.title(\"X, X 平方, X 立方\")\n",
        "plt.xlabel(\"X-軸\")\n",
        "plt.ylabel(\"Y-軸\")\n",
        "\n",
        "# plt.rcParams['font.sans-serif'] = ['Arial Unicode MS']\n",
        "# rcParams：資源檔參數設定，Resource Parameters\n",
        "# colab 還無法使用 rcParams['font.sans-serif'] = ['Arial Unicode MS']\n",
        "\n",
        "plt.plot(X_a, X_a, \"r--\", label=\"X\")\n",
        "plt.plot(X_a, X_a**2, \"bs\",label=\"X 平方\")\n",
        "plt.plot(X_a, X_a**3, \"g^\", label=\"X 立方\")\n",
        "plt.legend(loc='best') # 圖例位置選擇：\"best\", \"center\", \"upper\", \"lower\"\n",
        "\n",
        "plt.show()"
      ],
      "metadata": {
        "id": "PRigY-4x1UE7",
        "colab": {
          "base_uri": "https://localhost:8080/",
          "height": 472
        },
        "outputId": "ed0fa4d2-fa01-407e-b3f2-6ee1f08abddb"
      },
      "execution_count": 219,
      "outputs": [
        {
          "output_type": "display_data",
          "data": {
            "text/plain": [
              "<Figure size 640x480 with 1 Axes>"
            ],
            "image/png": "[encoded data removed]"
          },
          "metadata": {}
        }
      ]
    },
    {
      "cell_type": "markdown",
      "source": [
        "## § 3-4 繪製長條圖"
      ],
      "metadata": {
        "id": "x-7LH_6PVr3z"
      }
    },
    {
      "cell_type": "code",
      "source": [
        "B = [\"蘋果\", \"三星\", \"OPPO\", \"華為\", \"華碩\", \"小米\", \"SONY\", \"HTC\", \"Sugar\", \"Nokia\"]\n",
        "P = [24.1, 23.3, 9.2, 8.9, 8.1, 6.7, 6.5, 4.6, 1.7, 1.0]\n",
        "\n",
        "plt.title(\"2019年4月 台灣地區手機佔有率\")\n",
        "plt.xlabel(\"手機品牌\")\n",
        "plt.ylabel(\"百分比\")\n",
        "\n",
        "plt.bar(B, P)\n",
        "plt.show()"
      ],
      "metadata": {
        "colab": {
          "base_uri": "https://localhost:8080/",
          "height": 472
        },
        "id": "pCi598UO6w1n",
        "outputId": "2dcd3a4a-13a5-47e7-dd0d-e5aec3465206"
      },
      "execution_count": 220,
      "outputs": [
        {
          "output_type": "display_data",
          "data": {
            "text/plain": [
              "<Figure size 640x480 with 1 Axes>"
            ],
            "image/png": "[encoded data removed]"
          },
          "metadata": {}
        }
      ]
    },
    {
      "cell_type": "markdown",
      "source": [
        "## § 3-5 繪製散布圖"
      ],
      "metadata": {
        "id": "JjusUAChXRAD"
      }
    },
    {
      "cell_type": "code",
      "source": [
        "# Size of Sample Data\n",
        "n = 150\n",
        "\n",
        "# Group1 Data around (-1, 2) as Normal Distribution\n",
        "G1_x = np.random.normal(loc=-1, scale=1, size=n)\n",
        "G1_y = np.random.normal(loc=2, scale=1, size=n)\n",
        "\n",
        "# Group2 Data around (2, -1) as Normal Distrition\n",
        "G2_x = np.random.normal(loc=2, scale=1, size=n)\n",
        "G2_y = np.random.normal(loc=-1, scale=1, size=n)\n",
        "\n",
        "# Scatter Chart with Size(s), Color(c), Style(marker) of Marker\n",
        "plt.scatter(G1_x, G1_y, s=75, c=\"r\", marker=\"+\", alpha=0.5)\n",
        "plt.scatter(G2_x, G2_y, s=75, c=\"b\", marker=\"o\", alpha=0.5)\n",
        "plt.show()"
      ],
      "metadata": {
        "colab": {
          "base_uri": "https://localhost:8080/",
          "height": 430
        },
        "id": "dUd-tjK3WyrJ",
        "outputId": "28e8a47e-7e55-41b1-ce31-f3fd872d0271"
      },
      "execution_count": 221,
      "outputs": [
        {
          "output_type": "display_data",
          "data": {
            "text/plain": [
              "<Figure size 640x480 with 1 Axes>"
            ],
            "image/png": "[encoded data removed]"
          },
          "metadata": {}
        }
      ]
    },
    {
      "cell_type": "markdown",
      "source": [
        "## § 3-6 視覺化圖形"
      ],
      "metadata": {
        "id": "tiB-hRBL_iRg"
      }
    },
    {
      "cell_type": "code",
      "source": [
        "x = np.linspace(0, 5, 100)\n",
        "y = x[:, np.newaxis]\n",
        "\n",
        "z = np.sin(x) ** 10 + np.cos(10 + y * x) * ( np.cos(x) ** 3 )\n",
        "\n",
        "plt.imshow(z, origin='lower', extent=[0, 5, 0, 5], cmap=\"viridis\")\n",
        "plt.colorbar()\n",
        "plt.show()"
      ],
      "metadata": {
        "colab": {
          "base_uri": "https://localhost:8080/",
          "height": 435
        },
        "id": "vupY1u2G_x69",
        "outputId": "ac330cfc-3d89-4e82-aa20-bc6740b8f218"
      },
      "execution_count": 227,
      "outputs": [
        {
          "output_type": "display_data",
          "data": {
            "text/plain": [
              "<Figure size 640x480 with 2 Axes>"
            ],
            "image/png": "[encoded data removed]"
          },
          "metadata": {}
        }
      ]
    },
    {
      "cell_type": "markdown",
      "source": [
        "# §§ 4 Scipy\n",
        "* 提供「線性代數、微積分、工程數學」常用函數"
      ],
      "metadata": {
        "id": "3lOzmK0aY3Yj"
      }
    },
    {
      "cell_type": "code",
      "source": [
        "pip install scipy -U"
      ],
      "metadata": {
        "colab": {
          "base_uri": "https://localhost:8080/"
        },
        "id": "Ge-NKWQnYGSY",
        "outputId": "9fa24aed-5589-4530-ef98-6da0d6e15928"
      },
      "execution_count": 2,
      "outputs": [
        {
          "output_type": "stream",
          "name": "stdout",
          "text": [
            "Requirement already satisfied: scipy in /usr/local/lib/python3.10/dist-packages (1.14.1)\n",
            "Requirement already satisfied: numpy<2.3,>=1.23.5 in /usr/local/lib/python3.10/dist-packages (from scipy) (2.1.0)\n"
          ]
        }
      ]
    },
    {
      "cell_type": "code",
      "source": [
        "import scipy as sp\n",
        "import numpy as np"
      ],
      "metadata": {
        "id": "t8tUS4RKaS9m"
      },
      "execution_count": 3,
      "outputs": []
    },
    {
      "cell_type": "markdown",
      "source": [
        "## § 4-1 SciPy 常用子套件介紹"
      ],
      "metadata": {
        "id": "p9ZtOlydaefe"
      }
    },
    {
      "cell_type": "markdown",
      "source": [
        "### ⁋ sp.special\n",
        "* 特殊函數的指令，如伽馬函數、貝塔函數、zeta函數等。"
      ],
      "metadata": {
        "id": "ZCRVtNMfkjRU"
      }
    },
    {
      "cell_type": "code",
      "source": [
        "from scipy import special"
      ],
      "metadata": {
        "id": "i2djyC3adpEN"
      },
      "execution_count": 4,
      "outputs": []
    },
    {
      "cell_type": "code",
      "source": [
        "# Gamma Function, Beta Function & Zeta Function\n",
        "x = [-2, 1, 5, 10]\n",
        "print(special.gamma(x))\n",
        "print(special.beta(x, 2))\n",
        "print(special.zeta(x))"
      ],
      "metadata": {
        "colab": {
          "base_uri": "https://localhost:8080/"
        },
        "id": "f0ormWnclDiA",
        "outputId": "faae0b73-4511-4777-b212-daacf2f2990e"
      },
      "execution_count": 5,
      "outputs": [
        {
          "output_type": "stream",
          "name": "stdout",
          "text": [
            "[       inf 1.0000e+00 2.4000e+01 3.6288e+05]\n",
            "[0.5        0.5        0.03333333 0.00909091]\n",
            "[0.                inf 1.03692776 1.00099458]\n"
          ]
        }
      ]
    },
    {
      "cell_type": "code",
      "source": [
        "# Error Funtion\n",
        "x = np.array([0, 0.25, 0.5, 0.75, 1.0])\n",
        "print(special.erf(x))\n",
        "print(special.erfc(x))\n",
        "print(special.erfinv(x))"
      ],
      "metadata": {
        "colab": {
          "base_uri": "https://localhost:8080/"
        },
        "id": "x6D78YxIlND1",
        "outputId": "53731afc-527a-4d32-f36b-fd1375fb1c3d"
      },
      "execution_count": 6,
      "outputs": [
        {
          "output_type": "stream",
          "name": "stdout",
          "text": [
            "[0.         0.27632639 0.52049988 0.71115563 0.84270079]\n",
            "[1.         0.72367361 0.47950012 0.28884437 0.15729921]\n",
            "[0.         0.22531206 0.47693628 0.81341985        inf]\n"
          ]
        }
      ]
    },
    {
      "cell_type": "code",
      "source": [],
      "metadata": {
        "id": "Lk578qxOlcdt"
      },
      "execution_count": 6,
      "outputs": []
    }
  ]
}