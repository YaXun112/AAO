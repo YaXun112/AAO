{
  "nbformat": 4,
  "nbformat_minor": 0,
  "metadata": {
    "colab": {
      "provenance": [],
      "collapsed_sections": [
        "8mLLX2ZYTJAB",
        "XAllXdRz0Xz4",
        "rpai-diB-z7b",
        "2mirMP6jEMH3",
        "CIdTg7A-M7Vq",
        "y1fpARzEOh-T",
        "R73zsFr0P1S9",
        "1dl-LYt5Ri1y"
      ],
      "authorship_tag": "ABX9TyPQIRqzcrH6DO0Ad40gtx77",
      "include_colab_link": true
    },
    "kernelspec": {
      "name": "python3",
      "display_name": "Python 3"
    },
    "language_info": {
      "name": "python"
    }
  },
  "cells": [
    {
      "cell_type": "markdown",
      "metadata": {
        "id": "view-in-github",
        "colab_type": "text"
      },
      "source": [
        "<a href=\"https://colab.research.google.com/github/YaXun112/Colab/blob/C%2FC%2B%2B/C%E5%9F%BA%E6%9C%AC%E4%BD%BF%E7%94%A8.ipynb\" target=\"_parent\"><img src=\"https://colab.research.google.com/assets/colab-badge.svg\" alt=\"Open In Colab\"/></a>"
      ]
    },
    {
      "cell_type": "markdown",
      "source": [
        "# §§ 1 Preparing"
      ],
      "metadata": {
        "id": "3NYzgxqWSO8i"
      }
    },
    {
      "cell_type": "code",
      "source": [
        "%ls"
      ],
      "metadata": {
        "colab": {
          "base_uri": "https://localhost:8080/"
        },
        "id": "0B53R-6sUG4A",
        "outputId": "e854bd52-8391-4199-c719-f6257c7759be"
      },
      "execution_count": 1,
      "outputs": [
        {
          "output_type": "stream",
          "name": "stdout",
          "text": [
            "10-1a.c  2-2-2a.c  3-2a.c   4-1-1a.c  \u001b[0m\u001b[01;32m5-1a\u001b[0m*   \u001b[01;32m6-1a\u001b[0m*   \u001b[01;32m7-1a\u001b[0m*   \u001b[01;32m8-1a\u001b[0m*   \u001b[01;32m9-1a\u001b[0m*   \u001b[01;32mHello\u001b[0m*   \u001b[01;34msample_data\u001b[0m/\n",
            "\u001b[01;32m2-2-2a\u001b[0m*  \u001b[01;32m3-2a\u001b[0m*     \u001b[01;32m4-1-1a\u001b[0m*  5-1-1a.c  5-1a.c  6-1a.c  7-1a.c  8-1a.c  9-1a.c  Hello.c\n"
          ]
        }
      ]
    },
    {
      "cell_type": "code",
      "source": [
        "%pwd"
      ],
      "metadata": {
        "colab": {
          "base_uri": "https://localhost:8080/",
          "height": 35
        },
        "id": "KThPx1QlUK-l",
        "outputId": "3a1917e9-23f4-4156-f051-cd29123ad951"
      },
      "execution_count": 2,
      "outputs": [
        {
          "output_type": "execute_result",
          "data": {
            "text/plain": [
              "'/content'"
            ],
            "application/vnd.google.colaboratory.intrinsic+json": {
              "type": "string"
            }
          },
          "metadata": {},
          "execution_count": 2
        }
      ]
    },
    {
      "cell_type": "code",
      "source": [
        "%cd sample_data"
      ],
      "metadata": {
        "colab": {
          "base_uri": "https://localhost:8080/"
        },
        "id": "RiaSauv9UNbE",
        "outputId": "45a5bde3-bf0d-46ef-c7de-8d107410a22b"
      },
      "execution_count": 3,
      "outputs": [
        {
          "output_type": "stream",
          "name": "stdout",
          "text": [
            "/content/sample_data\n"
          ]
        }
      ]
    },
    {
      "cell_type": "code",
      "execution_count": 4,
      "metadata": {
        "colab": {
          "base_uri": "https://localhost:8080/"
        },
        "id": "ZstePceoSIy6",
        "outputId": "ae5397fc-ae6e-4e68-b9c9-4c3fbb1ee0ab"
      },
      "outputs": [
        {
          "output_type": "stream",
          "name": "stdout",
          "text": [
            "Writing Hello.c\n"
          ]
        }
      ],
      "source": [
        "%%writefile Hello.c\n",
        "#include <stdio.h>\n",
        "int main()\n",
        "{\n",
        "    printf(\"Hello World!\\n\"); /* 輸入字串 */\n",
        "    return 0;\n",
        "}"
      ]
    },
    {
      "cell_type": "code",
      "source": [
        "%%shell\n",
        "gcc Hello.c -o Hello\n",
        "./Hello"
      ],
      "metadata": {
        "colab": {
          "base_uri": "https://localhost:8080/"
        },
        "id": "hYx6jBxGSvtX",
        "outputId": "8c5dbd61-151a-4a2a-b9d9-6c0b718afd75"
      },
      "execution_count": 5,
      "outputs": [
        {
          "output_type": "stream",
          "name": "stdout",
          "text": [
            "Hello World!\n"
          ]
        },
        {
          "output_type": "execute_result",
          "data": {
            "text/plain": []
          },
          "metadata": {},
          "execution_count": 5
        }
      ]
    },
    {
      "cell_type": "code",
      "source": [],
      "metadata": {
        "id": "bD665FoQRYat"
      },
      "execution_count": 5,
      "outputs": []
    },
    {
      "cell_type": "markdown",
      "source": [
        "# §§ 2 Standard Input/Output"
      ],
      "metadata": {
        "id": "8mLLX2ZYTJAB"
      }
    },
    {
      "cell_type": "code",
      "source": [
        "%%writefile 2-2-2a.c\n",
        "#include <stdio.h>\n",
        "#include <stdlib.h>\n",
        "\n",
        "int main()\n",
        "{\n",
        "    int x;\n",
        "    printf(\"Please enter an integer: \");\n",
        "    scanf(\"%d\", &x);\n",
        "    printf(\"You entered %d\\n\", x);\n",
        "    return 0;\n",
        "}"
      ],
      "metadata": {
        "colab": {
          "base_uri": "https://localhost:8080/"
        },
        "id": "WtgoKQZoS6_g",
        "outputId": "84ddf77f-2d04-46be-f146-7cdc16ed03e3"
      },
      "execution_count": 6,
      "outputs": [
        {
          "output_type": "stream",
          "name": "stdout",
          "text": [
            "Writing 2-2-2a.c\n"
          ]
        }
      ]
    },
    {
      "cell_type": "code",
      "source": [
        "%%shell\n",
        "gcc 2-2-2a.c -o 2-2-2a\n",
        "./2-2-2a"
      ],
      "metadata": {
        "id": "4C3kvA0GWTI8",
        "colab": {
          "base_uri": "https://localhost:8080/"
        },
        "outputId": "ea85de79-2d42-467b-dc9e-232ed6902866"
      },
      "execution_count": 7,
      "outputs": [
        {
          "output_type": "stream",
          "name": "stdout",
          "text": [
            "Please enter an integer: 8\n",
            "You entered 8\n"
          ]
        },
        {
          "output_type": "execute_result",
          "data": {
            "text/plain": []
          },
          "metadata": {},
          "execution_count": 7
        }
      ]
    },
    {
      "cell_type": "code",
      "source": [],
      "metadata": {
        "id": "QzV4M7gqZxKt"
      },
      "execution_count": 7,
      "outputs": []
    },
    {
      "cell_type": "markdown",
      "source": [
        "# §§ 3 Expression & Operator"
      ],
      "metadata": {
        "id": "XAllXdRz0Xz4"
      }
    },
    {
      "cell_type": "code",
      "source": [
        "%%writefile 3-2a.c\n",
        "#include <stdio.h>\n",
        "#include <stdlib.h>\n",
        "\n",
        "int main()\n",
        "{\n",
        "    int dividend = 100, divisor = 3, quotient, remainder;\n",
        "    quotient = dividend / divisor;\n",
        "    remainder = dividend % divisor;\n",
        "    printf(\"%d / %d = %d ... %d\\n\", dividend, divisor, quotient, remainder);\n",
        "    return 0;\n",
        "}"
      ],
      "metadata": {
        "colab": {
          "base_uri": "https://localhost:8080/"
        },
        "id": "Rwhka0ZH0YM8",
        "outputId": "be429d07-51bf-4994-8503-16dcc1b58543"
      },
      "execution_count": 8,
      "outputs": [
        {
          "output_type": "stream",
          "name": "stdout",
          "text": [
            "Writing 3-2a.c\n"
          ]
        }
      ]
    },
    {
      "cell_type": "code",
      "source": [
        "%%shell\n",
        "gcc 3-2a.c -o 3-2a\n",
        "./3-2a"
      ],
      "metadata": {
        "colab": {
          "base_uri": "https://localhost:8080/"
        },
        "id": "5rcMvJbD1Yo-",
        "outputId": "a9e08b7d-44f0-40d1-88ce-c34dd0b549e4"
      },
      "execution_count": 9,
      "outputs": [
        {
          "output_type": "stream",
          "name": "stdout",
          "text": [
            "100 / 3 = 33 ... 1\n"
          ]
        },
        {
          "output_type": "execute_result",
          "data": {
            "text/plain": []
          },
          "metadata": {},
          "execution_count": 9
        }
      ]
    },
    {
      "cell_type": "code",
      "source": [],
      "metadata": {
        "id": "e8rh_yJ31aW7"
      },
      "execution_count": 9,
      "outputs": []
    },
    {
      "cell_type": "markdown",
      "source": [
        "# §§ 4 Flow Control"
      ],
      "metadata": {
        "id": "rpai-diB-z7b"
      }
    },
    {
      "cell_type": "code",
      "source": [
        "%%writefile 4-1-1a.c\n",
        "#include <stdio.h>\n",
        "#include <stdlib.h>\n",
        "\n",
        "int main()\n",
        "{\n",
        "    int i, total = 0;\n",
        "    for (i = 1; i <= 100; i++)\n",
        "    {\n",
        "        total += i;\n",
        "    }\n",
        "    printf(\"1 + 2 + ... + 100 = %d\\n\", total);\n",
        "    return 0;\n",
        "}"
      ],
      "metadata": {
        "colab": {
          "base_uri": "https://localhost:8080/"
        },
        "id": "FciT99SN-4k3",
        "outputId": "a419f54c-62e6-4d2f-cac5-c1229367c75e"
      },
      "execution_count": 10,
      "outputs": [
        {
          "output_type": "stream",
          "name": "stdout",
          "text": [
            "Writing 4-1-1a.c\n"
          ]
        }
      ]
    },
    {
      "cell_type": "code",
      "source": [
        "%%shell\n",
        "gcc 4-1-1a.c -o 4-1-1a\n",
        "./4-1-1a"
      ],
      "metadata": {
        "colab": {
          "base_uri": "https://localhost:8080/"
        },
        "id": "928gGdWVBBti",
        "outputId": "b5489787-c673-4e63-c2ab-66cdf671e796"
      },
      "execution_count": 11,
      "outputs": [
        {
          "output_type": "stream",
          "name": "stdout",
          "text": [
            "1 + 2 + ... + 100 = 5050\n"
          ]
        },
        {
          "output_type": "execute_result",
          "data": {
            "text/plain": []
          },
          "metadata": {},
          "execution_count": 11
        }
      ]
    },
    {
      "cell_type": "code",
      "source": [],
      "metadata": {
        "id": "7C2ufXCuBFcg"
      },
      "execution_count": 11,
      "outputs": []
    },
    {
      "cell_type": "markdown",
      "source": [
        "# §§ 5 Function and Storage Class"
      ],
      "metadata": {
        "id": "2mirMP6jEMH3"
      }
    },
    {
      "cell_type": "code",
      "source": [
        "%%writefile 5-1a.c\n",
        "#include <stdio.h>\n",
        "#include <stdlib.h>\n",
        "void printStar();\n",
        "\n",
        "int main()\n",
        "{\n",
        "    printStar();\n",
        "    printf(\"Stanford University\\n\");\n",
        "    printStar();\n",
        "    return 0;\n",
        "}\n",
        "\n",
        "void printStar()\n",
        "{\n",
        "    printf(\"**********\\n\");\n",
        "}"
      ],
      "metadata": {
        "colab": {
          "base_uri": "https://localhost:8080/"
        },
        "id": "8PdF2rxSEMj5",
        "outputId": "2b2a1195-d802-4533-8e99-9b85c3cddf8d"
      },
      "execution_count": 12,
      "outputs": [
        {
          "output_type": "stream",
          "name": "stdout",
          "text": [
            "Writing 5-1a.c\n"
          ]
        }
      ]
    },
    {
      "cell_type": "code",
      "source": [
        "%%shell\n",
        "gcc 5-1a.c -o 5-1a\n",
        "./5-1a"
      ],
      "metadata": {
        "colab": {
          "base_uri": "https://localhost:8080/"
        },
        "id": "HLArrvJ3ExLH",
        "outputId": "fb9f091e-d580-4967-c675-d8f6975dbf4e"
      },
      "execution_count": 13,
      "outputs": [
        {
          "output_type": "stream",
          "name": "stdout",
          "text": [
            "**********\n",
            "Stanford University\n",
            "**********\n"
          ]
        },
        {
          "output_type": "execute_result",
          "data": {
            "text/plain": []
          },
          "metadata": {},
          "execution_count": 13
        }
      ]
    },
    {
      "cell_type": "code",
      "source": [],
      "metadata": {
        "id": "lhhyM6mMFXcW"
      },
      "execution_count": 13,
      "outputs": []
    },
    {
      "cell_type": "markdown",
      "source": [
        "# §§ 6 Array"
      ],
      "metadata": {
        "id": "CIdTg7A-M7Vq"
      }
    },
    {
      "cell_type": "code",
      "source": [
        "%%writefile 6-1a.c\n",
        "#include <stdio.h>\n",
        "#include <stdlib.h>\n",
        "\n",
        "int main()\n",
        "{\n",
        "    int i[6] = {100, 200, 300, 400, 500, 600};\n",
        "    int k, total = 0;\n",
        "\n",
        "    /* 加總陣列所有元素的總和 */\n",
        "    printf(\"此陣列共有下列元素：\\n\");\n",
        "    for (k = 0; k < 6; k++)\n",
        "    {\n",
        "        printf(\"%-8d \", i[k]);\n",
        "        total += i[k];\n",
        "    }\n",
        "\n",
        "    /* 印出陣列所有元素的總和 */\n",
        "    printf(\"\\n\");\n",
        "    printf(\"陣列元素的總和為：%d\\n\", total);\n",
        "    return 0;\n",
        "}"
      ],
      "metadata": {
        "colab": {
          "base_uri": "https://localhost:8080/"
        },
        "id": "uoqzGZF-M_gK",
        "outputId": "86354f60-d749-4ea1-82b0-095af7a95fbd"
      },
      "execution_count": 14,
      "outputs": [
        {
          "output_type": "stream",
          "name": "stdout",
          "text": [
            "Writing 6-1a.c\n"
          ]
        }
      ]
    },
    {
      "cell_type": "code",
      "source": [
        "%%shell\n",
        "gcc 6-1a.c -o 6-1a\n",
        "./6-1a"
      ],
      "metadata": {
        "colab": {
          "base_uri": "https://localhost:8080/"
        },
        "id": "Aqw2ytdNNFo1",
        "outputId": "0a519d56-6714-4179-9a46-bf056bd7b02b"
      },
      "execution_count": 15,
      "outputs": [
        {
          "output_type": "stream",
          "name": "stdout",
          "text": [
            "此陣列共有下列元素：\n",
            "100      200      300      400      500      600      \n",
            "陣列元素的總和為：2100\n"
          ]
        },
        {
          "output_type": "execute_result",
          "data": {
            "text/plain": []
          },
          "metadata": {},
          "execution_count": 15
        }
      ]
    },
    {
      "cell_type": "code",
      "source": [],
      "metadata": {
        "id": "x-SJ91goOMV1"
      },
      "execution_count": 15,
      "outputs": []
    },
    {
      "cell_type": "markdown",
      "source": [
        "# §§ 7 Pointer and Address"
      ],
      "metadata": {
        "id": "y1fpARzEOh-T"
      }
    },
    {
      "cell_type": "code",
      "source": [
        "%%writefile 7-1a.c\n",
        "#include <stdio.h>\n",
        "#include <stdlib.h>\n",
        "\n",
        "int main(){\n",
        "    int i = 100;\n",
        "    int *ptr = &i;\n",
        "    printf(\"i = %d, &i = %p\\n\", i, &i);\n",
        "\n",
        "    printf(\"ptr \\t = %p\\n\", ptr);\n",
        "    printf(\"*ptr \\t = %d\\n\", *ptr);\n",
        "    printf(\"&ptr \\t = %p\\n\", &ptr);\n",
        "    return 0;\n",
        "}"
      ],
      "metadata": {
        "colab": {
          "base_uri": "https://localhost:8080/"
        },
        "id": "HE21ZeRfOiTg",
        "outputId": "b43ff9d0-5b58-4fee-f0b9-57fe49945356"
      },
      "execution_count": 16,
      "outputs": [
        {
          "output_type": "stream",
          "name": "stdout",
          "text": [
            "Writing 7-1a.c\n"
          ]
        }
      ]
    },
    {
      "cell_type": "code",
      "source": [
        "%%shell\n",
        "gcc 7-1a.c -o 7-1a\n",
        "./7-1a"
      ],
      "metadata": {
        "colab": {
          "base_uri": "https://localhost:8080/"
        },
        "id": "Q0fNelZ1Pa-a",
        "outputId": "da7f1abc-9eff-4d56-c037-c6fa3f8b079a"
      },
      "execution_count": 17,
      "outputs": [
        {
          "output_type": "stream",
          "name": "stdout",
          "text": [
            "i = 100, &i = 0x7fff4876415c\n",
            "ptr \t = 0x7fff4876415c\n",
            "*ptr \t = 100\n",
            "&ptr \t = 0x7fff48764160\n"
          ]
        },
        {
          "output_type": "execute_result",
          "data": {
            "text/plain": []
          },
          "metadata": {},
          "execution_count": 17
        }
      ]
    },
    {
      "cell_type": "code",
      "source": [],
      "metadata": {
        "id": "VMIk6hy6PceS"
      },
      "execution_count": 17,
      "outputs": []
    },
    {
      "cell_type": "markdown",
      "source": [
        "# §§ 8 Structure"
      ],
      "metadata": {
        "id": "R73zsFr0P1S9"
      }
    },
    {
      "cell_type": "code",
      "source": [
        "%%writefile 8-1a.c\n",
        "#include <stdio.h>\n",
        "#include <stdlib.h>\n",
        "\n",
        "int main()\n",
        "{\n",
        "    struct student\n",
        "    {\n",
        "        char *name;\n",
        "        int score;\n",
        "    };\n",
        "    struct student s = {\"Mary\", 90};\n",
        "    struct student *p = &s;\n",
        "\n",
        "    printf(\"s.name = %s\\n\", s.name);\n",
        "    printf(\"s.score = %d\\n\\n\", s.score);\n",
        "    printf(\"p -> name = %s\\n\", p -> name);\n",
        "    printf(\"p -> score = %d\\n\\n\", p -> score);\n",
        "    printf(\"(*p).name = %s\\n\", (*p).name);\n",
        "    printf(\"(*p).score = %d\\n\", (*p).score);\n",
        "\n",
        "    return 0;\n",
        "}"
      ],
      "metadata": {
        "colab": {
          "base_uri": "https://localhost:8080/"
        },
        "id": "l9plrRr0P1nM",
        "outputId": "e07c76d0-9afc-40b0-a15e-9b4587e6850f"
      },
      "execution_count": 18,
      "outputs": [
        {
          "output_type": "stream",
          "name": "stdout",
          "text": [
            "Writing 8-1a.c\n"
          ]
        }
      ]
    },
    {
      "cell_type": "code",
      "source": [
        "%%shell\n",
        "gcc 8-1a.c -o 8-1a\n",
        "./8-1a"
      ],
      "metadata": {
        "colab": {
          "base_uri": "https://localhost:8080/"
        },
        "id": "qugtD86vRGFL",
        "outputId": "dab2eb2f-f8c1-4727-99f2-e24c57b170a5"
      },
      "execution_count": 19,
      "outputs": [
        {
          "output_type": "stream",
          "name": "stdout",
          "text": [
            "s.name = Mary\n",
            "s.score = 90\n",
            "\n",
            "p -> name = Mary\n",
            "p -> score = 90\n",
            "\n",
            "(*p).name = Mary\n",
            "(*p).score = 90\n"
          ]
        },
        {
          "output_type": "execute_result",
          "data": {
            "text/plain": []
          },
          "metadata": {},
          "execution_count": 19
        }
      ]
    },
    {
      "cell_type": "code",
      "source": [],
      "metadata": {
        "id": "diMonawsRIWh"
      },
      "execution_count": 19,
      "outputs": []
    },
    {
      "cell_type": "markdown",
      "source": [
        "# §§ 9 String Library Function"
      ],
      "metadata": {
        "id": "1dl-LYt5Ri1y"
      }
    },
    {
      "cell_type": "code",
      "source": [
        "%%writefile 9-1a.c\n",
        "#include <stdio.h>\n",
        "#include <stdlib.h>\n",
        "#include <string.h>\n",
        "\n",
        "int main()\n",
        "{\n",
        "    char *s = \"computers\";\n",
        "    int length;\n",
        "    length = strlen(s);\n",
        "    printf(\"The string length of %s = %d\\n\",s , length);\n",
        "    return 0;\n",
        "}"
      ],
      "metadata": {
        "colab": {
          "base_uri": "https://localhost:8080/"
        },
        "id": "2xiU-fErRjKd",
        "outputId": "5040df05-b570-4daa-c983-c80ec04a18cb"
      },
      "execution_count": 20,
      "outputs": [
        {
          "output_type": "stream",
          "name": "stdout",
          "text": [
            "Writing 9-1a.c\n"
          ]
        }
      ]
    },
    {
      "cell_type": "code",
      "source": [
        "%%shell\n",
        "gcc 9-1a.c -o 9-1a\n",
        "./9-1a"
      ],
      "metadata": {
        "colab": {
          "base_uri": "https://localhost:8080/"
        },
        "id": "rKQWTsfESGr_",
        "outputId": "a5842e11-53eb-4f19-99a8-1028b9627722"
      },
      "execution_count": 21,
      "outputs": [
        {
          "output_type": "stream",
          "name": "stdout",
          "text": [
            "The string length of computers = 9\n"
          ]
        },
        {
          "output_type": "execute_result",
          "data": {
            "text/plain": []
          },
          "metadata": {},
          "execution_count": 21
        }
      ]
    },
    {
      "cell_type": "code",
      "source": [],
      "metadata": {
        "id": "wJqYzUqUSJRG"
      },
      "execution_count": 21,
      "outputs": []
    },
    {
      "cell_type": "markdown",
      "source": [
        "# §§ 10 Usual Mathematic Function"
      ],
      "metadata": {
        "id": "a4wUUfaESWF3"
      }
    },
    {
      "cell_type": "code",
      "source": [
        "%%writefile 10-1a.c\n",
        "#include <stdio.h>\n",
        "#include <math.h>\n",
        "#include <stdlib.h>\n",
        "\n",
        "\n",
        "int main()\n",
        "{\n",
        "    double x, y;\n",
        "    printf(\"Enter number x and number y : \");\n",
        "    scanf(\"%lf %lf\", &x, &y);\n",
        "    printf(\"%.2f 的 %.2f 次方 = %.2f\\n\", x, y, pow(x, y));\n",
        "\n",
        "    return 0;\n",
        "}"
      ],
      "metadata": {
        "colab": {
          "base_uri": "https://localhost:8080/"
        },
        "id": "kuGSmL23San5",
        "outputId": "0032d4db-86c4-4b52-8a40-6c33a48b119c"
      },
      "execution_count": 22,
      "outputs": [
        {
          "output_type": "stream",
          "name": "stdout",
          "text": [
            "Overwriting 10-1a.c\n"
          ]
        }
      ]
    },
    {
      "cell_type": "code",
      "source": [],
      "metadata": {
        "id": "2We9CTHaTLQV"
      },
      "execution_count": 22,
      "outputs": []
    }
  ]
}