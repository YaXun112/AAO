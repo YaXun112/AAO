{
  "nbformat": 4,
  "nbformat_minor": 0,
  "metadata": {
    "colab": {
      "provenance": [],
      "authorship_tag": "ABX9TyMWgczpl29krk9jB6ZfQT3k",
      "include_colab_link": true
    },
    "kernelspec": {
      "name": "python3",
      "display_name": "Python 3"
    },
    "language_info": {
      "name": "python"
    }
  },
  "cells": [
    {
      "cell_type": "markdown",
      "metadata": {
        "id": "view-in-github",
        "colab_type": "text"
      },
      "source": [
        "<a href=\"https://colab.research.google.com/github/YaXun112/Colab/blob/C%2FC%2B%2B/C%E5%9F%BA%E6%9C%AC%E4%BD%BF%E7%94%A8.ipynb\" target=\"_parent\"><img src=\"https://colab.research.google.com/assets/colab-badge.svg\" alt=\"Open In Colab\"/></a>"
      ]
    },
    {
      "cell_type": "markdown",
      "source": [
        "# §§ 0 Preparing"
      ],
      "metadata": {
        "id": "3NYzgxqWSO8i"
      }
    },
    {
      "cell_type": "code",
      "execution_count": null,
      "metadata": {
        "colab": {
          "base_uri": "https://localhost:8080/"
        },
        "id": "ZstePceoSIy6",
        "outputId": "229c92e7-f43a-4b71-d6d0-d882d230fb56"
      },
      "outputs": [
        {
          "output_type": "stream",
          "name": "stdout",
          "text": [
            "Writing Hello.c\n"
          ]
        }
      ],
      "source": [
        "%%writefile Hello.c\n",
        "#include <stdio.h>\n",
        "int main()\n",
        "{\n",
        "    printf(\"Hello World!\\n\");\n",
        "    return 0;\n",
        "}"
      ]
    },
    {
      "cell_type": "code",
      "source": [
        "%%shell\n",
        "gcc Hello.c -o Hello\n",
        "./Hello"
      ],
      "metadata": {
        "colab": {
          "base_uri": "https://localhost:8080/"
        },
        "id": "hYx6jBxGSvtX",
        "outputId": "c00e9980-8003-4039-cfff-9c46148ae5b7"
      },
      "execution_count": null,
      "outputs": [
        {
          "output_type": "stream",
          "name": "stdout",
          "text": [
            "Hello World!\n"
          ]
        },
        {
          "output_type": "execute_result",
          "data": {
            "text/plain": []
          },
          "metadata": {},
          "execution_count": 2
        }
      ]
    },
    {
      "cell_type": "markdown",
      "source": [
        "# §§ 1 Standard Input/Output"
      ],
      "metadata": {
        "id": "8mLLX2ZYTJAB"
      }
    },
    {
      "cell_type": "code",
      "source": [
        "%%writefile 2-2-2a.c\n",
        "#include <stdio.h>\n",
        "#include <stdlib.h>\n",
        "\n",
        "int main()\n",
        "{\n",
        "    int x;\n",
        "    printf(\"Please enter an integer: \");\n",
        "    scanf(\"%d\", &x);\n",
        "    printf(\"You entered %d\\n\", x);\n",
        "    return 0;\n",
        "}"
      ],
      "metadata": {
        "colab": {
          "base_uri": "https://localhost:8080/"
        },
        "id": "WtgoKQZoS6_g",
        "outputId": "92f82653-e5ed-4600-bf1c-6d41dad46fbf"
      },
      "execution_count": 14,
      "outputs": [
        {
          "output_type": "stream",
          "name": "stdout",
          "text": [
            "Writing 2-2-2a.c\n"
          ]
        }
      ]
    },
    {
      "cell_type": "code",
      "source": [
        "%%shell\n",
        "gcc 2-2-2a.c -o 2-2-2a\n",
        "./2-2-2a"
      ],
      "metadata": {
        "id": "4C3kvA0GWTI8",
        "colab": {
          "base_uri": "https://localhost:8080/"
        },
        "outputId": "ca129df3-0da9-4f49-e9af-34060b337726"
      },
      "execution_count": 15,
      "outputs": [
        {
          "output_type": "stream",
          "name": "stdout",
          "text": [
            "Please enter an integer: 6\n",
            "You entered 6\n"
          ]
        },
        {
          "output_type": "execute_result",
          "data": {
            "text/plain": []
          },
          "metadata": {},
          "execution_count": 15
        }
      ]
    },
    {
      "cell_type": "code",
      "source": [],
      "metadata": {
        "id": "QzV4M7gqZxKt"
      },
      "execution_count": null,
      "outputs": []
    }
  ]
}