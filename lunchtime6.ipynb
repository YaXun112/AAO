{
  "cells": [
    {
      "cell_type": "markdown",
      "metadata": {
        "id": "view-in-github",
        "colab_type": "text"
      },
      "source": [
        "<a href=\"https://colab.research.google.com/github/YaXun112/Colab/blob/C%2FC%2B%2B/lunchtime6.ipynb\" target=\"_parent\"><img src=\"https://colab.research.google.com/assets/colab-badge.svg\" alt=\"Open In Colab\"/></a>"
      ]
    },
    {
      "cell_type": "markdown",
      "id": "0",
      "metadata": {
        "id": "0"
      },
      "source": [
        "# Lunch Time Python\n",
        "\n",
        "## Lunch 6: numba\n",
        "\n",
        "<img style=\"width: 600px; float: right;\" src=\"https://numba.pydata.org/_static/numba-blue-horizontal-rgb.svg\">\n",
        "\n",
        "[numba](https://numba.pydata.org/) is a just-in-time (JIT) compiler for Python. With a few simple annotations, array-oriented and math-heavy Python code can be just-in-time optimized to performance similar as C, C++ and Fortran, without having to switch languages or Python interpreters.\n",
        "\n",
        "*Press `Spacebar` to go to the next slide (or `?` to see all navigation shortcuts)*\n",
        "\n",
        "[Lunch Time Python](https://ssciwr.github.io/lunch-time-python/), [Scientific Software Center](https://ssc.iwr.uni-heidelberg.de), [Heidelberg University](https://www.uni-heidelberg.de/)"
      ]
    },
    {
      "cell_type": "markdown",
      "id": "1",
      "metadata": {
        "id": "1"
      },
      "source": [
        "# Motivation\n",
        "\n",
        "- Many reasons to use Python, but performance not one of them\n",
        "- What to do when a Python function is too slow?\n",
        "- Ideally, find a library (e.g. numpy) with an equivalent function\n",
        "- Otherwise:\n",
        "    - use PyPy instead of CPython (if all your libraries are available)\n",
        "    - write a fortan function and compile with f2py or fortranmagic\n",
        "    - write a C function and compile with Cython\n",
        "    - write a C++ function and compile using pybind11 or ipybind\n",
        "    - magically make your slow Python function faster (numba)"
      ]
    },
    {
      "cell_type": "markdown",
      "id": "2",
      "metadata": {
        "id": "2"
      },
      "source": [
        "# numba installation\n",
        "\n",
        "- Conda: `conda install numba`\n",
        "- Pip: `python -m pip install numba`"
      ]
    },
    {
      "cell_type": "markdown",
      "id": "3",
      "metadata": {
        "id": "3"
      },
      "source": [
        "# Vector reduction example\n",
        "\n",
        "Toy example: implement a vector reduction operation:\n",
        "\n",
        "r(x,y) = $ \\sum_i \\cos(x_i) \\sin(y_i) $\n",
        "\n",
        "Some random vectors to benchmark our functions:"
      ]
    },
    {
      "cell_type": "code",
      "execution_count": null,
      "id": "4",
      "metadata": {
        "id": "4"
      },
      "outputs": [],
      "source": [
        "import numpy as np\n",
        "\n",
        "x = np.random.uniform(low=-1, high=1, size=5000000)\n",
        "y = np.random.uniform(low=-1, high=1, size=5000000)"
      ]
    },
    {
      "cell_type": "markdown",
      "id": "5",
      "metadata": {
        "id": "5"
      },
      "source": [
        "# Python"
      ]
    },
    {
      "cell_type": "code",
      "execution_count": null,
      "id": "6",
      "metadata": {
        "id": "6"
      },
      "outputs": [],
      "source": [
        "import math\n",
        "\n",
        "\n",
        "def r_python(x_vec, y_vec):\n",
        "    s = 0\n",
        "    for x, y in zip(x_vec, y_vec):\n",
        "        s += math.cos(x) * math.sin(y)\n",
        "    return s"
      ]
    },
    {
      "cell_type": "code",
      "execution_count": null,
      "id": "7",
      "metadata": {
        "id": "7",
        "outputId": "23ff4e13-b9ac-4491-828f-696a0c77bcd5",
        "colab": {
          "base_uri": "https://localhost:8080/"
        }
      },
      "outputs": [
        {
          "output_type": "execute_result",
          "data": {
            "text/plain": [
              "-238.25710276152506"
            ]
          },
          "metadata": {},
          "execution_count": 3
        }
      ],
      "source": [
        "r_python(x, y)"
      ]
    },
    {
      "cell_type": "code",
      "execution_count": null,
      "id": "8",
      "metadata": {
        "id": "8",
        "outputId": "75475bfa-5a5d-462e-c4c4-14383b4aa196",
        "colab": {
          "base_uri": "https://localhost:8080/"
        }
      },
      "outputs": [
        {
          "output_type": "stream",
          "name": "stdout",
          "text": [
            "2.88 s ± 739 ms per loop (mean ± std. dev. of 7 runs, 1 loop each)\n"
          ]
        }
      ],
      "source": [
        "%timeit r_python(x,y)"
      ]
    },
    {
      "cell_type": "markdown",
      "id": "9",
      "metadata": {
        "id": "9"
      },
      "source": [
        "# numpy"
      ]
    },
    {
      "cell_type": "code",
      "execution_count": null,
      "id": "10",
      "metadata": {
        "id": "10"
      },
      "outputs": [],
      "source": [
        "def r_numpy(x_vec, y_vec):\n",
        "    return np.dot(np.cos(x_vec), np.sin(y_vec))"
      ]
    },
    {
      "cell_type": "code",
      "execution_count": null,
      "id": "11",
      "metadata": {
        "id": "11",
        "outputId": "6f210a62-c4dd-430e-92b9-98069b0d455d",
        "colab": {
          "base_uri": "https://localhost:8080/"
        }
      },
      "outputs": [
        {
          "output_type": "execute_result",
          "data": {
            "text/plain": [
              "-238.2571027615494"
            ]
          },
          "metadata": {},
          "execution_count": 6
        }
      ],
      "source": [
        "r_numpy(x, y)"
      ]
    },
    {
      "cell_type": "code",
      "execution_count": null,
      "id": "12",
      "metadata": {
        "id": "12",
        "outputId": "2fa35951-3813-4445-b343-6d5a5b5cfc70",
        "colab": {
          "base_uri": "https://localhost:8080/"
        }
      },
      "outputs": [
        {
          "output_type": "stream",
          "name": "stdout",
          "text": [
            "229 ms ± 38 ms per loop (mean ± std. dev. of 7 runs, 10 loops each)\n"
          ]
        }
      ],
      "source": [
        "%timeit r_numpy(x,y)"
      ]
    },
    {
      "cell_type": "markdown",
      "id": "13",
      "metadata": {
        "id": "13"
      },
      "source": [
        "# Cython"
      ]
    },
    {
      "cell_type": "code",
      "execution_count": null,
      "id": "14",
      "metadata": {
        "id": "14"
      },
      "outputs": [],
      "source": [
        "# pip install cython\n",
        "%load_ext cython"
      ]
    },
    {
      "cell_type": "code",
      "execution_count": null,
      "id": "15",
      "metadata": {
        "id": "15"
      },
      "outputs": [],
      "source": [
        "%%cython\n",
        "\n",
        "import math\n",
        "\n",
        "def r_cython(x_vec, y_vec):\n",
        "    s = 0\n",
        "    for x,y in zip(x_vec, y_vec):\n",
        "        s += math.cos(x) * math.sin(y)\n",
        "    return s"
      ]
    },
    {
      "cell_type": "code",
      "execution_count": null,
      "id": "16",
      "metadata": {
        "id": "16",
        "outputId": "47764bda-4dd1-406b-dce2-4e974362b3a2",
        "colab": {
          "base_uri": "https://localhost:8080/"
        }
      },
      "outputs": [
        {
          "output_type": "execute_result",
          "data": {
            "text/plain": [
              "-238.25710276152506"
            ]
          },
          "metadata": {},
          "execution_count": 10
        }
      ],
      "source": [
        "r_cython(x, y)"
      ]
    },
    {
      "cell_type": "code",
      "execution_count": null,
      "id": "17",
      "metadata": {
        "id": "17",
        "outputId": "6fcbc12e-4db0-4843-f0c8-774666a2e526",
        "colab": {
          "base_uri": "https://localhost:8080/"
        }
      },
      "outputs": [
        {
          "output_type": "stream",
          "name": "stdout",
          "text": [
            "1.63 s ± 395 ms per loop (mean ± std. dev. of 7 runs, 1 loop each)\n"
          ]
        }
      ],
      "source": [
        "%timeit r_cython(x,y)"
      ]
    },
    {
      "cell_type": "code",
      "execution_count": null,
      "id": "18",
      "metadata": {
        "id": "18"
      },
      "outputs": [],
      "source": [
        "%%cython\n",
        "\n",
        "import math\n",
        "# use C math functions\n",
        "from libc.math cimport sin, cos\n",
        "\n",
        "# use C types instead of Python types\n",
        "def r_cython(double[:] x_vec, double[:] y_vec):\n",
        "    cdef double s = 0\n",
        "    cdef int i\n",
        "    for i in range(len(x_vec)):\n",
        "        s += cos(x_vec[i])*sin(y_vec[i])\n",
        "    return s"
      ]
    },
    {
      "cell_type": "code",
      "execution_count": null,
      "id": "19",
      "metadata": {
        "id": "19",
        "outputId": "d31fe479-c19a-4ce4-d376-911cfd601106",
        "colab": {
          "base_uri": "https://localhost:8080/"
        }
      },
      "outputs": [
        {
          "output_type": "execute_result",
          "data": {
            "text/plain": [
              "-238.25710276152506"
            ]
          },
          "metadata": {},
          "execution_count": 13
        }
      ],
      "source": [
        "r_cython(x, y)"
      ]
    },
    {
      "cell_type": "code",
      "execution_count": null,
      "id": "20",
      "metadata": {
        "id": "20",
        "outputId": "c0815b13-8e38-4f2d-b9f5-e25c7ca902dd",
        "colab": {
          "base_uri": "https://localhost:8080/"
        }
      },
      "outputs": [
        {
          "output_type": "stream",
          "name": "stdout",
          "text": [
            "165 ms ± 40.4 ms per loop (mean ± std. dev. of 7 runs, 1 loop each)\n"
          ]
        }
      ],
      "source": [
        "%timeit r_cython(x,y)"
      ]
    },
    {
      "cell_type": "markdown",
      "id": "21",
      "metadata": {
        "id": "21"
      },
      "source": [
        "# Fortran"
      ]
    },
    {
      "cell_type": "code",
      "execution_count": null,
      "id": "22",
      "metadata": {
        "id": "22",
        "outputId": "2338b1b3-cc56-46b6-ae2a-5b5763c14e53",
        "colab": {
          "base_uri": "https://localhost:8080/",
          "height": 17
        }
      },
      "outputs": [
        {
          "output_type": "display_data",
          "data": {
            "application/javascript": [
              "\n",
              "        if(typeof IPython === 'undefined') {\n",
              "            console.log('fortranmagic.py: TDOO: JupyterLab ' +\n",
              "                        'syntax highlight - unimplemented.');\n",
              "        } else {\n",
              "            IPython.CodeCell.options_default\n",
              "            .highlight_modes['magic_fortran'] = {'reg':[/^%%fortran/]};\n",
              "        }\n",
              "        "
            ]
          },
          "metadata": {}
        }
      ],
      "source": [
        "if \"google.colab\" in str(get_ipython()):\n",
        "    !pip install fortran-magic -qqq\n",
        "%load_ext fortranmagic"
      ]
    },
    {
      "cell_type": "code",
      "execution_count": null,
      "id": "23",
      "metadata": {
        "id": "23"
      },
      "outputs": [],
      "source": [
        "%%fortran\n",
        "\n",
        "subroutine r_fortran(x_vec, y_vec, res)\n",
        "    real, intent(in) :: x_vec(:), y_vec(:)\n",
        "    real, intent(out) :: res\n",
        "    integer :: i, n\n",
        "    n = size(x_vec)\n",
        "    res = 0\n",
        "    do i=1,n\n",
        "        res = res + cos(x_vec(i))*sin(y_vec(i))\n",
        "    enddo\n",
        "endsubroutine r_fortran"
      ]
    },
    {
      "cell_type": "code",
      "execution_count": null,
      "id": "24",
      "metadata": {
        "id": "24",
        "outputId": "eaae178f-ff71-4129-9f98-0f7fd48234bc",
        "colab": {
          "base_uri": "https://localhost:8080/"
        }
      },
      "outputs": [
        {
          "output_type": "execute_result",
          "data": {
            "text/plain": [
              "-238.2864227294922"
            ]
          },
          "metadata": {},
          "execution_count": 17
        }
      ],
      "source": [
        "r_fortran(x, y)"
      ]
    },
    {
      "cell_type": "code",
      "execution_count": null,
      "id": "25",
      "metadata": {
        "id": "25",
        "outputId": "2178f347-887a-4535-c82b-8906a049e1fa",
        "colab": {
          "base_uri": "https://localhost:8080/"
        }
      },
      "outputs": [
        {
          "output_type": "stream",
          "name": "stdout",
          "text": [
            "143 ms ± 53 ms per loop (mean ± std. dev. of 7 runs, 10 loops each)\n"
          ]
        }
      ],
      "source": [
        "%timeit r_fortran(x,y)"
      ]
    },
    {
      "cell_type": "markdown",
      "id": "26",
      "metadata": {
        "id": "26"
      },
      "source": [
        "# C++ / pybind11"
      ]
    },
    {
      "cell_type": "code",
      "execution_count": null,
      "id": "27",
      "metadata": {
        "id": "27",
        "outputId": "4e7ea012-e28b-400e-e77d-729c9bfac63a",
        "colab": {
          "base_uri": "https://localhost:8080/",
          "height": 71
        }
      },
      "outputs": [
        {
          "output_type": "stream",
          "name": "stdout",
          "text": [
            "  Preparing metadata (setup.py) ... \u001b[?25l\u001b[?25hdone\n",
            "\u001b[2K   \u001b[90m━━━━━━━━━━━━━━━━━━━━━━━━━━━━━━━━━━━━━━━━\u001b[0m \u001b[32m241.0/241.0 kB\u001b[0m \u001b[31m5.5 MB/s\u001b[0m eta \u001b[36m0:00:00\u001b[0m\n",
            "\u001b[?25h  Building wheel for ipybind (setup.py) ... \u001b[?25l\u001b[?25hdone\n"
          ]
        },
        {
          "output_type": "display_data",
          "data": {
            "application/javascript": [
              "\n",
              "    require(['notebook/js/codecell'], function(cc) {\n",
              "        cc.CodeCell.options_default.highlight_modes['magic_text/x-c++src'] =\n",
              "            {reg: [/^\\s*%%pybind11/]};\n",
              "    });\n",
              "    "
            ]
          },
          "metadata": {}
        },
        {
          "output_type": "display_data",
          "data": {
            "text/html": [
              "\n",
              "    <style>\n",
              "    .cm-s-ipython span.cm-variable-3 {\n",
              "        color: #208ffb;\n",
              "        font-weight: bold;\n",
              "    }\n",
              "    </style>\n",
              "    "
            ]
          },
          "metadata": {}
        }
      ],
      "source": [
        "if \"google.colab\" in str(get_ipython()):\n",
        "    !pip install git+https://github.com/aldanor/ipybind.git -qqq\n",
        "%load_ext ipybind"
      ]
    },
    {
      "cell_type": "code",
      "execution_count": null,
      "id": "28",
      "metadata": {
        "id": "28",
        "outputId": "c540dc89-c217-4a54-a10e-44a4208d00f2",
        "colab": {
          "base_uri": "https://localhost:8080/"
        }
      },
      "outputs": [
        {
          "output_type": "stream",
          "name": "stdout",
          "text": [
            "Warning: Can't read registry to find the necessary compiler setting\n",
            "Make sure that Python modules winreg, win32api or win32con are installed.\n",
            "INFO: C compiler: x86_64-linux-gnu-gcc -Wno-unused-result -Wsign-compare -DNDEBUG -g -fwrapv -O2 -Wall -g -fstack-protector-strong -Wformat -Werror=format-security -g -fwrapv -O2 -fPIC\n",
            "\n",
            "creating /tmp/tmpbpal388a/tmp\n",
            "creating /tmp/tmpbpal388a/tmp/tmpbpal388a\n",
            "INFO: compile options: '-I/usr/include/python3.10 -c'\n",
            "extra options: '-std=c++14'\n",
            "INFO: x86_64-linux-gnu-gcc: /tmp/tmpbpal388a/test.cpp\n",
            "INFO: C compiler: x86_64-linux-gnu-gcc -Wno-unused-result -Wsign-compare -DNDEBUG -g -fwrapv -O2 -Wall -g -fstack-protector-strong -Wformat -Werror=format-security -g -fwrapv -O2 -fPIC\n",
            "\n",
            "creating /tmp/tmprnnch4d5/tmp\n",
            "creating /tmp/tmprnnch4d5/tmp/tmprnnch4d5\n",
            "INFO: compile options: '-I/usr/include/python3.10 -c'\n",
            "extra options: '-fvisibility=hidden'\n",
            "INFO: x86_64-linux-gnu-gcc: /tmp/tmprnnch4d5/test.cpp\n",
            "INFO: C compiler: x86_64-linux-gnu-gcc -Wno-unused-result -Wsign-compare -DNDEBUG -g -fwrapv -O2 -Wall -g -fstack-protector-strong -Wformat -Werror=format-security -g -fwrapv -O2 -fPIC\n",
            "\n",
            "creating /tmp/tmp98lhck4m/tmp\n",
            "creating /tmp/tmp98lhck4m/tmp/tmp98lhck4m\n",
            "INFO: compile options: '-I/usr/include/python3.10 -c'\n",
            "extra options: '-flto'\n",
            "INFO: x86_64-linux-gnu-gcc: /tmp/tmp98lhck4m/test.cpp\n"
          ]
        }
      ],
      "source": [
        "%%pybind11\n",
        "\n",
        "#include <pybind11/numpy.h>\n",
        "#include <math.h>\n",
        "PYBIND11_PLUGIN(example) {\n",
        "    py::module m(\"example\");\n",
        "    m.def(\"r_pybind\", [](const py::array_t<double>& x, const py::array_t<double>& y) {\n",
        "        double sum{0};\n",
        "        auto rx{x.unchecked<1>()};\n",
        "        auto ry{y.unchecked<1>()};\n",
        "        for (py::ssize_t i = 0; i < rx.shape(0); i++){\n",
        "            sum += std::cos(rx[i])*std::sin(ry[i]);\n",
        "        }\n",
        "        return sum;\n",
        "    });\n",
        "    return m.ptr();\n",
        "}"
      ]
    },
    {
      "cell_type": "code",
      "execution_count": null,
      "id": "29",
      "metadata": {
        "id": "29",
        "outputId": "df7b7c8f-e4e9-4e5d-ce33-993b723e04c5",
        "colab": {
          "base_uri": "https://localhost:8080/"
        }
      },
      "outputs": [
        {
          "output_type": "execute_result",
          "data": {
            "text/plain": [
              "-238.25710276152506"
            ]
          },
          "metadata": {},
          "execution_count": 21
        }
      ],
      "source": [
        "r_pybind(x, y)"
      ]
    },
    {
      "cell_type": "code",
      "execution_count": null,
      "id": "30",
      "metadata": {
        "id": "30",
        "outputId": "62f600fe-b855-461c-f3e5-a051d658748b",
        "colab": {
          "base_uri": "https://localhost:8080/"
        }
      },
      "outputs": [
        {
          "output_type": "stream",
          "name": "stdout",
          "text": [
            "191 ms ± 78.8 ms per loop (mean ± std. dev. of 7 runs, 10 loops each)\n"
          ]
        }
      ],
      "source": [
        "%timeit r_pybind(x, y)"
      ]
    },
    {
      "cell_type": "markdown",
      "id": "31",
      "metadata": {
        "id": "31"
      },
      "source": [
        "# numba"
      ]
    },
    {
      "cell_type": "code",
      "execution_count": null,
      "id": "32",
      "metadata": {
        "id": "32"
      },
      "outputs": [],
      "source": [
        "from numba import jit\n",
        "\n",
        "\n",
        "@jit\n",
        "def r_numba(x_vec, y_vec):\n",
        "    s = 0\n",
        "    for x, y in zip(x_vec, y_vec):\n",
        "        s += math.cos(x) * math.sin(y)\n",
        "    return s"
      ]
    },
    {
      "cell_type": "code",
      "execution_count": null,
      "id": "33",
      "metadata": {
        "id": "33",
        "outputId": "b6ef4da4-66a6-4dd6-d810-5326f27cecb9",
        "colab": {
          "base_uri": "https://localhost:8080/"
        }
      },
      "outputs": [
        {
          "output_type": "execute_result",
          "data": {
            "text/plain": [
              "-238.25710276152506"
            ]
          },
          "metadata": {},
          "execution_count": 24
        }
      ],
      "source": [
        "r_numba(x, y)"
      ]
    },
    {
      "cell_type": "code",
      "execution_count": null,
      "id": "34",
      "metadata": {
        "id": "34",
        "outputId": "44608195-27d0-4695-f473-7834ef66ca21",
        "colab": {
          "base_uri": "https://localhost:8080/"
        }
      },
      "outputs": [
        {
          "output_type": "stream",
          "name": "stdout",
          "text": [
            "159 ms ± 36 ms per loop (mean ± std. dev. of 7 runs, 10 loops each)\n"
          ]
        }
      ],
      "source": [
        "# pure python with numba JIT\n",
        "%timeit r_numba(x,y)"
      ]
    },
    {
      "cell_type": "markdown",
      "id": "35",
      "metadata": {
        "id": "35"
      },
      "source": [
        "## Numba compilation\n",
        "\n",
        "Two compilation modes\n",
        "\n",
        "- `nopython` mode (default)\n",
        "  - Fast because it doesn't access the Python C API\n",
        "  - Needs to be able to infer the native (C) types of all values\n",
        "- `object` mode (fallback)\n",
        "  - Slow because it uses Python objects and the Python C API\n",
        "  - Only used if `nopython` mode is not possible\n",
        "  - To raise an error instead of falling back to this, set `nopython=True` or use `@njit`"
      ]
    },
    {
      "cell_type": "markdown",
      "id": "36",
      "metadata": {
        "id": "36"
      },
      "source": [
        "## Numba function signatures\n",
        "\n",
        "You can optionally explicitly specify the function signature. Use cases:\n",
        "\n",
        "- you want the function to be compiled when it is defined rather than when it is first called\n",
        "- you need fine-grained control over types (e.g. if you want 32-bit floats)"
      ]
    },
    {
      "cell_type": "code",
      "execution_count": null,
      "id": "37",
      "metadata": {
        "id": "37"
      },
      "outputs": [],
      "source": [
        "from numba import float32\n",
        "\n",
        "\n",
        "@jit(float32(float32, float32))\n",
        "def sum(a, b):\n",
        "    return a + b"
      ]
    },
    {
      "cell_type": "code",
      "execution_count": null,
      "id": "38",
      "metadata": {
        "id": "38",
        "outputId": "efcf828c-ba0b-47d7-a4dd-82c094e0792d",
        "colab": {
          "base_uri": "https://localhost:8080/"
        }
      },
      "outputs": [
        {
          "output_type": "execute_result",
          "data": {
            "text/plain": [
              "2.0"
            ]
          },
          "metadata": {},
          "execution_count": 27
        }
      ],
      "source": [
        "sum(1, 0.99999999)"
      ]
    },
    {
      "cell_type": "markdown",
      "id": "39",
      "metadata": {
        "id": "39"
      },
      "source": [
        "## Numba options\n",
        "\n",
        "- `nopython=True` disable Object mode fallback\n",
        "- `nogil=True` release the Python Global Interpreter Lock (GIL)\n",
        "- `cache=True` cache the compiled funtions on disk\n",
        "- `parallel=True` enable automatic parallelization"
      ]
    },
    {
      "cell_type": "markdown",
      "id": "40",
      "metadata": {
        "id": "40"
      },
      "source": [
        "# Parallelization\n",
        "\n",
        "- set `parallel=True` option to enable\n",
        "- use `prange` to explicitly parallelize a loop over a `range`"
      ]
    },
    {
      "cell_type": "code",
      "execution_count": null,
      "id": "41",
      "metadata": {
        "id": "41"
      },
      "outputs": [],
      "source": [
        "from numba import jit, prange\n",
        "\n",
        "\n",
        "@jit(parallel=True)\n",
        "def r_numba(x_vec, y_vec):\n",
        "    s = 0\n",
        "    for i in prange(len(x_vec)):\n",
        "        s += math.cos(x[i]) * math.sin(y[i])\n",
        "    return s"
      ]
    },
    {
      "cell_type": "code",
      "execution_count": null,
      "id": "42",
      "metadata": {
        "id": "42",
        "outputId": "e9f89aed-bd42-4ba4-f3bc-d83e67f8034a",
        "colab": {
          "base_uri": "https://localhost:8080/"
        }
      },
      "outputs": [
        {
          "output_type": "execute_result",
          "data": {
            "text/plain": [
              "-238.25710276154427"
            ]
          },
          "metadata": {},
          "execution_count": 29
        }
      ],
      "source": [
        "r_numba(x, y)"
      ]
    },
    {
      "cell_type": "code",
      "execution_count": null,
      "id": "43",
      "metadata": {
        "id": "43",
        "outputId": "33d8e88f-b72d-431c-b203-e9e9872b1cbf",
        "colab": {
          "base_uri": "https://localhost:8080/"
        }
      },
      "outputs": [
        {
          "output_type": "stream",
          "name": "stdout",
          "text": [
            "136 ms ± 30 ms per loop (mean ± std. dev. of 7 runs, 10 loops each)\n"
          ]
        }
      ],
      "source": [
        "%timeit r_numba(x,y)"
      ]
    },
    {
      "cell_type": "markdown",
      "id": "44",
      "metadata": {
        "id": "44"
      },
      "source": [
        "# NumPy universal functions\n",
        "\n",
        "- a numpy `ufunc` is a function that operates on scalars\n",
        "- can create one using `@numba.vectorize` and use it like built-in numpy ufuncs"
      ]
    },
    {
      "cell_type": "code",
      "execution_count": null,
      "id": "45",
      "metadata": {
        "id": "45"
      },
      "outputs": [],
      "source": [
        "from numba import vectorize, float64\n",
        "\n",
        "\n",
        "@vectorize([float64(float64, float64)], target=\"parallel\")\n",
        "def r(x, y):\n",
        "    return np.cos(x) * np.sin(y)"
      ]
    },
    {
      "cell_type": "code",
      "execution_count": null,
      "id": "46",
      "metadata": {
        "id": "46",
        "outputId": "385f8d54-12eb-4bc8-96cb-7fe7652c5b5b",
        "colab": {
          "base_uri": "https://localhost:8080/"
        }
      },
      "outputs": [
        {
          "output_type": "execute_result",
          "data": {
            "text/plain": [
              "-0.05872664492762098"
            ]
          },
          "metadata": {},
          "execution_count": 32
        }
      ],
      "source": [
        "r(2, 3)"
      ]
    },
    {
      "cell_type": "code",
      "execution_count": null,
      "id": "47",
      "metadata": {
        "id": "47",
        "outputId": "16595857-eae9-4e92-d2bc-d65d82e165bf",
        "colab": {
          "base_uri": "https://localhost:8080/"
        }
      },
      "outputs": [
        {
          "output_type": "execute_result",
          "data": {
            "text/plain": [
              "array([ 0.05870886, -0.02016867, -0.50537763, ...,  0.65930919,\n",
              "        0.38708976, -0.68056393])"
            ]
          },
          "metadata": {},
          "execution_count": 33
        }
      ],
      "source": [
        "r(x, y)"
      ]
    },
    {
      "cell_type": "code",
      "execution_count": null,
      "id": "48",
      "metadata": {
        "id": "48",
        "outputId": "8095b899-6234-40af-d7a5-106ea4e596ae",
        "colab": {
          "base_uri": "https://localhost:8080/"
        }
      },
      "outputs": [
        {
          "output_type": "execute_result",
          "data": {
            "text/plain": [
              "-238.25710276153148"
            ]
          },
          "metadata": {},
          "execution_count": 34
        }
      ],
      "source": [
        "np.sum(r(x, y))"
      ]
    },
    {
      "cell_type": "code",
      "execution_count": null,
      "id": "49",
      "metadata": {
        "id": "49",
        "outputId": "41f6bfb3-888f-4624-9a95-e968470e0c5e",
        "colab": {
          "base_uri": "https://localhost:8080/"
        }
      },
      "outputs": [
        {
          "output_type": "stream",
          "name": "stdout",
          "text": [
            "150 ms ± 30.9 ms per loop (mean ± std. dev. of 7 runs, 10 loops each)\n"
          ]
        }
      ],
      "source": [
        "%timeit np.sum(r(x,y))"
      ]
    },
    {
      "cell_type": "markdown",
      "id": "50",
      "metadata": {
        "id": "50"
      },
      "source": [
        "## Advanced features\n",
        "\n",
        "- Ahead of Time (AoT) compilation\n",
        "  - the compiled module only depends on NumPy\n",
        "- Flexible specializations\n",
        "  - `@generated_jit` decorator for compile-time logic, e.g. type specializations\n",
        "- Stencil\n",
        "  - `@stencil` decorator for creating a stencil to apply to an array\n",
        "- C callbacks\n",
        "  - `@cfunc` decorator to generate a C-callback (e.g. to pass to scipy.integrate)\n",
        "- CUDA support\n",
        "  - compile CUDA kernels to run on a GPU\n",
        "- see [numba.readthedocs.io](https://numba.readthedocs.io/) for more"
      ]
    },
    {
      "cell_type": "code",
      "source": [],
      "metadata": {
        "id": "JRDK8j-dXKwj"
      },
      "id": "JRDK8j-dXKwj",
      "execution_count": null,
      "outputs": []
    }
  ],
  "metadata": {
    "celltoolbar": "Slideshow",
    "kernelspec": {
      "display_name": "Python 3 (ipykernel)",
      "language": "python",
      "name": "python3"
    },
    "language_info": {
      "codemirror_mode": {
        "name": "ipython",
        "version": 3
      },
      "file_extension": ".py",
      "mimetype": "text/x-python",
      "name": "python",
      "nbconvert_exporter": "python",
      "pygments_lexer": "ipython3",
      "version": "3.9.4"
    },
    "colab": {
      "provenance": [],
      "include_colab_link": true
    }
  },
  "nbformat": 4,
  "nbformat_minor": 5
}