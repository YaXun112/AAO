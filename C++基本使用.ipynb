{
  "nbformat": 4,
  "nbformat_minor": 0,
  "metadata": {
    "colab": {
      "provenance": [],
      "collapsed_sections": [
        "MNhlGw3zoLg7",
        "1YWnl55By_ZC"
      ],
      "authorship_tag": "ABX9TyM2zWCg7IZWDVyMePRYV8/A",
      "include_colab_link": true
    },
    "kernelspec": {
      "name": "python3",
      "display_name": "Python 3"
    },
    "language_info": {
      "name": "python"
    }
  },
  "cells": [
    {
      "cell_type": "markdown",
      "metadata": {
        "id": "view-in-github",
        "colab_type": "text"
      },
      "source": [
        "<a href=\"https://colab.research.google.com/github/YaXun112/Colab/blob/C%2FC%2B%2B/C%2B%2B%E5%9F%BA%E6%9C%AC%E4%BD%BF%E7%94%A8.ipynb\" target=\"_parent\"><img src=\"https://colab.research.google.com/assets/colab-badge.svg\" alt=\"Open In Colab\"/></a>"
      ]
    },
    {
      "cell_type": "markdown",
      "source": [
        "# §§ 1 Preparing"
      ],
      "metadata": {
        "id": "JKAQCkO7Mq-M"
      }
    },
    {
      "cell_type": "code",
      "source": [
        "# %lsmagic"
      ],
      "metadata": {
        "id": "Z69a6jvRuJ-w"
      },
      "execution_count": 1,
      "outputs": []
    },
    {
      "cell_type": "code",
      "source": [
        "# %%writefile?"
      ],
      "metadata": {
        "id": "KvnFgNYpt3bX"
      },
      "execution_count": 2,
      "outputs": []
    },
    {
      "cell_type": "code",
      "source": [
        "%%writefile Hello.cpp\n",
        "//Set up file Hello.cpp\n",
        "//preprocessing\n",
        "#include<iostream>\n",
        "using namespace std;\n",
        "\n",
        "int main(){\n",
        "    cout<<\"Hello World!\"<<endl;\n",
        "    return 0;\n",
        "}"
      ],
      "metadata": {
        "colab": {
          "base_uri": "https://localhost:8080/"
        },
        "id": "qlmijhi2u9cU",
        "outputId": "2836b50a-78a0-4188-df5c-49643d693812"
      },
      "execution_count": 3,
      "outputs": [
        {
          "output_type": "stream",
          "name": "stdout",
          "text": [
            "Writing Hello.cpp\n"
          ]
        }
      ]
    },
    {
      "cell_type": "code",
      "source": [
        "# %%bash?"
      ],
      "metadata": {
        "id": "nhjMKd-OvibW"
      },
      "execution_count": 4,
      "outputs": []
    },
    {
      "cell_type": "code",
      "source": [
        "# %%shell?"
      ],
      "metadata": {
        "id": "Gs3_XPScv4tr"
      },
      "execution_count": 5,
      "outputs": []
    },
    {
      "cell_type": "code",
      "source": [
        "%%shell\n",
        "g++ Hello.cpp\n",
        "./a.out"
      ],
      "metadata": {
        "colab": {
          "base_uri": "https://localhost:8080/"
        },
        "id": "pZKvs5hNv-fq",
        "outputId": "efc1e0c6-26ca-4840-db9a-ba713c0d45e3"
      },
      "execution_count": 6,
      "outputs": [
        {
          "output_type": "stream",
          "name": "stdout",
          "text": [
            "Hello World!\n"
          ]
        },
        {
          "output_type": "execute_result",
          "data": {
            "text/plain": []
          },
          "metadata": {},
          "execution_count": 6
        }
      ]
    },
    {
      "cell_type": "markdown",
      "source": [
        "# §§ 2 Variant, Constant and Data Type"
      ],
      "metadata": {
        "id": "X5bCz2TvNBSA"
      }
    },
    {
      "cell_type": "code",
      "source": [
        "%%writefile CH02_01.cpp\n",
        "#include <iostream>\n",
        "using namespace std;\n",
        "\n",
        "int main(){\n",
        "    int a;\n",
        "    int b = 12;\n",
        "    cout<<\"a = \"<<a<<endl; //print a non-initialized variant a\n",
        "    cout<<\"b = \"<<b<<endl; //print a initialized variant b\n",
        "    return 0;\n",
        "}\n"
      ],
      "metadata": {
        "id": "CSmoYA4twMiw",
        "colab": {
          "base_uri": "https://localhost:8080/"
        },
        "outputId": "8e531b62-ffa6-460a-dc62-966a7fd520b8"
      },
      "execution_count": 7,
      "outputs": [
        {
          "output_type": "stream",
          "name": "stdout",
          "text": [
            "Writing CH02_01.cpp\n"
          ]
        }
      ]
    },
    {
      "cell_type": "code",
      "source": [
        "%%shell\n",
        "g++ CH02_01.cpp\n",
        "./a.out"
      ],
      "metadata": {
        "colab": {
          "base_uri": "https://localhost:8080/"
        },
        "id": "QOt-RJguN9qi",
        "outputId": "e16e95bf-60b6-4427-e5da-7cb75ca71360"
      },
      "execution_count": 8,
      "outputs": [
        {
          "output_type": "stream",
          "name": "stdout",
          "text": [
            "a = 0\n",
            "b = 12\n"
          ]
        },
        {
          "output_type": "execute_result",
          "data": {
            "text/plain": []
          },
          "metadata": {},
          "execution_count": 8
        }
      ]
    },
    {
      "cell_type": "code",
      "source": [
        "%%writefile CH02_02.cpp\n",
        "#include <iostream>\n",
        "using namespace std;\n",
        "\n",
        "int main(){\n",
        "    short int number1 = 0200;\n",
        "    int number2 = 0x33f;\n",
        "    long int number3 = 1234567890;\n",
        "    unsigned long int number4 = 987654321;\n",
        "\n",
        "    cout<<\"短整數 = \"<<number1<<\"所佔位元組\"<<sizeof(number1)<<endl;\n",
        "    cout<<\"整數 = \"<<number2<<\"所佔位元組\"<<sizeof(number2)<<endl;\n",
        "    cout<<\"長整數 = \"<<number3<<\"所佔位元組\"<<sizeof(number3)<<endl;\n",
        "    cout<<\"無號長整數 = \"<<number4<<\"所佔位元組\"<<sizeof(number4)<<endl;\n",
        "\n",
        "    return 0;\n",
        "}"
      ],
      "metadata": {
        "colab": {
          "base_uri": "https://localhost:8080/"
        },
        "id": "GXNyuJpYOAUI",
        "outputId": "e00f6c6a-c096-45f8-90fd-147f8cf8d431"
      },
      "execution_count": 9,
      "outputs": [
        {
          "output_type": "stream",
          "name": "stdout",
          "text": [
            "Writing CH02_02.cpp\n"
          ]
        }
      ]
    },
    {
      "cell_type": "code",
      "source": [
        "%%shell\n",
        "g++ CH02_02.cpp\n",
        "./a.out"
      ],
      "metadata": {
        "colab": {
          "base_uri": "https://localhost:8080/"
        },
        "id": "Kac0Xw0iRFq_",
        "outputId": "029e1103-0dc7-484c-cbbd-752a9efee5ed"
      },
      "execution_count": 10,
      "outputs": [
        {
          "output_type": "stream",
          "name": "stdout",
          "text": [
            "短整數 = 128所佔位元組2\n",
            "整數 = 831所佔位元組4\n",
            "長整數 = 1234567890所佔位元組8\n",
            "無號長整數 = 987654321所佔位元組8\n"
          ]
        },
        {
          "output_type": "execute_result",
          "data": {
            "text/plain": []
          },
          "metadata": {},
          "execution_count": 10
        }
      ]
    },
    {
      "cell_type": "markdown",
      "source": [
        "# §§ 3 Expression and Operator"
      ],
      "metadata": {
        "id": "Qr2X5MBZWwBh"
      }
    },
    {
      "cell_type": "code",
      "source": [
        "%%writefile CH03_01.cpp\n",
        "#include <iostream>\n",
        "using namespace std;\n",
        "\n",
        "int main(){\n",
        "    int A = 19, B = 6;\n",
        "    cout<<\"A = 21, B = 6 \\n\"<<\" A + B = \"<<A+B<<endl;\n",
        "    cout<<\"A - B = \"<<A-B<<endl;\n",
        "    cout<<\"A * B = \"<<A*B<<endl;\n",
        "    cout<<\"A / B = \"<<A/B<<endl;\n",
        "    cout<<\"A % B = \"<<A%B<<endl;\n",
        "    return 0;\n",
        "}"
      ],
      "metadata": {
        "id": "pKO5QZR7RILV",
        "colab": {
          "base_uri": "https://localhost:8080/"
        },
        "outputId": "933b4a27-cb88-40a9-a168-505a18d1bdf5"
      },
      "execution_count": 11,
      "outputs": [
        {
          "output_type": "stream",
          "name": "stdout",
          "text": [
            "Writing CH03_01.cpp\n"
          ]
        }
      ]
    },
    {
      "cell_type": "code",
      "source": [
        "%%shell\n",
        "g++ CH03_01.cpp\n",
        "./a.out"
      ],
      "metadata": {
        "colab": {
          "base_uri": "https://localhost:8080/"
        },
        "id": "7rx3GEhHa9fC",
        "outputId": "dda3b11c-e5e1-44b5-8f6a-e0fd373bed29"
      },
      "execution_count": 12,
      "outputs": [
        {
          "output_type": "stream",
          "name": "stdout",
          "text": [
            "A = 21, B = 6 \n",
            " A + B = 25\n",
            "A - B = 13\n",
            "A * B = 114\n",
            "A / B = 3\n",
            "A % B = 1\n"
          ]
        },
        {
          "output_type": "execute_result",
          "data": {
            "text/plain": []
          },
          "metadata": {},
          "execution_count": 12
        }
      ]
    },
    {
      "cell_type": "markdown",
      "source": [
        "# §§ 4 Flow Control"
      ],
      "metadata": {
        "id": "t1ynz0PDW0cg"
      }
    },
    {
      "cell_type": "code",
      "source": [
        "%%writefile CH04_01.cpp\n",
        "#include <iostream>\n",
        "using namespace std;\n",
        "\n",
        "int main(){\n",
        "    int score = 0;\n",
        "\n",
        "    cout<<\"請輸入成績：\";\n",
        "    cin>>score;\n",
        "\n",
        "    if(score>=60) //if else 判斷式\n",
        "        cout<<\"及格\"<<endl;\n",
        "    else\n",
        "        cout<<\"不及格\"<<endl;\n",
        "\n",
        "    return 0;\n",
        "}"
      ],
      "metadata": {
        "colab": {
          "base_uri": "https://localhost:8080/"
        },
        "id": "yOoavUDIW40a",
        "outputId": "0ab52726-e097-4da6-82e4-e35f58384aaf"
      },
      "execution_count": 13,
      "outputs": [
        {
          "output_type": "stream",
          "name": "stdout",
          "text": [
            "Writing CH04_01.cpp\n"
          ]
        }
      ]
    },
    {
      "cell_type": "code",
      "source": [
        "%%shell\n",
        "g++ CH04_01.cpp\n",
        "./a.out"
      ],
      "metadata": {
        "colab": {
          "base_uri": "https://localhost:8080/"
        },
        "id": "kEcLwRkKXcO5",
        "outputId": "1905b7ab-3741-421a-8f91-455ad29ca2c6"
      },
      "execution_count": 14,
      "outputs": [
        {
          "output_type": "stream",
          "name": "stdout",
          "text": [
            "請輸入成績：78\n",
            "及格\n"
          ]
        },
        {
          "output_type": "execute_result",
          "data": {
            "text/plain": []
          },
          "metadata": {},
          "execution_count": 14
        }
      ]
    },
    {
      "cell_type": "code",
      "source": [],
      "metadata": {
        "id": "C5P_okPnXeNQ"
      },
      "execution_count": 14,
      "outputs": []
    },
    {
      "cell_type": "markdown",
      "source": [
        "# §§ 5 Array and String"
      ],
      "metadata": {
        "id": "1MPEdhOocDl7"
      }
    },
    {
      "cell_type": "code",
      "source": [
        "%%writefile CH05_01.cpp\n",
        "#include <iostream>\n",
        "using namespace std;\n",
        "\n",
        "int main(){\n",
        "    int score[8] = {7, 22, 36};\n",
        "    int Temp[] = {1, 2, 3, 4, 5};\n",
        "    int i;\n",
        "\n",
        "    for(i=0; i<8; i++)\n",
        "    {\n",
        "        cout<<\"score[\"<<i<<\"] = \"<<score[i]<<endl;\n",
        "    }\n",
        "\n",
        "    cout<<\"\\n\"<<\"Temp陣列大小 = \"<<sizeof(Temp)/sizeof(Temp[0])<<endl;\n",
        "\n",
        "    return 0;\n",
        "\n",
        "}"
      ],
      "metadata": {
        "colab": {
          "base_uri": "https://localhost:8080/"
        },
        "id": "1A6Ke11QcJ-1",
        "outputId": "d65d8afa-4868-4272-86c8-1b114146f07b"
      },
      "execution_count": 15,
      "outputs": [
        {
          "output_type": "stream",
          "name": "stdout",
          "text": [
            "Writing CH05_01.cpp\n"
          ]
        }
      ]
    },
    {
      "cell_type": "code",
      "source": [
        "%%shell\n",
        "g++ CH05_01.cpp\n",
        "./a.out"
      ],
      "metadata": {
        "colab": {
          "base_uri": "https://localhost:8080/"
        },
        "id": "cLIRnRdXd298",
        "outputId": "a8446f04-30f0-4591-c7b2-23816845383f"
      },
      "execution_count": 16,
      "outputs": [
        {
          "output_type": "stream",
          "name": "stdout",
          "text": [
            "score[0] = 7\n",
            "score[1] = 22\n",
            "score[2] = 36\n",
            "score[3] = 0\n",
            "score[4] = 0\n",
            "score[5] = 0\n",
            "score[6] = 0\n",
            "score[7] = 0\n",
            "\n",
            "Temp陣列大小 = 5\n"
          ]
        },
        {
          "output_type": "execute_result",
          "data": {
            "text/plain": []
          },
          "metadata": {},
          "execution_count": 16
        }
      ]
    },
    {
      "cell_type": "code",
      "source": [],
      "metadata": {
        "id": "Q1ybBBf4d93W"
      },
      "execution_count": 16,
      "outputs": []
    },
    {
      "cell_type": "markdown",
      "source": [
        "# §§ 6 Pointer & Address"
      ],
      "metadata": {
        "id": "5chXuoWzkLZ7"
      }
    },
    {
      "cell_type": "code",
      "source": [
        "%%writefile CH06_01.cpp\n",
        "#include <iostream>\n",
        "using namespace std;\n",
        "\n",
        "int main(){\n",
        "    int num1 = 10;\n",
        "    char ch1[2] = \"A\";\n",
        "\n",
        "    cout<<\"變數名稱\" <<\"\\t\"<<\"|變數值\"<<\"\\t\"<< \"|記憶體位址 \"<<endl;\n",
        "    cout<<\"-------------------------------\"<<endl;\n",
        "    cout<<\"num1\"<<\"\\t\"<<num1<<\"\\t\"<<&num1<<endl;\n",
        "    cout<<\"ch1\"<<\"\\t\"<<ch1<<\"\\t\"<<&ch1<<endl;\n",
        "\n",
        "    return 0;\n",
        "}"
      ],
      "metadata": {
        "colab": {
          "base_uri": "https://localhost:8080/"
        },
        "id": "uE3JmpykkO1N",
        "outputId": "c63f976e-f67f-4b0c-99f9-b8aba5c34e80"
      },
      "execution_count": 17,
      "outputs": [
        {
          "output_type": "stream",
          "name": "stdout",
          "text": [
            "Writing CH06_01.cpp\n"
          ]
        }
      ]
    },
    {
      "cell_type": "code",
      "source": [
        "%%shell\n",
        "g++ CH06_01.cpp\n",
        "./a.out"
      ],
      "metadata": {
        "colab": {
          "base_uri": "https://localhost:8080/"
        },
        "id": "lDmncerklebd",
        "outputId": "8ecc5b1a-36ce-45eb-b8df-503cf2f65578"
      },
      "execution_count": 18,
      "outputs": [
        {
          "output_type": "stream",
          "name": "stdout",
          "text": [
            "變數名稱\t|變數值\t|記憶體位址 \n",
            "-------------------------------\n",
            "num1\t10\t0x7ffea18fe320\n",
            "ch1\tA\t0x7ffea18fe326\n"
          ]
        },
        {
          "output_type": "execute_result",
          "data": {
            "text/plain": []
          },
          "metadata": {},
          "execution_count": 18
        }
      ]
    },
    {
      "cell_type": "code",
      "source": [],
      "metadata": {
        "id": "k-KtpsRYlkQa"
      },
      "execution_count": 18,
      "outputs": []
    },
    {
      "cell_type": "markdown",
      "source": [
        "# §§ 7 Fuction"
      ],
      "metadata": {
        "id": "ZLrwIGf6mtl0"
      }
    },
    {
      "cell_type": "code",
      "source": [
        "%%writefile CH07_01.cpp\n",
        "#include <iostream>\n",
        "#include <cstdlib>\n",
        "using namespace std;\n",
        "\n",
        "int Add_Func(int a, int b)\n",
        "{\n",
        "    return a+b;\n",
        "}\n",
        "\n",
        "int main(){\n",
        "    int x;\n",
        "    int y;\n",
        "    cout<<\"請輸入整數 x=:\";\n",
        "    cin>>x;\n",
        "    cout<<\"請輸入整數 y=:\";\n",
        "    cin>>y;\n",
        "\n",
        "    cout<<\"x+y = \"<<Add_Func(x, y)<<endl;\n",
        "\n",
        "    return 0;\n",
        "}"
      ],
      "metadata": {
        "colab": {
          "base_uri": "https://localhost:8080/"
        },
        "id": "OkU_hVVzmuAU",
        "outputId": "4f6e391e-1d6f-44a9-c956-35ba164ad415"
      },
      "execution_count": 19,
      "outputs": [
        {
          "output_type": "stream",
          "name": "stdout",
          "text": [
            "Writing CH07_01.cpp\n"
          ]
        }
      ]
    },
    {
      "cell_type": "code",
      "source": [
        "%%shell\n",
        "g++ CH07_01.cpp\n",
        "./a.out"
      ],
      "metadata": {
        "colab": {
          "base_uri": "https://localhost:8080/"
        },
        "id": "11MBdn11nqml",
        "outputId": "52d7fb91-0a75-4870-bede-f324fc38c6f2"
      },
      "execution_count": 20,
      "outputs": [
        {
          "output_type": "stream",
          "name": "stdout",
          "text": [
            "請輸入整數 x=:89\n",
            "請輸入整數 y=:44\n",
            "x+y = 133\n"
          ]
        },
        {
          "output_type": "execute_result",
          "data": {
            "text/plain": []
          },
          "metadata": {},
          "execution_count": 20
        }
      ]
    },
    {
      "cell_type": "code",
      "source": [],
      "metadata": {
        "id": "ztlGnN3Xnsd6"
      },
      "execution_count": 20,
      "outputs": []
    },
    {
      "cell_type": "markdown",
      "source": [
        "# §§ 8 Advanced Application of Function"
      ],
      "metadata": {
        "id": "MNhlGw3zoLg7"
      }
    },
    {
      "cell_type": "code",
      "source": [
        "%%writefile CH08_01.cpp\n",
        "#include <iostream>\n",
        "using namespace std;\n",
        "\n",
        "void print_word1(const char*);\n",
        "void print_word2(const char*);\n",
        "\n",
        "int main()\n",
        "{\n",
        "    void (*ptr)(const char*);\n",
        "\n",
        "    ptr = print_word1;\n",
        "    ptr(\"Hello!\");\n",
        "    ptr = print_word2;\n",
        "    ptr(\"Good Bye!\");\n",
        "\n",
        "    return 0;\n",
        "}\n",
        "\n",
        "void print_word1(const char* str)\n",
        "{\n",
        "    cout<<\"這是print_word1函數\"<<endl;\n",
        "    cout<<str<<endl;\n",
        "}\n",
        "\n",
        "void print_word2(const char* str)\n",
        "{\n",
        "    cout<<\"這是print_word1函數\"<<endl;\n",
        "    cout<<str<<endl;\n",
        "}"
      ],
      "metadata": {
        "colab": {
          "base_uri": "https://localhost:8080/"
        },
        "id": "et6gUMpboUeX",
        "outputId": "7cf7f078-325a-46a9-cb72-076a21fdcaac"
      },
      "execution_count": 21,
      "outputs": [
        {
          "output_type": "stream",
          "name": "stdout",
          "text": [
            "Writing CH08_01.cpp\n"
          ]
        }
      ]
    },
    {
      "cell_type": "code",
      "source": [
        "%%shell\n",
        "g++ CH08_01.cpp\n",
        "./a.out"
      ],
      "metadata": {
        "colab": {
          "base_uri": "https://localhost:8080/"
        },
        "id": "t68TPN6ZpWWj",
        "outputId": "5d703210-113e-41b3-ddd5-7f1caceac509"
      },
      "execution_count": 22,
      "outputs": [
        {
          "output_type": "stream",
          "name": "stdout",
          "text": [
            "這是print_word1函數\n",
            "Hello!\n",
            "這是print_word1函數\n",
            "Good Bye!\n"
          ]
        },
        {
          "output_type": "execute_result",
          "data": {
            "text/plain": []
          },
          "metadata": {},
          "execution_count": 22
        }
      ]
    },
    {
      "cell_type": "code",
      "source": [],
      "metadata": {
        "id": "U0MI_x0LpZIo"
      },
      "execution_count": 22,
      "outputs": []
    },
    {
      "cell_type": "markdown",
      "source": [
        "# §§ 9 Preprocessing and Macro"
      ],
      "metadata": {
        "id": "OgbEdGncp-ts"
      }
    },
    {
      "cell_type": "code",
      "source": [
        "%%writefile CH09_01.cpp\n",
        "#include <iostream>\n",
        "#include \"CH09_01_1.cpp\"\n",
        "using namespace std;\n",
        "\n",
        "double factorial(int);\n",
        "double Cnk(int, int);\n",
        "\n",
        "int main()\n",
        "{\n",
        "    int n, k;\n",
        "    cout<<\"計算C(n,k) = n!/(k!(n-k)!)\"<<endl;\n",
        "    cout<<\"-------------------------------------\"<<endl;\n",
        "    cout<<\"請輸入n = \";\n",
        "    cin>>n;\n",
        "    cout<<\"請輸入k = \";\n",
        "    cin>>k;\n",
        "\n",
        "    cout<<\"C(\"<<n<<\",\"<<k<<\") = \"<<Cnk(n,k)<<endl;\n",
        "\n",
        "    return 0;\n",
        "}"
      ],
      "metadata": {
        "colab": {
          "base_uri": "https://localhost:8080/"
        },
        "id": "YMaScWJtqEir",
        "outputId": "848c6ff3-caa3-44a6-c045-916b86b1775b"
      },
      "execution_count": 23,
      "outputs": [
        {
          "output_type": "stream",
          "name": "stdout",
          "text": [
            "Writing CH09_01.cpp\n"
          ]
        }
      ]
    },
    {
      "cell_type": "code",
      "source": [
        "%%writefile CH09_01_1.cpp\n",
        "double factorial(int n)\n",
        "{\n",
        "    if(n==1)\n",
        "        return 1;\n",
        "    else\n",
        "        return n*factorial(n-1);\n",
        "}\n",
        "\n",
        "double Cnk(int n, int k)\n",
        "{\n",
        "    return factorial(n)/(factorial(k)*factorial(n-k));\n",
        "}"
      ],
      "metadata": {
        "colab": {
          "base_uri": "https://localhost:8080/"
        },
        "id": "nKc8ye6drVrD",
        "outputId": "3010be55-a5bb-46f5-e9a4-40f58e29216a"
      },
      "execution_count": 24,
      "outputs": [
        {
          "output_type": "stream",
          "name": "stdout",
          "text": [
            "Writing CH09_01_1.cpp\n"
          ]
        }
      ]
    },
    {
      "cell_type": "code",
      "source": [
        "%%shell\n",
        "g++ CH09_01.cpp\n",
        "./a.out"
      ],
      "metadata": {
        "colab": {
          "base_uri": "https://localhost:8080/"
        },
        "id": "A4-LHMpZru41",
        "outputId": "6840abec-991d-4738-a4ae-829f7e64cae9"
      },
      "execution_count": 25,
      "outputs": [
        {
          "output_type": "stream",
          "name": "stdout",
          "text": [
            "計算C(n,k) = n!/(k!(n-k)!)\n",
            "-------------------------------------\n",
            "請輸入n = 77\n",
            "請輸入k = 21\n",
            "C(77,21) = 3.99672e+18\n"
          ]
        },
        {
          "output_type": "execute_result",
          "data": {
            "text/plain": []
          },
          "metadata": {},
          "execution_count": 25
        }
      ]
    },
    {
      "cell_type": "code",
      "source": [],
      "metadata": {
        "id": "jAhLdXeArztv"
      },
      "execution_count": 25,
      "outputs": []
    },
    {
      "cell_type": "markdown",
      "source": [
        "# §§ 10 Self-defining Data Type and its Application"
      ],
      "metadata": {
        "id": "s2Y0Cif7sUfg"
      }
    },
    {
      "cell_type": "markdown",
      "source": [
        "## § 10-1 Structure"
      ],
      "metadata": {
        "id": "Cx5UUe6psits"
      }
    },
    {
      "cell_type": "code",
      "source": [
        "%%writefile CH10_01.cpp\n",
        "#include <iostream>\n",
        "using namespace std;\n",
        "\n",
        "int main()\n",
        "{\n",
        "    struct student\n",
        "    {\n",
        "        char name[10];\n",
        "        int score;\n",
        "    } s1, s2; //結構型態的宣告與定義\n",
        "\n",
        "    cout<<\"學生姓名：\";\n",
        "    cin>>s1.name; //輸入s1結構變數的name成員\n",
        "    cout<<\"學生成績：\";\n",
        "    cin>>s1.score; //輸入s1結構變數的score成員\n",
        "    s2 = s1; //複製s1結構變數到s2結構變數；結構變數的指定運算\n",
        "    cout<<\"s1.name = \"<<s1.name<<endl;\n",
        "    cout<<\"s1.score = \"<<s1.score<<endl;\n",
        "    cout<<\"s2.name = \"<<s2.name<<endl;\n",
        "    cout<<\"s2.score = \"<<s2.score<<endl;\n",
        "    system(\"pause\");\n",
        "    return 0;\n",
        "\n",
        "}"
      ],
      "metadata": {
        "colab": {
          "base_uri": "https://localhost:8080/"
        },
        "id": "Am8KglQ2sWYe",
        "outputId": "1b068290-acf4-4b86-8bda-0e7f59d42171"
      },
      "execution_count": 31,
      "outputs": [
        {
          "output_type": "stream",
          "name": "stdout",
          "text": [
            "Overwriting CH10_01.cpp\n"
          ]
        }
      ]
    },
    {
      "cell_type": "code",
      "source": [
        "%%shell\n",
        "g++ CH10_01.cpp\n",
        "./a.out"
      ],
      "metadata": {
        "colab": {
          "base_uri": "https://localhost:8080/"
        },
        "id": "NC1iUFZmucf8",
        "outputId": "1de6cd1d-e462-4940-e509-670d9dd76390"
      },
      "execution_count": 33,
      "outputs": [
        {
          "output_type": "stream",
          "name": "stdout",
          "text": [
            "學生姓名：小乖\n",
            "學生成績：88\n",
            "s1.name = 小乖\n",
            "s1.score = 88\n",
            "s2.name = 小乖\n",
            "s2.score = 88\n",
            "sh: 1: pause: not found\n"
          ]
        },
        {
          "output_type": "execute_result",
          "data": {
            "text/plain": []
          },
          "metadata": {},
          "execution_count": 33
        }
      ]
    },
    {
      "cell_type": "code",
      "source": [],
      "metadata": {
        "id": "x7FUoa7ougr-"
      },
      "execution_count": 27,
      "outputs": []
    },
    {
      "cell_type": "markdown",
      "source": [
        "# §§ 11 Object-Oriented Programming"
      ],
      "metadata": {
        "id": "yojY5mGku9S3"
      }
    },
    {
      "cell_type": "code",
      "source": [
        "%%writefile CH11_01.cpp\n",
        "#include <iostream>\n",
        "using namespace std;\n",
        "\n",
        "class Student //宣告Student類別\n",
        "{\n",
        "    private: //宣告隱私資料成員\n",
        "        char StuID[8];\n",
        "        float Score_E, Score_M, Score_T, Score_A;\n",
        "    public: //公用資料成員\n",
        "        void input_data() //宣告成員函數\n",
        "        {\n",
        "            cout<<\"＊＊請輸入學號及各科成績＊＊\"<<endl;\n",
        "            cout<<\"學號：\";\n",
        "            cin>>StuID;\n",
        "        }\n",
        "        void show_data() //宣告成員函數\n",
        "        {\n",
        "            cout<<\"請輸入英文成績：\"; //實作input_data函數\n",
        "            cin>>Score_E;\n",
        "            cout<<\"請輸入數學成績：\";\n",
        "            cin>>Score_M;\n",
        "            Score_T = Score_E + Score_M;\n",
        "            Score_A = Score_T/2;\n",
        "            cout<<\"==============================\"<<endl;\n",
        "            cout<<\"學號：\"<<StuID<<\"\"<<endl; //實作show_data函數\n",
        "            cout<<\"總分是\"<<Score_T<<\"分，平均是\"<<Score_A<<\"分\"<<endl;\n",
        "            cout<<\"==============================\"<<endl;\n",
        "        }\n",
        "};\n",
        "\n",
        "int main()\n",
        "{\n",
        "    Student s1; //建立Student類別物件\n",
        "    s1.input_data(); //呼叫input_data成員函數\n",
        "    s1.show_data(); //呼叫show_data成員函數\n",
        "    return 0;\n",
        "}"
      ],
      "metadata": {
        "colab": {
          "base_uri": "https://localhost:8080/"
        },
        "id": "RjBbOwa1u9lk",
        "outputId": "15e32383-eb87-4772-9d2c-d5a306d37073"
      },
      "execution_count": 28,
      "outputs": [
        {
          "output_type": "stream",
          "name": "stdout",
          "text": [
            "Writing CH11_01.cpp\n"
          ]
        }
      ]
    },
    {
      "cell_type": "code",
      "source": [
        "%%shell\n",
        "g++ CH11_01.cpp\n",
        "./a.out"
      ],
      "metadata": {
        "colab": {
          "base_uri": "https://localhost:8080/"
        },
        "id": "1IQOc0NSxO4D",
        "outputId": "a1d3240a-abbc-4ef4-c09c-bd853a92d5a4"
      },
      "execution_count": 29,
      "outputs": [
        {
          "output_type": "stream",
          "name": "stdout",
          "text": [
            "＊＊請輸入學號及各科成績＊＊\n",
            "學號：10612137\n",
            "請輸入英文成績：70\n",
            "請輸入數學成績：80\n",
            "==============================\n",
            "學號：10612137\n",
            "總分是150分，平均是75分\n",
            "==============================\n"
          ]
        },
        {
          "output_type": "execute_result",
          "data": {
            "text/plain": []
          },
          "metadata": {},
          "execution_count": 29
        }
      ]
    },
    {
      "cell_type": "code",
      "source": [],
      "metadata": {
        "id": "_Z9bsdNWxWN4"
      },
      "execution_count": 29,
      "outputs": []
    },
    {
      "cell_type": "markdown",
      "source": [
        "# §§ 12 Advanced Application of Class"
      ],
      "metadata": {
        "id": "1YWnl55By_ZC"
      }
    },
    {
      "cell_type": "code",
      "source": [],
      "metadata": {
        "id": "bhqcTpUXy_1_"
      },
      "execution_count": 29,
      "outputs": []
    }
  ]
}