{
  "nbformat": 4,
  "nbformat_minor": 0,
  "metadata": {
    "colab": {
      "provenance": [],
      "collapsed_sections": [
        "1MPEdhOocDl7"
      ],
      "authorship_tag": "ABX9TyNLHhHgq8L/Y5K2KfaNvV7L",
      "include_colab_link": true
    },
    "kernelspec": {
      "name": "python3",
      "display_name": "Python 3"
    },
    "language_info": {
      "name": "python"
    }
  },
  "cells": [
    {
      "cell_type": "markdown",
      "metadata": {
        "id": "view-in-github",
        "colab_type": "text"
      },
      "source": [
        "<a href=\"https://colab.research.google.com/github/YaXun112/Colab/blob/C%2FC%2B%2B/C%2B%2B%E5%9F%BA%E6%9C%AC%E4%BD%BF%E7%94%A8.ipynb\" target=\"_parent\"><img src=\"https://colab.research.google.com/assets/colab-badge.svg\" alt=\"Open In Colab\"/></a>"
      ]
    },
    {
      "cell_type": "markdown",
      "source": [
        "# §§ 1 Preparing"
      ],
      "metadata": {
        "id": "JKAQCkO7Mq-M"
      }
    },
    {
      "cell_type": "code",
      "source": [
        "# %lsmagic"
      ],
      "metadata": {
        "id": "Z69a6jvRuJ-w"
      },
      "execution_count": 1,
      "outputs": []
    },
    {
      "cell_type": "code",
      "source": [
        "# %%writefile?"
      ],
      "metadata": {
        "id": "KvnFgNYpt3bX"
      },
      "execution_count": 2,
      "outputs": []
    },
    {
      "cell_type": "code",
      "source": [
        "%%writefile Hello.cpp\n",
        "//Set up file Hello.cpp\n",
        "//preprocessing\n",
        "#include<iostream>\n",
        "using namespace std;\n",
        "\n",
        "int main(){\n",
        "    cout<<\"Hello World!\"<<endl;\n",
        "    return 0;\n",
        "}"
      ],
      "metadata": {
        "colab": {
          "base_uri": "https://localhost:8080/"
        },
        "id": "qlmijhi2u9cU",
        "outputId": "64503063-9f3f-4298-8c7f-fbf4f7793f16"
      },
      "execution_count": 3,
      "outputs": [
        {
          "output_type": "stream",
          "name": "stdout",
          "text": [
            "Overwriting Hello.cpp\n"
          ]
        }
      ]
    },
    {
      "cell_type": "code",
      "source": [
        "# %%bash?"
      ],
      "metadata": {
        "id": "nhjMKd-OvibW"
      },
      "execution_count": 4,
      "outputs": []
    },
    {
      "cell_type": "code",
      "source": [
        "# %%shell?"
      ],
      "metadata": {
        "id": "Gs3_XPScv4tr"
      },
      "execution_count": 5,
      "outputs": []
    },
    {
      "cell_type": "code",
      "source": [
        "%%shell\n",
        "g++ Hello.cpp\n",
        "./a.out"
      ],
      "metadata": {
        "colab": {
          "base_uri": "https://localhost:8080/"
        },
        "id": "pZKvs5hNv-fq",
        "outputId": "3bf851b5-8955-4685-9d0a-8f3dd01d4677"
      },
      "execution_count": 6,
      "outputs": [
        {
          "output_type": "stream",
          "name": "stdout",
          "text": [
            "Hello World!\n"
          ]
        },
        {
          "output_type": "execute_result",
          "data": {
            "text/plain": []
          },
          "metadata": {},
          "execution_count": 6
        }
      ]
    },
    {
      "cell_type": "markdown",
      "source": [
        "# §§ 2 Variant, Constant and Data Type"
      ],
      "metadata": {
        "id": "X5bCz2TvNBSA"
      }
    },
    {
      "cell_type": "code",
      "source": [
        "%%writefile CH02_01.cpp\n",
        "#include <iostream>\n",
        "using namespace std;\n",
        "\n",
        "int main(){\n",
        "    int a;\n",
        "    int b = 12;\n",
        "    cout<<\"a = \"<<a<<endl; //print a non-initialized variant a\n",
        "    cout<<\"b = \"<<b<<endl; //print a initialized variant b\n",
        "    return 0;\n",
        "}\n"
      ],
      "metadata": {
        "id": "CSmoYA4twMiw",
        "colab": {
          "base_uri": "https://localhost:8080/"
        },
        "outputId": "5f608c53-4110-46e7-df6c-984764fb2825"
      },
      "execution_count": 7,
      "outputs": [
        {
          "output_type": "stream",
          "name": "stdout",
          "text": [
            "Overwriting CH02_01.cpp\n"
          ]
        }
      ]
    },
    {
      "cell_type": "code",
      "source": [
        "%%shell\n",
        "g++ CH02_01.cpp\n",
        "./a.out"
      ],
      "metadata": {
        "colab": {
          "base_uri": "https://localhost:8080/"
        },
        "id": "QOt-RJguN9qi",
        "outputId": "337fe639-3baa-433b-f0b4-980d5ce2c8c4"
      },
      "execution_count": 8,
      "outputs": [
        {
          "output_type": "stream",
          "name": "stdout",
          "text": [
            "a = 0\n",
            "b = 12\n"
          ]
        },
        {
          "output_type": "execute_result",
          "data": {
            "text/plain": []
          },
          "metadata": {},
          "execution_count": 8
        }
      ]
    },
    {
      "cell_type": "code",
      "source": [
        "%%writefile CH02_02.cpp\n",
        "#include <iostream>\n",
        "using namespace std;\n",
        "\n",
        "int main(){\n",
        "    short int number1 = 0200;\n",
        "    int number2 = 0x33f;\n",
        "    long int number3 = 1234567890;\n",
        "    unsigned long int number4 = 987654321;\n",
        "\n",
        "    cout<<\"短整數 = \"<<number1<<\"所佔位元組\"<<sizeof(number1)<<endl;\n",
        "    cout<<\"整數 = \"<<number2<<\"所佔位元組\"<<sizeof(number2)<<endl;\n",
        "    cout<<\"長整數 = \"<<number3<<\"所佔位元組\"<<sizeof(number3)<<endl;\n",
        "    cout<<\"無號長整數 = \"<<number4<<\"所佔位元組\"<<sizeof(number4)<<endl;\n",
        "\n",
        "    return 0;\n",
        "}"
      ],
      "metadata": {
        "colab": {
          "base_uri": "https://localhost:8080/"
        },
        "id": "GXNyuJpYOAUI",
        "outputId": "1e992da8-55a4-4bd2-cebf-4c570ab4dd9d"
      },
      "execution_count": 9,
      "outputs": [
        {
          "output_type": "stream",
          "name": "stdout",
          "text": [
            "Overwriting CH02_02.cpp\n"
          ]
        }
      ]
    },
    {
      "cell_type": "code",
      "source": [
        "%%shell\n",
        "g++ CH02_02.cpp\n",
        "./a.out"
      ],
      "metadata": {
        "colab": {
          "base_uri": "https://localhost:8080/"
        },
        "id": "Kac0Xw0iRFq_",
        "outputId": "f6be782d-04b1-47ff-a903-d7bd4290bf04"
      },
      "execution_count": 10,
      "outputs": [
        {
          "output_type": "stream",
          "name": "stdout",
          "text": [
            "短整數 = 128所佔位元組2\n",
            "整數 = 831所佔位元組4\n",
            "長整數 = 1234567890所佔位元組8\n",
            "無號長整數 = 987654321所佔位元組8\n"
          ]
        },
        {
          "output_type": "execute_result",
          "data": {
            "text/plain": []
          },
          "metadata": {},
          "execution_count": 10
        }
      ]
    },
    {
      "cell_type": "markdown",
      "source": [
        "# §§ 3 Expression and Operator"
      ],
      "metadata": {
        "id": "Qr2X5MBZWwBh"
      }
    },
    {
      "cell_type": "code",
      "source": [
        "%%writefile CH03_01.cpp\n",
        "#include <iostream>\n",
        "using namespace std;\n",
        "\n",
        "int main(){\n",
        "    int A = 19, B = 6;\n",
        "    cout<<\"A = 21, B = 6 \\n\"<<\" A + B = \"<<A+B<<endl;\n",
        "    cout<<\"A - B = \"<<A-B<<endl;\n",
        "    cout<<\"A * B = \"<<A*B<<endl;\n",
        "    cout<<\"A / B = \"<<A/B<<endl;\n",
        "    cout<<\"A % B = \"<<A%B<<endl;\n",
        "    return 0;\n",
        "}"
      ],
      "metadata": {
        "id": "pKO5QZR7RILV",
        "colab": {
          "base_uri": "https://localhost:8080/"
        },
        "outputId": "ffd25cdb-f36f-4a6a-ee84-c9aea6f81de1"
      },
      "execution_count": 11,
      "outputs": [
        {
          "output_type": "stream",
          "name": "stdout",
          "text": [
            "Overwriting CH03_01.cpp\n"
          ]
        }
      ]
    },
    {
      "cell_type": "code",
      "source": [
        "%%shell\n",
        "g++ CH03_01.cpp\n",
        "./a.out"
      ],
      "metadata": {
        "colab": {
          "base_uri": "https://localhost:8080/"
        },
        "id": "7rx3GEhHa9fC",
        "outputId": "40680ea7-6d51-450f-d35b-6fa3f9195e8b"
      },
      "execution_count": 12,
      "outputs": [
        {
          "output_type": "stream",
          "name": "stdout",
          "text": [
            "A = 21, B = 6 \n",
            " A + B = 25\n",
            "A - B = 13\n",
            "A * B = 114\n",
            "A / B = 3\n",
            "A % B = 1\n"
          ]
        },
        {
          "output_type": "execute_result",
          "data": {
            "text/plain": []
          },
          "metadata": {},
          "execution_count": 12
        }
      ]
    },
    {
      "cell_type": "markdown",
      "source": [
        "# §§ 4 Flow Control"
      ],
      "metadata": {
        "id": "t1ynz0PDW0cg"
      }
    },
    {
      "cell_type": "code",
      "source": [
        "%%writefile CH04_01.cpp\n",
        "#include <iostream>\n",
        "using namespace std;\n",
        "\n",
        "int main(){\n",
        "    int score = 0;\n",
        "\n",
        "    cout<<\"請輸入成績：\";\n",
        "    cin>>score;\n",
        "\n",
        "    if(score>=60) //if else 判斷式\n",
        "        cout<<\"及格\"<<endl;\n",
        "    else\n",
        "        cout<<\"不及格\"<<endl;\n",
        "\n",
        "    return 0;\n",
        "}"
      ],
      "metadata": {
        "colab": {
          "base_uri": "https://localhost:8080/"
        },
        "id": "yOoavUDIW40a",
        "outputId": "fb1aba50-0bee-45fd-e675-1ed801df0aad"
      },
      "execution_count": 13,
      "outputs": [
        {
          "output_type": "stream",
          "name": "stdout",
          "text": [
            "Overwriting CH04_01.cpp\n"
          ]
        }
      ]
    },
    {
      "cell_type": "code",
      "source": [
        "%%shell\n",
        "g++ CH04_01.cpp\n",
        "./a.out"
      ],
      "metadata": {
        "colab": {
          "base_uri": "https://localhost:8080/"
        },
        "id": "kEcLwRkKXcO5",
        "outputId": "482bf726-0a8e-4056-ab9e-afe7c4bddb3b"
      },
      "execution_count": 14,
      "outputs": [
        {
          "output_type": "stream",
          "name": "stdout",
          "text": [
            "請輸入成績：89\n",
            "及格\n"
          ]
        },
        {
          "output_type": "execute_result",
          "data": {
            "text/plain": []
          },
          "metadata": {},
          "execution_count": 14
        }
      ]
    },
    {
      "cell_type": "code",
      "source": [],
      "metadata": {
        "id": "C5P_okPnXeNQ"
      },
      "execution_count": 14,
      "outputs": []
    },
    {
      "cell_type": "markdown",
      "source": [
        "# §§ 5 Array and String"
      ],
      "metadata": {
        "id": "1MPEdhOocDl7"
      }
    },
    {
      "cell_type": "code",
      "source": [
        "%%writefile CH05_01.cpp\n",
        "#include <iostream>\n",
        "using namespace std;\n",
        "\n",
        "int main(){\n",
        "    int score[8] = {7, 22, 36};\n",
        "    int Temp[] = {1, 2, 3, 4, 5};\n",
        "    int i;\n",
        "\n",
        "    for(i=0; i<8; i++)\n",
        "    {\n",
        "        cout<<\"score[\"<<i<<\"] = \"<<score[i]<<endl;\n",
        "    }\n",
        "\n",
        "    cout<<\"\\n\"<<\"Temp陣列大小 = \"<<sizeof(Temp)/sizeof(Temp[0])<<endl;\n",
        "\n",
        "    return 0;\n",
        "\n",
        "}"
      ],
      "metadata": {
        "colab": {
          "base_uri": "https://localhost:8080/"
        },
        "id": "1A6Ke11QcJ-1",
        "outputId": "f9f7904a-ab5d-4700-e1b6-92bb3219415d"
      },
      "execution_count": 15,
      "outputs": [
        {
          "output_type": "stream",
          "name": "stdout",
          "text": [
            "Overwriting CH05_01.cpp\n"
          ]
        }
      ]
    },
    {
      "cell_type": "code",
      "source": [
        "%%shell\n",
        "g++ CH05_01.cpp\n",
        "./a.out"
      ],
      "metadata": {
        "colab": {
          "base_uri": "https://localhost:8080/"
        },
        "id": "cLIRnRdXd298",
        "outputId": "02e825f8-96ce-43e1-8fe5-0c8d04edcd7a"
      },
      "execution_count": 16,
      "outputs": [
        {
          "output_type": "stream",
          "name": "stdout",
          "text": [
            "score[0] = 7\n",
            "score[1] = 22\n",
            "score[2] = 36\n",
            "score[3] = 0\n",
            "score[4] = 0\n",
            "score[5] = 0\n",
            "score[6] = 0\n",
            "score[7] = 0\n",
            "\n",
            "Temp陣列大小 = 5\n"
          ]
        },
        {
          "output_type": "execute_result",
          "data": {
            "text/plain": []
          },
          "metadata": {},
          "execution_count": 16
        }
      ]
    },
    {
      "cell_type": "code",
      "source": [],
      "metadata": {
        "id": "Q1ybBBf4d93W"
      },
      "execution_count": 16,
      "outputs": []
    }
  ]
}