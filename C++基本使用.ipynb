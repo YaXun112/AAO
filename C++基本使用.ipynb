{
  "nbformat": 4,
  "nbformat_minor": 0,
  "metadata": {
    "colab": {
      "provenance": [],
      "authorship_tag": "ABX9TyPJPvRTqEbNS4Iv65x8sOGo",
      "include_colab_link": true
    },
    "kernelspec": {
      "name": "python3",
      "display_name": "Python 3"
    },
    "language_info": {
      "name": "python"
    }
  },
  "cells": [
    {
      "cell_type": "markdown",
      "metadata": {
        "id": "view-in-github",
        "colab_type": "text"
      },
      "source": [
        "<a href=\"https://colab.research.google.com/github/YaXun112/Colab/blob/C%2FC%2B%2B/C%2B%2B%E5%9F%BA%E6%9C%AC%E4%BD%BF%E7%94%A8.ipynb\" target=\"_parent\"><img src=\"https://colab.research.google.com/assets/colab-badge.svg\" alt=\"Open In Colab\"/></a>"
      ]
    },
    {
      "cell_type": "markdown",
      "source": [
        "# §§ 1 Preparing"
      ],
      "metadata": {
        "id": "JKAQCkO7Mq-M"
      }
    },
    {
      "cell_type": "code",
      "source": [
        "# %lsmagic"
      ],
      "metadata": {
        "id": "Z69a6jvRuJ-w"
      },
      "execution_count": 1,
      "outputs": []
    },
    {
      "cell_type": "code",
      "source": [
        "# %%writefile?"
      ],
      "metadata": {
        "id": "KvnFgNYpt3bX"
      },
      "execution_count": 2,
      "outputs": []
    },
    {
      "cell_type": "code",
      "source": [
        "%%writefile Hello.cpp\n",
        "#include<iostream>\n",
        "using namespace std;\n",
        "\n",
        "int main(){\n",
        "    cout<<\"Hello World\"<<endl;\n",
        "    return 0;\n",
        "}"
      ],
      "metadata": {
        "colab": {
          "base_uri": "https://localhost:8080/"
        },
        "id": "qlmijhi2u9cU",
        "outputId": "125febf1-d79b-4785-f8f0-a82906b50681"
      },
      "execution_count": 3,
      "outputs": [
        {
          "output_type": "stream",
          "name": "stdout",
          "text": [
            "Writing Hello.cpp\n"
          ]
        }
      ]
    },
    {
      "cell_type": "code",
      "source": [
        "# %%bash?"
      ],
      "metadata": {
        "id": "nhjMKd-OvibW"
      },
      "execution_count": 4,
      "outputs": []
    },
    {
      "cell_type": "code",
      "source": [
        "# %%shell?"
      ],
      "metadata": {
        "id": "Gs3_XPScv4tr"
      },
      "execution_count": 5,
      "outputs": []
    },
    {
      "cell_type": "code",
      "source": [
        "%%shell\n",
        "g++ Hello.cpp\n",
        "./a.out"
      ],
      "metadata": {
        "colab": {
          "base_uri": "https://localhost:8080/"
        },
        "id": "pZKvs5hNv-fq",
        "outputId": "86a96e38-93e5-4bb1-eef3-e86513f4e474"
      },
      "execution_count": 6,
      "outputs": [
        {
          "output_type": "stream",
          "name": "stdout",
          "text": [
            "Hello World\n"
          ]
        },
        {
          "output_type": "execute_result",
          "data": {
            "text/plain": []
          },
          "metadata": {},
          "execution_count": 6
        }
      ]
    },
    {
      "cell_type": "markdown",
      "source": [
        "# §§ 2 Variant, Constant and Data Type"
      ],
      "metadata": {
        "id": "X5bCz2TvNBSA"
      }
    },
    {
      "cell_type": "code",
      "source": [
        "%%writefile CH02_01.cpp\n",
        "#include<iostream>\n",
        "using namespace std;\n",
        "\n",
        "int main(){\n",
        "    int a;\n",
        "    int b = 12;\n",
        "    cout<<\"a = \"<<a<<endl; //print a non-initialized variant a\n",
        "    cout<<\"b = \"<<b<<endl; //print a initialized variant b\n",
        "    return 0;\n",
        "}\n"
      ],
      "metadata": {
        "id": "CSmoYA4twMiw",
        "colab": {
          "base_uri": "https://localhost:8080/"
        },
        "outputId": "080808e1-b889-4946-b68e-23475e4c32bc"
      },
      "execution_count": 9,
      "outputs": [
        {
          "output_type": "stream",
          "name": "stdout",
          "text": [
            "Overwriting CH02_01.cpp\n"
          ]
        }
      ]
    },
    {
      "cell_type": "code",
      "source": [
        "%%shell\n",
        "g++ CH02_01.cpp\n",
        "./a.out"
      ],
      "metadata": {
        "colab": {
          "base_uri": "https://localhost:8080/"
        },
        "id": "QOt-RJguN9qi",
        "outputId": "6d57ef04-1ac2-42af-ec99-2040e86f76e9"
      },
      "execution_count": 10,
      "outputs": [
        {
          "output_type": "stream",
          "name": "stdout",
          "text": [
            "a = 0\n",
            "b = 12\n"
          ]
        },
        {
          "output_type": "execute_result",
          "data": {
            "text/plain": []
          },
          "metadata": {},
          "execution_count": 10
        }
      ]
    },
    {
      "cell_type": "code",
      "source": [
        "%%writefile CH02_02.cpp\n",
        "#include<iostream>\n",
        "using namespace std;\n",
        "\n",
        "int main(){\n",
        "    short int number1 = 0200;\n",
        "    int number2 = 0x33f;\n",
        "    long int number3 = 1234567890;\n",
        "    unsigned long int number4 = 987654321;\n",
        "\n",
        "    cout<<\"短整數 = \"<<number1<<\"所佔位元組\"<<sizeof(number1)<<endl;\n",
        "    cout<<\"整數 = \"<<number2<<\"所佔位元組\"<<sizeof(number2)<<endl;\n",
        "    cout<<\"長整數 = \"<<number3<<\"所佔位元組\"<<sizeof(number3)<<endl;\n",
        "    cout<<\"無號長整數 = \"<<number4<<\"所佔位元組\"<<sizeof(number4)<<endl;\n",
        "\n",
        "    return 0;\n",
        "}"
      ],
      "metadata": {
        "colab": {
          "base_uri": "https://localhost:8080/"
        },
        "id": "GXNyuJpYOAUI",
        "outputId": "c6c27744-54a4-437d-a158-9bc7a21e9746"
      },
      "execution_count": 11,
      "outputs": [
        {
          "output_type": "stream",
          "name": "stdout",
          "text": [
            "Writing CH02_02.cpp\n"
          ]
        }
      ]
    },
    {
      "cell_type": "code",
      "source": [
        "%%shell\n",
        "g++ CH02_02.cpp\n",
        "./a.out"
      ],
      "metadata": {
        "colab": {
          "base_uri": "https://localhost:8080/"
        },
        "id": "Kac0Xw0iRFq_",
        "outputId": "87e6853a-b03c-4c8b-fd3c-78d23232bfbe"
      },
      "execution_count": 13,
      "outputs": [
        {
          "output_type": "stream",
          "name": "stdout",
          "text": [
            "短整數 = 128所佔位元組2\n",
            "整數 = 831所佔位元組4\n",
            "長整數 = 1234567890所佔位元組8\n",
            "無號長整數 = 987654321所佔位元組8\n"
          ]
        },
        {
          "output_type": "execute_result",
          "data": {
            "text/plain": []
          },
          "metadata": {},
          "execution_count": 13
        }
      ]
    },
    {
      "cell_type": "code",
      "source": [],
      "metadata": {
        "id": "pKO5QZR7RILV"
      },
      "execution_count": null,
      "outputs": []
    }
  ]
}