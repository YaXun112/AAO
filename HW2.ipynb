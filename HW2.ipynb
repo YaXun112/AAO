{
  "nbformat": 4,
  "nbformat_minor": 0,
  "metadata": {
    "colab": {
      "provenance": [],
      "authorship_tag": "ABX9TyPMl27HgxSf+XHEkHmYjLDW",
      "include_colab_link": true
    },
    "kernelspec": {
      "name": "python3",
      "display_name": "Python 3"
    },
    "language_info": {
      "name": "python"
    }
  },
  "cells": [
    {
      "cell_type": "markdown",
      "metadata": {
        "id": "view-in-github",
        "colab_type": "text"
      },
      "source": [
        "<a href=\"https://colab.research.google.com/github/YaXun112/Colab/blob/DL/HW2.ipynb\" target=\"_parent\"><img src=\"https://colab.research.google.com/assets/colab-badge.svg\" alt=\"Open In Colab\"/></a>"
      ]
    },
    {
      "cell_type": "code",
      "execution_count": 1,
      "metadata": {
        "id": "cqxXqcgFeVhb"
      },
      "outputs": [],
      "source": [
        "import pandas as pd\n",
        "import numpy as np\n",
        "from sklearn.impute import SimpleImputer\n",
        "from sklearn.preprocessing import LabelEncoder, OneHotEncoder, StandardScaler\n",
        "from sklearn.model_selection import train_test_split"
      ]
    },
    {
      "cell_type": "code",
      "source": [
        "import os\n",
        "\n",
        "Dataset_File = \"HealthCheck.csv\"\n",
        "if not os.path.isfile(Dataset_File):\n",
        "  os.system(\"wget https://raw.githubusercontent.com/cnchi/datasets/master/\" + Dataset_File)"
      ],
      "metadata": {
        "id": "DEViYCtce3PK"
      },
      "execution_count": 2,
      "outputs": []
    },
    {
      "cell_type": "code",
      "source": [
        "dfCSV = pd.read_csv(\"HealthCheck.csv\")\n",
        "print(dfCSV)"
      ],
      "metadata": {
        "colab": {
          "base_uri": "https://localhost:8080/"
        },
        "id": "mD_LJjiCe-Ls",
        "outputId": "8e0c3a67-6c50-4d79-f58f-c5bda15eb971"
      },
      "execution_count": 3,
      "outputs": [
        {
          "output_type": "stream",
          "name": "stdout",
          "text": [
            "      Race  Height_cm  Weight_kg Over70yr\n",
            "0    White      186.0       90.0      Yes\n",
            "1  African      185.0       98.0       No\n",
            "2    Asian      175.0       80.0       No\n",
            "3  African      170.0       75.0      Yes\n",
            "4    Asian      164.0        NaN       No\n",
            "5    Asian      170.0       72.0      Yes\n",
            "6    White      178.0       75.0       No\n",
            "7    White        NaN       89.0      Yes\n",
            "8  African      165.0       79.0      Yes\n"
          ]
        }
      ]
    },
    {
      "cell_type": "code",
      "source": [
        "X = dfCSV.iloc[:, :-1].values\n",
        "Y = dfCSV.iloc[:, 3].values"
      ],
      "metadata": {
        "id": "kzi9WD47fDon"
      },
      "execution_count": 4,
      "outputs": []
    },
    {
      "cell_type": "code",
      "source": [
        "print(X)"
      ],
      "metadata": {
        "colab": {
          "base_uri": "https://localhost:8080/"
        },
        "id": "uuK1aL0jiuiZ",
        "outputId": "44ad3fa8-5d24-424d-fde0-5a05167859f2"
      },
      "execution_count": 5,
      "outputs": [
        {
          "output_type": "stream",
          "name": "stdout",
          "text": [
            "[['White' 186.0 90.0]\n",
            " ['African' 185.0 98.0]\n",
            " ['Asian' 175.0 80.0]\n",
            " ['African' 170.0 75.0]\n",
            " ['Asian' 164.0 nan]\n",
            " ['Asian' 170.0 72.0]\n",
            " ['White' 178.0 75.0]\n",
            " ['White' nan 89.0]\n",
            " ['African' 165.0 79.0]]\n"
          ]
        }
      ]
    },
    {
      "cell_type": "code",
      "source": [
        "print(Y)"
      ],
      "metadata": {
        "colab": {
          "base_uri": "https://localhost:8080/"
        },
        "id": "MljC6qcWi4cz",
        "outputId": "c02d7fdc-13e1-472c-f4f8-182158069e9a"
      },
      "execution_count": 6,
      "outputs": [
        {
          "output_type": "stream",
          "name": "stdout",
          "text": [
            "['Yes' 'No' 'No' 'Yes' 'No' 'Yes' 'No' 'Yes' 'Yes']\n"
          ]
        }
      ]
    },
    {
      "cell_type": "code",
      "source": [
        "imputer = SimpleImputer(missing_values=np.nan, strategy='mean')\n",
        "imputer.fit(X[:, 1:3])\n",
        "X[:, 1:3] = imputer.transform(X[:, 1:3])"
      ],
      "metadata": {
        "id": "36-Z39RMi_Dd"
      },
      "execution_count": 7,
      "outputs": []
    },
    {
      "cell_type": "code",
      "source": [
        "print(X)"
      ],
      "metadata": {
        "colab": {
          "base_uri": "https://localhost:8080/"
        },
        "id": "vqIasDXHjoKx",
        "outputId": "a89b8ff9-199b-48ca-8e8e-5635e663e6ac"
      },
      "execution_count": 8,
      "outputs": [
        {
          "output_type": "stream",
          "name": "stdout",
          "text": [
            "[['White' 186.0 90.0]\n",
            " ['African' 185.0 98.0]\n",
            " ['Asian' 175.0 80.0]\n",
            " ['African' 170.0 75.0]\n",
            " ['Asian' 164.0 82.25]\n",
            " ['Asian' 170.0 72.0]\n",
            " ['White' 178.0 75.0]\n",
            " ['White' 174.125 89.0]\n",
            " ['African' 165.0 79.0]]\n"
          ]
        }
      ]
    },
    {
      "cell_type": "code",
      "source": [
        "LabelEncoder = LabelEncoder()\n",
        "\n",
        "Y = LabelEncoder.fit_transform(Y).astype('float64')"
      ],
      "metadata": {
        "id": "aaNxtNQEkSzA"
      },
      "execution_count": 9,
      "outputs": []
    },
    {
      "cell_type": "code",
      "source": [
        "print(Y)"
      ],
      "metadata": {
        "colab": {
          "base_uri": "https://localhost:8080/"
        },
        "id": "0LBezAbQlQor",
        "outputId": "e4236394-a564-4769-8f05-93bc87910098"
      },
      "execution_count": 10,
      "outputs": [
        {
          "output_type": "stream",
          "name": "stdout",
          "text": [
            "[1. 0. 0. 1. 0. 1. 0. 1. 1.]\n"
          ]
        }
      ]
    },
    {
      "cell_type": "code",
      "source": [
        "ary_dummies = OneHotEncoder().fit_transform(X[:, 0].reshape(-1, 1)).toarray()\n",
        "X = np.delete(X, 0, 1)\n",
        "X = np.concatenate((ary_dummies, X), axis=1)"
      ],
      "metadata": {
        "id": "Pt56lvmAnPtW"
      },
      "execution_count": 11,
      "outputs": []
    },
    {
      "cell_type": "code",
      "source": [
        "print(ary_dummies)"
      ],
      "metadata": {
        "colab": {
          "base_uri": "https://localhost:8080/"
        },
        "id": "Qp1fftA0oFEx",
        "outputId": "843b9448-57dc-40de-8ca6-40791c502cf6"
      },
      "execution_count": 12,
      "outputs": [
        {
          "output_type": "stream",
          "name": "stdout",
          "text": [
            "[[0. 0. 1.]\n",
            " [1. 0. 0.]\n",
            " [0. 1. 0.]\n",
            " [1. 0. 0.]\n",
            " [0. 1. 0.]\n",
            " [0. 1. 0.]\n",
            " [0. 0. 1.]\n",
            " [0. 0. 1.]\n",
            " [1. 0. 0.]]\n"
          ]
        }
      ]
    },
    {
      "cell_type": "code",
      "source": [
        "print(X)"
      ],
      "metadata": {
        "colab": {
          "base_uri": "https://localhost:8080/"
        },
        "id": "mgnkRRtIou1c",
        "outputId": "e457a9f2-bfd0-4b57-e12f-5c11faa5630b"
      },
      "execution_count": 13,
      "outputs": [
        {
          "output_type": "stream",
          "name": "stdout",
          "text": [
            "[[0.0 0.0 1.0 186.0 90.0]\n",
            " [1.0 0.0 0.0 185.0 98.0]\n",
            " [0.0 1.0 0.0 175.0 80.0]\n",
            " [1.0 0.0 0.0 170.0 75.0]\n",
            " [0.0 1.0 0.0 164.0 82.25]\n",
            " [0.0 1.0 0.0 170.0 72.0]\n",
            " [0.0 0.0 1.0 178.0 75.0]\n",
            " [0.0 0.0 1.0 174.125 89.0]\n",
            " [1.0 0.0 0.0 165.0 79.0]]\n"
          ]
        }
      ]
    },
    {
      "cell_type": "code",
      "source": [
        "X_train, X_test, Y_train, Y_test = train_test_split(X, Y, test_size=0.2, random_state=0)"
      ],
      "metadata": {
        "id": "1d9CA4DPlZmK"
      },
      "execution_count": 14,
      "outputs": []
    },
    {
      "cell_type": "code",
      "source": [
        "sc_X = StandardScaler()\n",
        "X_train = sc_X.fit_transform(X_train)\n",
        "X_test = sc_X.transform(X_test)"
      ],
      "metadata": {
        "id": "TKJMMxfPl25Z"
      },
      "execution_count": 15,
      "outputs": []
    },
    {
      "cell_type": "code",
      "source": [
        "print('自變數訓練集：\\n',X_train,'\\n')\n",
        "print('應變數訓練集：\\n',Y_train,'\\n')\n",
        "print('自變數測試集：\\n',X_test,'\\n')\n",
        "print('應變數測試集：\\n',Y_test,'\\n')"
      ],
      "metadata": {
        "colab": {
          "base_uri": "https://localhost:8080/"
        },
        "id": "cO72y62ZmTgG",
        "outputId": "1b805519-4efa-46b4-d0b7-bfc2178202cd"
      },
      "execution_count": 16,
      "outputs": [
        {
          "output_type": "stream",
          "name": "stdout",
          "text": [
            "自變數訓練集：\n",
            " [[ 1.15470054 -0.63245553 -0.63245553  1.30941777  1.89111602]\n",
            " [-0.8660254   1.58113883 -0.63245553 -1.19037979  0.07416141]\n",
            " [ 1.15470054 -0.63245553 -0.63245553 -1.07134181 -0.30076573]\n",
            " [-0.8660254  -0.63245553  1.58113883  0.47615192 -0.76221452]\n",
            " [ 1.15470054 -0.63245553 -0.63245553 -0.47615192 -0.76221452]\n",
            " [-0.8660254  -0.63245553  1.58113883  1.42845575  0.96821844]\n",
            " [-0.8660254   1.58113883 -0.63245553 -0.47615192 -1.10830111]] \n",
            "\n",
            "應變數訓練集：\n",
            " [0. 0. 1. 0. 1. 1. 1.] \n",
            "\n",
            "自變數測試集：\n",
            " [[-0.8660254  -0.63245553  1.58113883  0.01487975  0.85285625]\n",
            " [-0.8660254   1.58113883 -0.63245553  0.11903798 -0.18540353]] \n",
            "\n",
            "應變數測試集：\n",
            " [1. 0.] \n",
            "\n"
          ]
        }
      ]
    },
    {
      "cell_type": "code",
      "source": [],
      "metadata": {
        "id": "3DXHWHbapfuZ"
      },
      "execution_count": 16,
      "outputs": []
    }
  ]
}